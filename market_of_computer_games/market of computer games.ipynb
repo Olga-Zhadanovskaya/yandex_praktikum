{
 "cells": [
  {
   "cell_type": "markdown",
   "metadata": {},
   "source": [
    "# Анализ рынка компьютерных игр"
   ]
  },
  {
   "cell_type": "markdown",
   "metadata": {},
   "source": [
    "## Подготовка данных"
   ]
  },
  {
   "cell_type": "code",
   "execution_count": 1,
   "metadata": {},
   "outputs": [],
   "source": [
    "# импортируем необходимые библиотеки\n",
    "import pandas as pd\n",
    "import matplotlib.pyplot as plt\n",
    "import seaborn as sns\n",
    "from datetime import datetime as dt\n",
    "import numpy as np\n",
    "from scipy import stats as st"
   ]
  },
  {
   "cell_type": "code",
   "execution_count": 2,
   "metadata": {
    "scrolled": false
   },
   "outputs": [
    {
     "data": {
      "text/html": [
       "<div>\n",
       "<style scoped>\n",
       "    .dataframe tbody tr th:only-of-type {\n",
       "        vertical-align: middle;\n",
       "    }\n",
       "\n",
       "    .dataframe tbody tr th {\n",
       "        vertical-align: top;\n",
       "    }\n",
       "\n",
       "    .dataframe thead th {\n",
       "        text-align: right;\n",
       "    }\n",
       "</style>\n",
       "<table border=\"1\" class=\"dataframe\">\n",
       "  <thead>\n",
       "    <tr style=\"text-align: right;\">\n",
       "      <th></th>\n",
       "      <th>Name</th>\n",
       "      <th>Platform</th>\n",
       "      <th>Year_of_Release</th>\n",
       "      <th>Genre</th>\n",
       "      <th>NA_sales</th>\n",
       "      <th>EU_sales</th>\n",
       "      <th>JP_sales</th>\n",
       "      <th>Other_sales</th>\n",
       "      <th>Critic_Score</th>\n",
       "      <th>User_Score</th>\n",
       "      <th>Rating</th>\n",
       "    </tr>\n",
       "  </thead>\n",
       "  <tbody>\n",
       "    <tr>\n",
       "      <th>0</th>\n",
       "      <td>Wii Sports</td>\n",
       "      <td>Wii</td>\n",
       "      <td>2006.0</td>\n",
       "      <td>Sports</td>\n",
       "      <td>41.36</td>\n",
       "      <td>28.96</td>\n",
       "      <td>3.77</td>\n",
       "      <td>8.45</td>\n",
       "      <td>76.0</td>\n",
       "      <td>8</td>\n",
       "      <td>E</td>\n",
       "    </tr>\n",
       "    <tr>\n",
       "      <th>1</th>\n",
       "      <td>Super Mario Bros.</td>\n",
       "      <td>NES</td>\n",
       "      <td>1985.0</td>\n",
       "      <td>Platform</td>\n",
       "      <td>29.08</td>\n",
       "      <td>3.58</td>\n",
       "      <td>6.81</td>\n",
       "      <td>0.77</td>\n",
       "      <td>NaN</td>\n",
       "      <td>NaN</td>\n",
       "      <td>NaN</td>\n",
       "    </tr>\n",
       "    <tr>\n",
       "      <th>2</th>\n",
       "      <td>Mario Kart Wii</td>\n",
       "      <td>Wii</td>\n",
       "      <td>2008.0</td>\n",
       "      <td>Racing</td>\n",
       "      <td>15.68</td>\n",
       "      <td>12.76</td>\n",
       "      <td>3.79</td>\n",
       "      <td>3.29</td>\n",
       "      <td>82.0</td>\n",
       "      <td>8.3</td>\n",
       "      <td>E</td>\n",
       "    </tr>\n",
       "    <tr>\n",
       "      <th>3</th>\n",
       "      <td>Wii Sports Resort</td>\n",
       "      <td>Wii</td>\n",
       "      <td>2009.0</td>\n",
       "      <td>Sports</td>\n",
       "      <td>15.61</td>\n",
       "      <td>10.93</td>\n",
       "      <td>3.28</td>\n",
       "      <td>2.95</td>\n",
       "      <td>80.0</td>\n",
       "      <td>8</td>\n",
       "      <td>E</td>\n",
       "    </tr>\n",
       "    <tr>\n",
       "      <th>4</th>\n",
       "      <td>Pokemon Red/Pokemon Blue</td>\n",
       "      <td>GB</td>\n",
       "      <td>1996.0</td>\n",
       "      <td>Role-Playing</td>\n",
       "      <td>11.27</td>\n",
       "      <td>8.89</td>\n",
       "      <td>10.22</td>\n",
       "      <td>1.00</td>\n",
       "      <td>NaN</td>\n",
       "      <td>NaN</td>\n",
       "      <td>NaN</td>\n",
       "    </tr>\n",
       "  </tbody>\n",
       "</table>\n",
       "</div>"
      ],
      "text/plain": [
       "                       Name Platform  Year_of_Release         Genre  NA_sales  \\\n",
       "0                Wii Sports      Wii           2006.0        Sports     41.36   \n",
       "1         Super Mario Bros.      NES           1985.0      Platform     29.08   \n",
       "2            Mario Kart Wii      Wii           2008.0        Racing     15.68   \n",
       "3         Wii Sports Resort      Wii           2009.0        Sports     15.61   \n",
       "4  Pokemon Red/Pokemon Blue       GB           1996.0  Role-Playing     11.27   \n",
       "\n",
       "   EU_sales  JP_sales  Other_sales  Critic_Score User_Score Rating  \n",
       "0     28.96      3.77         8.45          76.0          8      E  \n",
       "1      3.58      6.81         0.77           NaN        NaN    NaN  \n",
       "2     12.76      3.79         3.29          82.0        8.3      E  \n",
       "3     10.93      3.28         2.95          80.0          8      E  \n",
       "4      8.89     10.22         1.00           NaN        NaN    NaN  "
      ]
     },
     "metadata": {},
     "output_type": "display_data"
    },
    {
     "name": "stdout",
     "output_type": "stream",
     "text": [
      "<class 'pandas.core.frame.DataFrame'>\n",
      "RangeIndex: 16715 entries, 0 to 16714\n",
      "Data columns (total 11 columns):\n",
      " #   Column           Non-Null Count  Dtype  \n",
      "---  ------           --------------  -----  \n",
      " 0   Name             16713 non-null  object \n",
      " 1   Platform         16715 non-null  object \n",
      " 2   Year_of_Release  16446 non-null  float64\n",
      " 3   Genre            16713 non-null  object \n",
      " 4   NA_sales         16715 non-null  float64\n",
      " 5   EU_sales         16715 non-null  float64\n",
      " 6   JP_sales         16715 non-null  float64\n",
      " 7   Other_sales      16715 non-null  float64\n",
      " 8   Critic_Score     8137 non-null   float64\n",
      " 9   User_Score       10014 non-null  object \n",
      " 10  Rating           9949 non-null   object \n",
      "dtypes: float64(6), object(5)\n",
      "memory usage: 1.4+ MB\n"
     ]
    }
   ],
   "source": [
    "#запишем данные в переменную data\n",
    "data = pd.read_csv('/datasets/games.csv')\n",
    "\n",
    "display(data.head()) # выведем первые 5 строк датафрейма\n",
    "data.info() # выведем информацию о датафрейме"
   ]
  },
  {
   "cell_type": "markdown",
   "metadata": {},
   "source": [
    "В датафрейме содержится информация о 16715 играх, пропуски наблюдаются в 6 столбцах: name, year_of_release, genre, critic_score, user_store, rating. Кроме того есть ошибки в типах данных в столбцах year_of_release и user_store. необходимо также привести все наименования столбцов и данные в некоторых столбцах к единому виду -  изменить их на нижний регистр."
   ]
  },
  {
   "cell_type": "code",
   "execution_count": 3,
   "metadata": {},
   "outputs": [
    {
     "data": {
      "text/html": [
       "<div>\n",
       "<style scoped>\n",
       "    .dataframe tbody tr th:only-of-type {\n",
       "        vertical-align: middle;\n",
       "    }\n",
       "\n",
       "    .dataframe tbody tr th {\n",
       "        vertical-align: top;\n",
       "    }\n",
       "\n",
       "    .dataframe thead th {\n",
       "        text-align: right;\n",
       "    }\n",
       "</style>\n",
       "<table border=\"1\" class=\"dataframe\">\n",
       "  <thead>\n",
       "    <tr style=\"text-align: right;\">\n",
       "      <th></th>\n",
       "      <th>name</th>\n",
       "      <th>platform</th>\n",
       "      <th>year_of_release</th>\n",
       "      <th>genre</th>\n",
       "      <th>na_sales</th>\n",
       "      <th>eu_sales</th>\n",
       "      <th>jp_sales</th>\n",
       "      <th>other_sales</th>\n",
       "      <th>critic_score</th>\n",
       "      <th>user_score</th>\n",
       "      <th>rating</th>\n",
       "    </tr>\n",
       "  </thead>\n",
       "  <tbody>\n",
       "    <tr>\n",
       "      <th>0</th>\n",
       "      <td>wii sports</td>\n",
       "      <td>wii</td>\n",
       "      <td>2006.0</td>\n",
       "      <td>sports</td>\n",
       "      <td>41.36</td>\n",
       "      <td>28.96</td>\n",
       "      <td>3.77</td>\n",
       "      <td>8.45</td>\n",
       "      <td>76.0</td>\n",
       "      <td>8</td>\n",
       "      <td>e</td>\n",
       "    </tr>\n",
       "    <tr>\n",
       "      <th>1</th>\n",
       "      <td>super mario bros.</td>\n",
       "      <td>nes</td>\n",
       "      <td>1985.0</td>\n",
       "      <td>platform</td>\n",
       "      <td>29.08</td>\n",
       "      <td>3.58</td>\n",
       "      <td>6.81</td>\n",
       "      <td>0.77</td>\n",
       "      <td>NaN</td>\n",
       "      <td>NaN</td>\n",
       "      <td>NaN</td>\n",
       "    </tr>\n",
       "    <tr>\n",
       "      <th>2</th>\n",
       "      <td>mario kart wii</td>\n",
       "      <td>wii</td>\n",
       "      <td>2008.0</td>\n",
       "      <td>racing</td>\n",
       "      <td>15.68</td>\n",
       "      <td>12.76</td>\n",
       "      <td>3.79</td>\n",
       "      <td>3.29</td>\n",
       "      <td>82.0</td>\n",
       "      <td>8.3</td>\n",
       "      <td>e</td>\n",
       "    </tr>\n",
       "    <tr>\n",
       "      <th>3</th>\n",
       "      <td>wii sports resort</td>\n",
       "      <td>wii</td>\n",
       "      <td>2009.0</td>\n",
       "      <td>sports</td>\n",
       "      <td>15.61</td>\n",
       "      <td>10.93</td>\n",
       "      <td>3.28</td>\n",
       "      <td>2.95</td>\n",
       "      <td>80.0</td>\n",
       "      <td>8</td>\n",
       "      <td>e</td>\n",
       "    </tr>\n",
       "    <tr>\n",
       "      <th>4</th>\n",
       "      <td>pokemon red/pokemon blue</td>\n",
       "      <td>gb</td>\n",
       "      <td>1996.0</td>\n",
       "      <td>role-playing</td>\n",
       "      <td>11.27</td>\n",
       "      <td>8.89</td>\n",
       "      <td>10.22</td>\n",
       "      <td>1.00</td>\n",
       "      <td>NaN</td>\n",
       "      <td>NaN</td>\n",
       "      <td>NaN</td>\n",
       "    </tr>\n",
       "  </tbody>\n",
       "</table>\n",
       "</div>"
      ],
      "text/plain": [
       "                       name platform  year_of_release         genre  na_sales  \\\n",
       "0                wii sports      wii           2006.0        sports     41.36   \n",
       "1         super mario bros.      nes           1985.0      platform     29.08   \n",
       "2            mario kart wii      wii           2008.0        racing     15.68   \n",
       "3         wii sports resort      wii           2009.0        sports     15.61   \n",
       "4  pokemon red/pokemon blue       gb           1996.0  role-playing     11.27   \n",
       "\n",
       "   eu_sales  jp_sales  other_sales  critic_score user_score rating  \n",
       "0     28.96      3.77         8.45          76.0          8      e  \n",
       "1      3.58      6.81         0.77           NaN        NaN    NaN  \n",
       "2     12.76      3.79         3.29          82.0        8.3      e  \n",
       "3     10.93      3.28         2.95          80.0          8      e  \n",
       "4      8.89     10.22         1.00           NaN        NaN    NaN  "
      ]
     },
     "execution_count": 3,
     "metadata": {},
     "output_type": "execute_result"
    }
   ],
   "source": [
    "# приводим названия столбцов и данные к нижнему регистру\n",
    "data.columns = data.columns.str.lower()\n",
    "data['name'] = data['name'].str.lower()\n",
    "data['platform'] = data['platform'].str.lower()\n",
    "data['genre'] = data['genre'].str.lower()\n",
    "data['rating'] = data['rating'].str.lower()\n",
    "data.head()"
   ]
  },
  {
   "cell_type": "code",
   "execution_count": 4,
   "metadata": {
    "scrolled": true
   },
   "outputs": [
    {
     "data": {
      "text/plain": [
       "0"
      ]
     },
     "execution_count": 4,
     "metadata": {},
     "output_type": "execute_result"
    }
   ],
   "source": [
    "# считаем количество явных дубликатов\n",
    "data.duplicated().sum()"
   ]
  },
  {
   "cell_type": "markdown",
   "metadata": {},
   "source": [
    "Явные дубликаты не обнаружены."
   ]
  },
  {
   "cell_type": "code",
   "execution_count": 5,
   "metadata": {
    "scrolled": true
   },
   "outputs": [
    {
     "data": {
      "text/plain": [
       "name                  2\n",
       "platform              0\n",
       "year_of_release     269\n",
       "genre                 2\n",
       "na_sales              0\n",
       "eu_sales              0\n",
       "jp_sales              0\n",
       "other_sales           0\n",
       "critic_score       8578\n",
       "user_score         6701\n",
       "rating             6766\n",
       "dtype: int64"
      ]
     },
     "execution_count": 5,
     "metadata": {},
     "output_type": "execute_result"
    }
   ],
   "source": [
    "# считаем количество пропусков\n",
    "data.isna().sum()"
   ]
  },
  {
   "cell_type": "markdown",
   "metadata": {},
   "source": [
    "Достаточно большое количество пропусков наблюдается к столбцах, связанных с оценкой игр и их рейтингом. Кроме того пропуски есть в столбцах name, genre и year_of_release.\n",
    "\n",
    "Проруски могут быть связаны с техническими ошибками, с ошибками при занесении информации в таблицу. Также пропуски в столбцах с оценками и рейтингом могут быть связаны с тем, что игры не оценивались вовсе (например новые или непопулярные игры, локальные игры).\n",
    "\n",
    "Пропуски в столбцах name, genre и year_of_release удалим из датафрейма, так как их немного. Остальные пропуски рассмотрим подробнее."
   ]
  },
  {
   "cell_type": "code",
   "execution_count": 6,
   "metadata": {},
   "outputs": [],
   "source": [
    "# удвляем пропуски в столбцах name, genre и year_of_release\n",
    "data = data.dropna(subset=['name', 'year_of_release', 'genre'])"
   ]
  },
  {
   "cell_type": "markdown",
   "metadata": {},
   "source": [
    "При наличии признака, сильно влияющего на оценку критиков, можно было бы заполнить пропуски в этом столбце медианным значением признака по группам. Проверим есть ли сильная корреляция между признаками."
   ]
  },
  {
   "cell_type": "code",
   "execution_count": 7,
   "metadata": {},
   "outputs": [
    {
     "data": {
      "text/html": [
       "<div>\n",
       "<style scoped>\n",
       "    .dataframe tbody tr th:only-of-type {\n",
       "        vertical-align: middle;\n",
       "    }\n",
       "\n",
       "    .dataframe tbody tr th {\n",
       "        vertical-align: top;\n",
       "    }\n",
       "\n",
       "    .dataframe thead th {\n",
       "        text-align: right;\n",
       "    }\n",
       "</style>\n",
       "<table border=\"1\" class=\"dataframe\">\n",
       "  <thead>\n",
       "    <tr style=\"text-align: right;\">\n",
       "      <th></th>\n",
       "      <th>name</th>\n",
       "      <th>platform</th>\n",
       "      <th>year_of_release</th>\n",
       "      <th>genre</th>\n",
       "      <th>na_sales</th>\n",
       "      <th>eu_sales</th>\n",
       "      <th>jp_sales</th>\n",
       "      <th>other_sales</th>\n",
       "      <th>critic_score</th>\n",
       "      <th>user_score</th>\n",
       "      <th>rating</th>\n",
       "    </tr>\n",
       "  </thead>\n",
       "  <tbody>\n",
       "    <tr>\n",
       "      <th>0</th>\n",
       "      <td>wii sports</td>\n",
       "      <td>wii</td>\n",
       "      <td>2006</td>\n",
       "      <td>sports</td>\n",
       "      <td>41.36</td>\n",
       "      <td>28.96</td>\n",
       "      <td>3.77</td>\n",
       "      <td>8.45</td>\n",
       "      <td>76.0</td>\n",
       "      <td>8</td>\n",
       "      <td>e</td>\n",
       "    </tr>\n",
       "    <tr>\n",
       "      <th>1</th>\n",
       "      <td>super mario bros.</td>\n",
       "      <td>nes</td>\n",
       "      <td>1985</td>\n",
       "      <td>platform</td>\n",
       "      <td>29.08</td>\n",
       "      <td>3.58</td>\n",
       "      <td>6.81</td>\n",
       "      <td>0.77</td>\n",
       "      <td>NaN</td>\n",
       "      <td>NaN</td>\n",
       "      <td>NaN</td>\n",
       "    </tr>\n",
       "    <tr>\n",
       "      <th>2</th>\n",
       "      <td>mario kart wii</td>\n",
       "      <td>wii</td>\n",
       "      <td>2008</td>\n",
       "      <td>racing</td>\n",
       "      <td>15.68</td>\n",
       "      <td>12.76</td>\n",
       "      <td>3.79</td>\n",
       "      <td>3.29</td>\n",
       "      <td>82.0</td>\n",
       "      <td>8.3</td>\n",
       "      <td>e</td>\n",
       "    </tr>\n",
       "    <tr>\n",
       "      <th>3</th>\n",
       "      <td>wii sports resort</td>\n",
       "      <td>wii</td>\n",
       "      <td>2009</td>\n",
       "      <td>sports</td>\n",
       "      <td>15.61</td>\n",
       "      <td>10.93</td>\n",
       "      <td>3.28</td>\n",
       "      <td>2.95</td>\n",
       "      <td>80.0</td>\n",
       "      <td>8</td>\n",
       "      <td>e</td>\n",
       "    </tr>\n",
       "    <tr>\n",
       "      <th>4</th>\n",
       "      <td>pokemon red/pokemon blue</td>\n",
       "      <td>gb</td>\n",
       "      <td>1996</td>\n",
       "      <td>role-playing</td>\n",
       "      <td>11.27</td>\n",
       "      <td>8.89</td>\n",
       "      <td>10.22</td>\n",
       "      <td>1.00</td>\n",
       "      <td>NaN</td>\n",
       "      <td>NaN</td>\n",
       "      <td>NaN</td>\n",
       "    </tr>\n",
       "  </tbody>\n",
       "</table>\n",
       "</div>"
      ],
      "text/plain": [
       "                       name platform  year_of_release         genre  na_sales  \\\n",
       "0                wii sports      wii             2006        sports     41.36   \n",
       "1         super mario bros.      nes             1985      platform     29.08   \n",
       "2            mario kart wii      wii             2008        racing     15.68   \n",
       "3         wii sports resort      wii             2009        sports     15.61   \n",
       "4  pokemon red/pokemon blue       gb             1996  role-playing     11.27   \n",
       "\n",
       "   eu_sales  jp_sales  other_sales  critic_score user_score rating  \n",
       "0     28.96      3.77         8.45          76.0          8      e  \n",
       "1      3.58      6.81         0.77           NaN        NaN    NaN  \n",
       "2     12.76      3.79         3.29          82.0        8.3      e  \n",
       "3     10.93      3.28         2.95          80.0          8      e  \n",
       "4      8.89     10.22         1.00           NaN        NaN    NaN  "
      ]
     },
     "execution_count": 7,
     "metadata": {},
     "output_type": "execute_result"
    }
   ],
   "source": [
    "# меняем тип данных в столбце year_of_release и user_score\n",
    "data['year_of_release'] = pd.to_datetime(data['year_of_release'], format='%Y').dt.year\n",
    "data.head()"
   ]
  },
  {
   "cell_type": "code",
   "execution_count": 8,
   "metadata": {
    "scrolled": false
   },
   "outputs": [
    {
     "data": {
      "text/html": [
       "<style  type=\"text/css\" >\n",
       "#T_13665_row0_col0,#T_13665_row1_col1,#T_13665_row2_col2,#T_13665_row3_col3,#T_13665_row4_col4,#T_13665_row5_col5{\n",
       "            background-color:  #800026;\n",
       "            color:  #f1f1f1;\n",
       "        }#T_13665_row0_col1,#T_13665_row0_col2,#T_13665_row0_col3,#T_13665_row0_col4,#T_13665_row0_col5,#T_13665_row3_col0{\n",
       "            background-color:  #ffffcc;\n",
       "            color:  #000000;\n",
       "        }#T_13665_row1_col0{\n",
       "            background-color:  #fff6b6;\n",
       "            color:  #000000;\n",
       "        }#T_13665_row1_col2{\n",
       "            background-color:  #df171d;\n",
       "            color:  #f1f1f1;\n",
       "        }#T_13665_row1_col3{\n",
       "            background-color:  #fd7e38;\n",
       "            color:  #000000;\n",
       "        }#T_13665_row1_col4{\n",
       "            background-color:  #fc4f2a;\n",
       "            color:  #000000;\n",
       "        }#T_13665_row1_col5{\n",
       "            background-color:  #fedc7c;\n",
       "            color:  #000000;\n",
       "        }#T_13665_row2_col0{\n",
       "            background-color:  #ffea99;\n",
       "            color:  #000000;\n",
       "        }#T_13665_row2_col1{\n",
       "            background-color:  #d7121f;\n",
       "            color:  #f1f1f1;\n",
       "        }#T_13665_row2_col3{\n",
       "            background-color:  #fd8439;\n",
       "            color:  #000000;\n",
       "        }#T_13665_row2_col4{\n",
       "            background-color:  #ea2920;\n",
       "            color:  #f1f1f1;\n",
       "        }#T_13665_row2_col5{\n",
       "            background-color:  #fedf83;\n",
       "            color:  #000000;\n",
       "        }#T_13665_row3_col1{\n",
       "            background-color:  #fd8e3c;\n",
       "            color:  #000000;\n",
       "        }#T_13665_row3_col2{\n",
       "            background-color:  #fea044;\n",
       "            color:  #000000;\n",
       "        }#T_13665_row3_col4{\n",
       "            background-color:  #fed572;\n",
       "            color:  #000000;\n",
       "        }#T_13665_row3_col5{\n",
       "            background-color:  #ffea9b;\n",
       "            color:  #000000;\n",
       "        }#T_13665_row4_col0{\n",
       "            background-color:  #ffe58f;\n",
       "            color:  #000000;\n",
       "        }#T_13665_row4_col1{\n",
       "            background-color:  #f33b25;\n",
       "            color:  #f1f1f1;\n",
       "        }#T_13665_row4_col2{\n",
       "            background-color:  #e9261f;\n",
       "            color:  #f1f1f1;\n",
       "        }#T_13665_row4_col3{\n",
       "            background-color:  #fead4a;\n",
       "            color:  #000000;\n",
       "        }#T_13665_row4_col5{\n",
       "            background-color:  #fee38b;\n",
       "            color:  #000000;\n",
       "        }#T_13665_row5_col0{\n",
       "            background-color:  #ffe997;\n",
       "            color:  #000000;\n",
       "        }#T_13665_row5_col1{\n",
       "            background-color:  #fec965;\n",
       "            color:  #000000;\n",
       "        }#T_13665_row5_col2{\n",
       "            background-color:  #fede82;\n",
       "            color:  #000000;\n",
       "        }#T_13665_row5_col3{\n",
       "            background-color:  #fed16e;\n",
       "            color:  #000000;\n",
       "        }#T_13665_row5_col4{\n",
       "            background-color:  #ffe793;\n",
       "            color:  #000000;\n",
       "        }</style><table id=\"T_13665_\" ><thead>    <tr>        <th class=\"blank level0\" ></th>        <th class=\"col_heading level0 col0\" >year_of_release</th>        <th class=\"col_heading level0 col1\" >na_sales</th>        <th class=\"col_heading level0 col2\" >eu_sales</th>        <th class=\"col_heading level0 col3\" >jp_sales</th>        <th class=\"col_heading level0 col4\" >other_sales</th>        <th class=\"col_heading level0 col5\" >critic_score</th>    </tr></thead><tbody>\n",
       "                <tr>\n",
       "                        <th id=\"T_13665_level0_row0\" class=\"row_heading level0 row0\" >year_of_release</th>\n",
       "                        <td id=\"T_13665_row0_col0\" class=\"data row0 col0\" >1.000000</td>\n",
       "                        <td id=\"T_13665_row0_col1\" class=\"data row0 col1\" >-0.092326</td>\n",
       "                        <td id=\"T_13665_row0_col2\" class=\"data row0 col2\" >0.004045</td>\n",
       "                        <td id=\"T_13665_row0_col3\" class=\"data row0 col3\" >-0.168477</td>\n",
       "                        <td id=\"T_13665_row0_col4\" class=\"data row0 col4\" >0.037821</td>\n",
       "                        <td id=\"T_13665_row0_col5\" class=\"data row0 col5\" >0.011411</td>\n",
       "            </tr>\n",
       "            <tr>\n",
       "                        <th id=\"T_13665_level0_row1\" class=\"row_heading level0 row1\" >na_sales</th>\n",
       "                        <td id=\"T_13665_row1_col0\" class=\"data row1 col0\" >-0.092326</td>\n",
       "                        <td id=\"T_13665_row1_col1\" class=\"data row1 col1\" >1.000000</td>\n",
       "                        <td id=\"T_13665_row1_col2\" class=\"data row1 col2\" >0.766546</td>\n",
       "                        <td id=\"T_13665_row1_col3\" class=\"data row1 col3\" >0.451162</td>\n",
       "                        <td id=\"T_13665_row1_col4\" class=\"data row1 col4\" >0.638479</td>\n",
       "                        <td id=\"T_13665_row1_col5\" class=\"data row1 col5\" >0.240083</td>\n",
       "            </tr>\n",
       "            <tr>\n",
       "                        <th id=\"T_13665_level0_row2\" class=\"row_heading level0 row2\" >eu_sales</th>\n",
       "                        <td id=\"T_13665_row2_col0\" class=\"data row2 col0\" >0.004045</td>\n",
       "                        <td id=\"T_13665_row2_col1\" class=\"data row2 col1\" >0.766546</td>\n",
       "                        <td id=\"T_13665_row2_col2\" class=\"data row2 col2\" >1.000000</td>\n",
       "                        <td id=\"T_13665_row2_col3\" class=\"data row2 col3\" >0.435894</td>\n",
       "                        <td id=\"T_13665_row2_col4\" class=\"data row2 col4\" >0.722679</td>\n",
       "                        <td id=\"T_13665_row2_col5\" class=\"data row2 col5\" >0.221276</td>\n",
       "            </tr>\n",
       "            <tr>\n",
       "                        <th id=\"T_13665_level0_row3\" class=\"row_heading level0 row3\" >jp_sales</th>\n",
       "                        <td id=\"T_13665_row3_col0\" class=\"data row3 col0\" >-0.168477</td>\n",
       "                        <td id=\"T_13665_row3_col1\" class=\"data row3 col1\" >0.451162</td>\n",
       "                        <td id=\"T_13665_row3_col2\" class=\"data row3 col2\" >0.435894</td>\n",
       "                        <td id=\"T_13665_row3_col3\" class=\"data row3 col3\" >1.000000</td>\n",
       "                        <td id=\"T_13665_row3_col4\" class=\"data row3 col4\" >0.291562</td>\n",
       "                        <td id=\"T_13665_row3_col5\" class=\"data row3 col5\" >0.153474</td>\n",
       "            </tr>\n",
       "            <tr>\n",
       "                        <th id=\"T_13665_level0_row4\" class=\"row_heading level0 row4\" >other_sales</th>\n",
       "                        <td id=\"T_13665_row4_col0\" class=\"data row4 col0\" >0.037821</td>\n",
       "                        <td id=\"T_13665_row4_col1\" class=\"data row4 col1\" >0.638479</td>\n",
       "                        <td id=\"T_13665_row4_col2\" class=\"data row4 col2\" >0.722679</td>\n",
       "                        <td id=\"T_13665_row4_col3\" class=\"data row4 col3\" >0.291562</td>\n",
       "                        <td id=\"T_13665_row4_col4\" class=\"data row4 col4\" >1.000000</td>\n",
       "                        <td id=\"T_13665_row4_col5\" class=\"data row4 col5\" >0.198410</td>\n",
       "            </tr>\n",
       "            <tr>\n",
       "                        <th id=\"T_13665_level0_row5\" class=\"row_heading level0 row5\" >critic_score</th>\n",
       "                        <td id=\"T_13665_row5_col0\" class=\"data row5 col0\" >0.011411</td>\n",
       "                        <td id=\"T_13665_row5_col1\" class=\"data row5 col1\" >0.240083</td>\n",
       "                        <td id=\"T_13665_row5_col2\" class=\"data row5 col2\" >0.221276</td>\n",
       "                        <td id=\"T_13665_row5_col3\" class=\"data row5 col3\" >0.153474</td>\n",
       "                        <td id=\"T_13665_row5_col4\" class=\"data row5 col4\" >0.198410</td>\n",
       "                        <td id=\"T_13665_row5_col5\" class=\"data row5 col5\" >1.000000</td>\n",
       "            </tr>\n",
       "    </tbody></table>"
      ],
      "text/plain": [
       "<pandas.io.formats.style.Styler at 0x7f659c2ae0a0>"
      ]
     },
     "execution_count": 8,
     "metadata": {},
     "output_type": "execute_result"
    }
   ],
   "source": [
    "# строим корреляционную матрицу\n",
    "data.corr().style.background_gradient(cmap='YlOrRd')"
   ]
  },
  {
   "cell_type": "markdown",
   "metadata": {},
   "source": [
    "Нет признаков, сильно коррелирующих с величиной оценок, таким образом заполнить пропуски медианным значением мы не можем."
   ]
  },
  {
   "cell_type": "markdown",
   "metadata": {},
   "source": [
    "Рассмотрим уникальные значения в стобце с оценками критиков и заменим пропуски в данном столбце на число, которое не встречается в данных, для удобства группировки."
   ]
  },
  {
   "cell_type": "code",
   "execution_count": 9,
   "metadata": {},
   "outputs": [
    {
     "data": {
      "text/plain": [
       "array([76., nan, 82., 80., 89., 58., 87., 91., 61., 97., 95., 77., 88.,\n",
       "       83., 94., 93., 85., 86., 98., 96., 90., 84., 73., 74., 78., 92.,\n",
       "       71., 72., 68., 62., 49., 67., 81., 66., 56., 79., 70., 59., 64.,\n",
       "       75., 60., 63., 69., 50., 25., 42., 44., 55., 48., 57., 29., 47.,\n",
       "       65., 54., 20., 53., 37., 38., 33., 52., 30., 32., 43., 45., 51.,\n",
       "       40., 46., 39., 34., 41., 36., 31., 27., 35., 26., 19., 28., 23.,\n",
       "       24., 21., 17., 13.])"
      ]
     },
     "execution_count": 9,
     "metadata": {},
     "output_type": "execute_result"
    }
   ],
   "source": [
    "# рассмотрим уникальные значения в столбце critic_score\n",
    "data['critic_score'].unique()"
   ]
  },
  {
   "cell_type": "code",
   "execution_count": 10,
   "metadata": {},
   "outputs": [],
   "source": [
    "# заменяем пропуски на 0\n",
    "data['critic_score'] = data['critic_score'].fillna(-1)"
   ]
  },
  {
   "cell_type": "code",
   "execution_count": 11,
   "metadata": {
    "scrolled": true
   },
   "outputs": [
    {
     "data": {
      "text/plain": [
       "array(['8', nan, '8.3', '8.5', '6.6', '8.4', '8.6', '7.7', '6.3', '7.4',\n",
       "       '8.2', '9', '7.9', '8.1', '8.7', '7.1', '3.4', '5.3', '4.8', '3.2',\n",
       "       '8.9', '6.4', '7.8', '7.5', '2.6', '7.2', '9.2', '7', '7.3', '4.3',\n",
       "       '7.6', '5.7', '5', '9.1', '6.5', 'tbd', '8.8', '6.9', '9.4', '6.8',\n",
       "       '6.1', '6.7', '5.4', '4', '4.9', '4.5', '9.3', '6.2', '4.2', '6',\n",
       "       '3.7', '4.1', '5.8', '5.6', '5.5', '4.4', '4.6', '5.9', '3.9',\n",
       "       '3.1', '2.9', '5.2', '3.3', '4.7', '5.1', '3.5', '2.5', '1.9', '3',\n",
       "       '2.7', '2.2', '2', '9.5', '2.1', '3.6', '2.8', '1.8', '3.8', '0',\n",
       "       '1.6', '9.6', '2.4', '1.7', '1.1', '0.3', '1.5', '0.7', '1.2',\n",
       "       '2.3', '0.5', '1.3', '0.2', '0.6', '1.4', '0.9', '1', '9.7'],\n",
       "      dtype=object)"
      ]
     },
     "execution_count": 11,
     "metadata": {},
     "output_type": "execute_result"
    }
   ],
   "source": [
    "# рассмотрим уникальные значения в столбце user_score\n",
    "data['user_score'].unique()"
   ]
  },
  {
   "cell_type": "markdown",
   "metadata": {},
   "source": [
    "Среди числовых данных есть одно значение, из-за которого тип данных столбца - object, это \"tbd\". Аббревиатура tbd означает to be determined - пока не определен, т.е. оценка для этой игры еще не определена.\n",
    "\n",
    "Так как заменить такое значение на какое-либо число невозможно, присвоим ему значение Nan и поменяем тип данных в столбце."
   ]
  },
  {
   "cell_type": "code",
   "execution_count": 12,
   "metadata": {},
   "outputs": [
    {
     "name": "stdout",
     "output_type": "stream",
     "text": [
      "<class 'pandas.core.frame.DataFrame'>\n",
      "Int64Index: 16444 entries, 0 to 16714\n",
      "Data columns (total 11 columns):\n",
      " #   Column           Non-Null Count  Dtype  \n",
      "---  ------           --------------  -----  \n",
      " 0   name             16444 non-null  object \n",
      " 1   platform         16444 non-null  object \n",
      " 2   year_of_release  16444 non-null  int64  \n",
      " 3   genre            16444 non-null  object \n",
      " 4   na_sales         16444 non-null  float64\n",
      " 5   eu_sales         16444 non-null  float64\n",
      " 6   jp_sales         16444 non-null  float64\n",
      " 7   other_sales      16444 non-null  float64\n",
      " 8   critic_score     16444 non-null  float64\n",
      " 9   user_score       7463 non-null   float64\n",
      " 10  rating           9768 non-null   object \n",
      "dtypes: float64(6), int64(1), object(4)\n",
      "memory usage: 1.5+ MB\n"
     ]
    }
   ],
   "source": [
    "# заменяем 'tbd' на nan\n",
    "data['user_score'] = data['user_score'].replace('tbd', np.nan)\n",
    "data['user_score'] = pd.to_numeric(data['user_score'], errors='ignore')\n",
    "data.info()"
   ]
  },
  {
   "cell_type": "markdown",
   "metadata": {},
   "source": [
    "Проверим есть ли значения коррелирующие с 'user_score'."
   ]
  },
  {
   "cell_type": "code",
   "execution_count": 13,
   "metadata": {
    "scrolled": true
   },
   "outputs": [
    {
     "data": {
      "text/html": [
       "<style  type=\"text/css\" >\n",
       "#T_4b305_row0_col0,#T_4b305_row1_col1,#T_4b305_row2_col2,#T_4b305_row3_col3,#T_4b305_row4_col4,#T_4b305_row5_col5,#T_4b305_row6_col6{\n",
       "            background-color:  #800026;\n",
       "            color:  #f1f1f1;\n",
       "        }#T_4b305_row0_col1,#T_4b305_row0_col2,#T_4b305_row0_col3,#T_4b305_row0_col4,#T_4b305_row0_col6,#T_4b305_row3_col5,#T_4b305_row6_col0{\n",
       "            background-color:  #ffffcc;\n",
       "            color:  #000000;\n",
       "        }#T_4b305_row0_col5{\n",
       "            background-color:  #ffe998;\n",
       "            color:  #000000;\n",
       "        }#T_4b305_row1_col0{\n",
       "            background-color:  #ffeb9c;\n",
       "            color:  #000000;\n",
       "        }#T_4b305_row1_col2{\n",
       "            background-color:  #df171d;\n",
       "            color:  #f1f1f1;\n",
       "        }#T_4b305_row1_col3{\n",
       "            background-color:  #fd7e38;\n",
       "            color:  #000000;\n",
       "        }#T_4b305_row1_col4{\n",
       "            background-color:  #fc4f2a;\n",
       "            color:  #000000;\n",
       "        }#T_4b305_row1_col5{\n",
       "            background-color:  #fee38b;\n",
       "            color:  #000000;\n",
       "        }#T_4b305_row1_col6{\n",
       "            background-color:  #fed06c;\n",
       "            color:  #000000;\n",
       "        }#T_4b305_row2_col0{\n",
       "            background-color:  #fedf83;\n",
       "            color:  #000000;\n",
       "        }#T_4b305_row2_col1{\n",
       "            background-color:  #d7121f;\n",
       "            color:  #f1f1f1;\n",
       "        }#T_4b305_row2_col3{\n",
       "            background-color:  #fd8439;\n",
       "            color:  #000000;\n",
       "        }#T_4b305_row2_col4{\n",
       "            background-color:  #ea2920;\n",
       "            color:  #f1f1f1;\n",
       "        }#T_4b305_row2_col5{\n",
       "            background-color:  #fee085;\n",
       "            color:  #000000;\n",
       "        }#T_4b305_row2_col6,#T_4b305_row4_col6{\n",
       "            background-color:  #fed774;\n",
       "            color:  #000000;\n",
       "        }#T_4b305_row3_col0{\n",
       "            background-color:  #fff4b0;\n",
       "            color:  #000000;\n",
       "        }#T_4b305_row3_col1{\n",
       "            background-color:  #fd8e3c;\n",
       "            color:  #000000;\n",
       "        }#T_4b305_row3_col2{\n",
       "            background-color:  #fea044;\n",
       "            color:  #000000;\n",
       "        }#T_4b305_row3_col4{\n",
       "            background-color:  #fed572;\n",
       "            color:  #000000;\n",
       "        }#T_4b305_row3_col6{\n",
       "            background-color:  #fec662;\n",
       "            color:  #000000;\n",
       "        }#T_4b305_row4_col0{\n",
       "            background-color:  #fedb7a;\n",
       "            color:  #000000;\n",
       "        }#T_4b305_row4_col1{\n",
       "            background-color:  #f33b25;\n",
       "            color:  #f1f1f1;\n",
       "        }#T_4b305_row4_col2{\n",
       "            background-color:  #e9261f;\n",
       "            color:  #f1f1f1;\n",
       "        }#T_4b305_row4_col3{\n",
       "            background-color:  #fead4a;\n",
       "            color:  #000000;\n",
       "        }#T_4b305_row4_col5{\n",
       "            background-color:  #fee084;\n",
       "            color:  #000000;\n",
       "        }#T_4b305_row5_col0{\n",
       "            background-color:  #fec965;\n",
       "            color:  #000000;\n",
       "        }#T_4b305_row5_col1{\n",
       "            background-color:  #fedd7f;\n",
       "            color:  #000000;\n",
       "        }#T_4b305_row5_col2{\n",
       "            background-color:  #ffe793;\n",
       "            color:  #000000;\n",
       "        }#T_4b305_row5_col3{\n",
       "            background-color:  #fff0a7;\n",
       "            color:  #000000;\n",
       "        }#T_4b305_row5_col4{\n",
       "            background-color:  #ffea9b;\n",
       "            color:  #000000;\n",
       "        }#T_4b305_row5_col6{\n",
       "            background-color:  #fd7836;\n",
       "            color:  #000000;\n",
       "        }#T_4b305_row6_col1{\n",
       "            background-color:  #ffe794;\n",
       "            color:  #000000;\n",
       "        }#T_4b305_row6_col2{\n",
       "            background-color:  #fff8ba;\n",
       "            color:  #000000;\n",
       "        }#T_4b305_row6_col3{\n",
       "            background-color:  #fed976;\n",
       "            color:  #000000;\n",
       "        }#T_4b305_row6_col4{\n",
       "            background-color:  #fffcc5;\n",
       "            color:  #000000;\n",
       "        }#T_4b305_row6_col5{\n",
       "            background-color:  #fd9e43;\n",
       "            color:  #000000;\n",
       "        }</style><table id=\"T_4b305_\" ><thead>    <tr>        <th class=\"blank level0\" ></th>        <th class=\"col_heading level0 col0\" >year_of_release</th>        <th class=\"col_heading level0 col1\" >na_sales</th>        <th class=\"col_heading level0 col2\" >eu_sales</th>        <th class=\"col_heading level0 col3\" >jp_sales</th>        <th class=\"col_heading level0 col4\" >other_sales</th>        <th class=\"col_heading level0 col5\" >critic_score</th>        <th class=\"col_heading level0 col6\" >user_score</th>    </tr></thead><tbody>\n",
       "                <tr>\n",
       "                        <th id=\"T_4b305_level0_row0\" class=\"row_heading level0 row0\" >year_of_release</th>\n",
       "                        <td id=\"T_4b305_row0_col0\" class=\"data row0 col0\" >1.000000</td>\n",
       "                        <td id=\"T_4b305_row0_col1\" class=\"data row0 col1\" >-0.092326</td>\n",
       "                        <td id=\"T_4b305_row0_col2\" class=\"data row0 col2\" >0.004045</td>\n",
       "                        <td id=\"T_4b305_row0_col3\" class=\"data row0 col3\" >-0.168477</td>\n",
       "                        <td id=\"T_4b305_row0_col4\" class=\"data row0 col4\" >0.037821</td>\n",
       "                        <td id=\"T_4b305_row0_col5\" class=\"data row0 col5\" >0.114076</td>\n",
       "                        <td id=\"T_4b305_row0_col6\" class=\"data row0 col6\" >-0.267851</td>\n",
       "            </tr>\n",
       "            <tr>\n",
       "                        <th id=\"T_4b305_level0_row1\" class=\"row_heading level0 row1\" >na_sales</th>\n",
       "                        <td id=\"T_4b305_row1_col0\" class=\"data row1 col0\" >-0.092326</td>\n",
       "                        <td id=\"T_4b305_row1_col1\" class=\"data row1 col1\" >1.000000</td>\n",
       "                        <td id=\"T_4b305_row1_col2\" class=\"data row1 col2\" >0.766546</td>\n",
       "                        <td id=\"T_4b305_row1_col3\" class=\"data row1 col3\" >0.451162</td>\n",
       "                        <td id=\"T_4b305_row1_col4\" class=\"data row1 col4\" >0.638479</td>\n",
       "                        <td id=\"T_4b305_row1_col5\" class=\"data row1 col5\" >0.152828</td>\n",
       "                        <td id=\"T_4b305_row1_col6\" class=\"data row1 col6\" >0.085549</td>\n",
       "            </tr>\n",
       "            <tr>\n",
       "                        <th id=\"T_4b305_level0_row2\" class=\"row_heading level0 row2\" >eu_sales</th>\n",
       "                        <td id=\"T_4b305_row2_col0\" class=\"data row2 col0\" >0.004045</td>\n",
       "                        <td id=\"T_4b305_row2_col1\" class=\"data row2 col1\" >0.766546</td>\n",
       "                        <td id=\"T_4b305_row2_col2\" class=\"data row2 col2\" >1.000000</td>\n",
       "                        <td id=\"T_4b305_row2_col3\" class=\"data row2 col3\" >0.435894</td>\n",
       "                        <td id=\"T_4b305_row2_col4\" class=\"data row2 col4\" >0.722679</td>\n",
       "                        <td id=\"T_4b305_row2_col5\" class=\"data row2 col5\" >0.170064</td>\n",
       "                        <td id=\"T_4b305_row2_col6\" class=\"data row2 col6\" >0.055530</td>\n",
       "            </tr>\n",
       "            <tr>\n",
       "                        <th id=\"T_4b305_level0_row3\" class=\"row_heading level0 row3\" >jp_sales</th>\n",
       "                        <td id=\"T_4b305_row3_col0\" class=\"data row3 col0\" >-0.168477</td>\n",
       "                        <td id=\"T_4b305_row3_col1\" class=\"data row3 col1\" >0.451162</td>\n",
       "                        <td id=\"T_4b305_row3_col2\" class=\"data row3 col2\" >0.435894</td>\n",
       "                        <td id=\"T_4b305_row3_col3\" class=\"data row3 col3\" >1.000000</td>\n",
       "                        <td id=\"T_4b305_row3_col4\" class=\"data row3 col4\" >0.291562</td>\n",
       "                        <td id=\"T_4b305_row3_col5\" class=\"data row3 col5\" >-0.043376</td>\n",
       "                        <td id=\"T_4b305_row3_col6\" class=\"data row3 col6\" >0.126372</td>\n",
       "            </tr>\n",
       "            <tr>\n",
       "                        <th id=\"T_4b305_level0_row4\" class=\"row_heading level0 row4\" >other_sales</th>\n",
       "                        <td id=\"T_4b305_row4_col0\" class=\"data row4 col0\" >0.037821</td>\n",
       "                        <td id=\"T_4b305_row4_col1\" class=\"data row4 col1\" >0.638479</td>\n",
       "                        <td id=\"T_4b305_row4_col2\" class=\"data row4 col2\" >0.722679</td>\n",
       "                        <td id=\"T_4b305_row4_col3\" class=\"data row4 col3\" >0.291562</td>\n",
       "                        <td id=\"T_4b305_row4_col4\" class=\"data row4 col4\" >1.000000</td>\n",
       "                        <td id=\"T_4b305_row4_col5\" class=\"data row4 col5\" >0.175530</td>\n",
       "                        <td id=\"T_4b305_row4_col6\" class=\"data row4 col6\" >0.056935</td>\n",
       "            </tr>\n",
       "            <tr>\n",
       "                        <th id=\"T_4b305_level0_row5\" class=\"row_heading level0 row5\" >critic_score</th>\n",
       "                        <td id=\"T_4b305_row5_col0\" class=\"data row5 col0\" >0.114076</td>\n",
       "                        <td id=\"T_4b305_row5_col1\" class=\"data row5 col1\" >0.152828</td>\n",
       "                        <td id=\"T_4b305_row5_col2\" class=\"data row5 col2\" >0.170064</td>\n",
       "                        <td id=\"T_4b305_row5_col3\" class=\"data row5 col3\" >-0.043376</td>\n",
       "                        <td id=\"T_4b305_row5_col4\" class=\"data row5 col4\" >0.175530</td>\n",
       "                        <td id=\"T_4b305_row5_col5\" class=\"data row5 col5\" >1.000000</td>\n",
       "                        <td id=\"T_4b305_row5_col6\" class=\"data row5 col6\" >0.418252</td>\n",
       "            </tr>\n",
       "            <tr>\n",
       "                        <th id=\"T_4b305_level0_row6\" class=\"row_heading level0 row6\" >user_score</th>\n",
       "                        <td id=\"T_4b305_row6_col0\" class=\"data row6 col0\" >-0.267851</td>\n",
       "                        <td id=\"T_4b305_row6_col1\" class=\"data row6 col1\" >0.085549</td>\n",
       "                        <td id=\"T_4b305_row6_col2\" class=\"data row6 col2\" >0.055530</td>\n",
       "                        <td id=\"T_4b305_row6_col3\" class=\"data row6 col3\" >0.126372</td>\n",
       "                        <td id=\"T_4b305_row6_col4\" class=\"data row6 col4\" >0.056935</td>\n",
       "                        <td id=\"T_4b305_row6_col5\" class=\"data row6 col5\" >0.418252</td>\n",
       "                        <td id=\"T_4b305_row6_col6\" class=\"data row6 col6\" >1.000000</td>\n",
       "            </tr>\n",
       "    </tbody></table>"
      ],
      "text/plain": [
       "<pandas.io.formats.style.Styler at 0x7f659c18f4f0>"
      ]
     },
     "execution_count": 13,
     "metadata": {},
     "output_type": "execute_result"
    }
   ],
   "source": [
    "# строим корреляционную матрицу\n",
    "data.corr().style.background_gradient(cmap='YlOrRd')"
   ]
  },
  {
   "cell_type": "markdown",
   "metadata": {},
   "source": [
    "Как и в случае с critic_score, нет признаков, сильно влияющих на оценку пользователей,а значит заменить их на медианное значение нельзя. Заменим пропуски в данном столбце на число, которое не встречается в данных, для удобства группировки."
   ]
  },
  {
   "cell_type": "code",
   "execution_count": 14,
   "metadata": {},
   "outputs": [],
   "source": [
    "# заполняем пропуски в данных значением -5\n",
    "data['user_score'] = data['user_score'].fillna(-5)"
   ]
  },
  {
   "cell_type": "code",
   "execution_count": 15,
   "metadata": {},
   "outputs": [],
   "source": [
    "# заполняем пропуски в столбце rating значением without_rating\n",
    "data['rating'] = data['rating'].fillna('without_rating')"
   ]
  },
  {
   "cell_type": "code",
   "execution_count": 16,
   "metadata": {
    "scrolled": true
   },
   "outputs": [
    {
     "name": "stdout",
     "output_type": "stream",
     "text": [
      "<class 'pandas.core.frame.DataFrame'>\n",
      "Int64Index: 16444 entries, 0 to 16714\n",
      "Data columns (total 11 columns):\n",
      " #   Column           Non-Null Count  Dtype  \n",
      "---  ------           --------------  -----  \n",
      " 0   name             16444 non-null  object \n",
      " 1   platform         16444 non-null  object \n",
      " 2   year_of_release  16444 non-null  int64  \n",
      " 3   genre            16444 non-null  object \n",
      " 4   na_sales         16444 non-null  float64\n",
      " 5   eu_sales         16444 non-null  float64\n",
      " 6   jp_sales         16444 non-null  float64\n",
      " 7   other_sales      16444 non-null  float64\n",
      " 8   critic_score     16444 non-null  float64\n",
      " 9   user_score       16444 non-null  float64\n",
      " 10  rating           16444 non-null  object \n",
      "dtypes: float64(6), int64(1), object(4)\n",
      "memory usage: 1.5+ MB\n"
     ]
    }
   ],
   "source": [
    "data.info()"
   ]
  },
  {
   "cell_type": "code",
   "execution_count": 17,
   "metadata": {},
   "outputs": [],
   "source": [
    "data['user_score'] = data['user_score'].astype('float64')"
   ]
  },
  {
   "cell_type": "code",
   "execution_count": 18,
   "metadata": {},
   "outputs": [
    {
     "name": "stdout",
     "output_type": "stream",
     "text": [
      "<class 'pandas.core.frame.DataFrame'>\n",
      "Int64Index: 16444 entries, 0 to 16714\n",
      "Data columns (total 11 columns):\n",
      " #   Column           Non-Null Count  Dtype  \n",
      "---  ------           --------------  -----  \n",
      " 0   name             16444 non-null  object \n",
      " 1   platform         16444 non-null  object \n",
      " 2   year_of_release  16444 non-null  int64  \n",
      " 3   genre            16444 non-null  object \n",
      " 4   na_sales         16444 non-null  float64\n",
      " 5   eu_sales         16444 non-null  float64\n",
      " 6   jp_sales         16444 non-null  float64\n",
      " 7   other_sales      16444 non-null  float64\n",
      " 8   critic_score     16444 non-null  float64\n",
      " 9   user_score       16444 non-null  float64\n",
      " 10  rating           16444 non-null  object \n",
      "dtypes: float64(6), int64(1), object(4)\n",
      "memory usage: 1.5+ MB\n"
     ]
    }
   ],
   "source": [
    "data.info()"
   ]
  },
  {
   "cell_type": "code",
   "execution_count": 19,
   "metadata": {},
   "outputs": [],
   "source": [
    "# создаем новый столбец с суммарными продажами во всех регионах\n",
    "data['total_sales'] = data['na_sales']+ data['eu_sales'] + data['jp_sales'] + data['other_sales']"
   ]
  },
  {
   "cell_type": "markdown",
   "metadata": {},
   "source": [
    "***Вывод:***\n",
    "\n",
    "В ходе предобработки данных был изменен регистр в наименованиях столбцов и в самих столбцах, изменены типы данных в столбцах, где это было необходимо, заполнены пропуски и создан новый столбец с суммарными продажами."
   ]
  },
  {
   "cell_type": "markdown",
   "metadata": {},
   "source": [
    "## Исследовательский анализ данных"
   ]
  },
  {
   "cell_type": "markdown",
   "metadata": {},
   "source": [
    "### Выпуск игр по годам"
   ]
  },
  {
   "cell_type": "code",
   "execution_count": 20,
   "metadata": {
    "scrolled": false
   },
   "outputs": [
    {
     "data": {
      "image/png": "[encoded data removed]",
      "text/plain": [
       "<Figure size 720x432 with 1 Axes>"
      ]
     },
     "metadata": {
      "needs_background": "light"
     },
     "output_type": "display_data"
    }
   ],
   "source": [
    "# построим график динамики выпуска игр по годам\n",
    "plt.figure(figsize=(10, 6))\n",
    "\n",
    "# строим сводную таблицу, считаем кол-во выпущенных игр по годам\n",
    "data_year = data.pivot_table(index='year_of_release', values='name', aggfunc='count')\n",
    "plt.plot(data_year, marker='o')\n",
    "plt.grid(True)\n",
    "\n",
    "# зададим названия осям и графику\n",
    "plt.title('Количество выпущенных игр по годам') \n",
    "plt.xlabel('Год')\n",
    "plt.ylabel('Количество игр')\n",
    "\n",
    "\n",
    "plt.show()"
   ]
  },
  {
   "cell_type": "markdown",
   "metadata": {},
   "source": [
    "Количество выпускаемых игр начало плавно расти с 1990 года, до 1990 число игр практически не менялось, это обусловлено инновациями в сфере видеоигр в 90-х годах, созданием новых поколений консолей и появлением новых жанров в играх. Рост выпуска сохраняется до 2008 года, в котором наблюдается пие количества выпущенных игр, затем показатель достаточно резко идет на спад. Это может быть связано с мировым экономическим кризисом 2008 года."
   ]
  },
  {
   "cell_type": "markdown",
   "metadata": {},
   "source": [
    "### Суммарные продажи в разрезе платформ"
   ]
  },
  {
   "cell_type": "code",
   "execution_count": 21,
   "metadata": {
    "scrolled": false
   },
   "outputs": [
    {
     "data": {
      "image/png": "[encoded data removed]",
      "text/plain": [
       "<Figure size 720x432 with 1 Axes>"
      ]
     },
     "metadata": {
      "needs_background": "light"
     },
     "output_type": "display_data"
    }
   ],
   "source": [
    "# задаем размер графика\n",
    "plt.figure(figsize=(10, 6))\n",
    "\n",
    "# строи сводную таблицу с суммарными продажами в разрезе платформ\n",
    "data_platform = data.pivot_table(index='platform', values='total_sales', aggfunc='sum').sort_values(by='total_sales', ascending=False)\n",
    "\n",
    "# строим график по полученным данным\n",
    "sns.barplot(y=data_platform.index, x='total_sales', data=data_platform, color='lightgreen');\n",
    "plt.grid(True)\n",
    "   \n",
    "plt.title('Суммарные продажи в разрезе платформ')\n",
    "plt.xlabel('Продажи')\n",
    "plt.ylabel('Платформа')\n",
    "\n",
    "\n",
    "plt.show()"
   ]
  },
  {
   "cell_type": "markdown",
   "metadata": {},
   "source": [
    "На графике видно, что с большим отрывом от остальных лидируют 6 платформ: PS2, X360, PS3, WII, DS и PS. На примере этих платформ рассмотрим жизненный цикл платформ."
   ]
  },
  {
   "cell_type": "code",
   "execution_count": 22,
   "metadata": {
    "scrolled": false
   },
   "outputs": [
    {
     "data": {
      "image/png": "[encoded data removed]",
      "text/plain": [
       "<Figure size 720x432 with 1 Axes>"
      ]
     },
     "metadata": {
      "needs_background": "light"
     },
     "output_type": "display_data"
    }
   ],
   "source": [
    "# сохраняем список платформ-лидеров в переменную\n",
    "big_platform = ['ps2', 'x360', 'ps3', 'wii', 'ds', 'ps']\n",
    "\n",
    "# считаем суммарные продажи по избранным платформам с помощью сводной таблицы\n",
    "data_pl_inc = data.query('platform in @big_platform').pivot_table(index='year_of_release', columns='platform', values='total_sales', aggfunc='sum')\n",
    "\n",
    "# строим график \n",
    "data_pl_inc.plot(figsize=(10, 6));\n",
    "plt.grid(True)\n",
    "   \n",
    "plt.title('Динамика продаж в разрезе платформ по годам')\n",
    "plt.xlabel('Год')\n",
    "plt.ylabel('Продажи')\n",
    "plt.show()"
   ]
  },
  {
   "cell_type": "markdown",
   "metadata": {},
   "source": [
    "По графику видно, что в среднем консоль живет 10-11 лет: примерно первые 5 лет происходит рост числа выпускаемых игр, затем снижение популярности консоли и продаж и одновременно с этим появление новой консоли.\n",
    "\n",
    "Так как новые консоли появляются, а старые исчезают примерно каждые пять лет, для анализ будем считать актуальным период с 2013 по 2016 г."
   ]
  },
  {
   "cell_type": "code",
   "execution_count": 23,
   "metadata": {},
   "outputs": [],
   "source": [
    "# создаем датафрейм с данными из актуального периода\n",
    "data_itog = data.query('year_of_release >= 2013 and year_of_release <= 2016')"
   ]
  },
  {
   "cell_type": "markdown",
   "metadata": {},
   "source": [
    "### Потенциально прибыльные платформы"
   ]
  },
  {
   "cell_type": "code",
   "execution_count": 24,
   "metadata": {
    "scrolled": false
   },
   "outputs": [
    {
     "data": {
      "image/png": "[encoded data removed]",
      "text/plain": [
       "<Figure size 1080x576 with 2 Axes>"
      ]
     },
     "metadata": {
      "needs_background": "light"
     },
     "output_type": "display_data"
    }
   ],
   "source": [
    "plt.figure(figsize = (15,8))\n",
    "\n",
    "# считаем суммарные продажи в разрезе платформ в актуальном периоде\n",
    "data_itog_pivot = data_itog.pivot_table(index='platform', columns='year_of_release', values='total_sales', aggfunc='sum')\n",
    "\n",
    "# строим тепловую карту по полученным данным\n",
    "sns.heatmap(data_itog_pivot,  square = True, annot = True, cmap=\"coolwarm\");\n",
    "\n",
    "plt.title('Динамика продаж в разрезе платформ в 2013-2016 гг.');\n",
    "plt.xlabel('Год');\n",
    "plt.ylabel('Платформа');\n"
   ]
  },
  {
   "cell_type": "markdown",
   "metadata": {},
   "source": [
    "Согласно тепловой карте можно выделить несколько лидирующих к 2016г. платформ: PS4, XOne, 3DS, WIIU, PC. Однако большая часть платформ к 2016 году уже пошли на спад или вовсе перестали производить игры. "
   ]
  },
  {
   "cell_type": "markdown",
   "metadata": {},
   "source": [
    "### Глобальные продажи игр в разбивке по платформам"
   ]
  },
  {
   "cell_type": "code",
   "execution_count": 25,
   "metadata": {
    "scrolled": false
   },
   "outputs": [
    {
     "data": {
      "image/png": "[encoded data removed]",
      "text/plain": [
       "<Figure size 1440x432 with 1 Axes>"
      ]
     },
     "metadata": {
      "needs_background": "light"
     },
     "output_type": "display_data"
    }
   ],
   "source": [
    "plt.figure(figsize = (20,6))\n",
    "\n",
    "# запишем платформы-лидеры в переменную\n",
    "platform = ['3ds', 'ps4', 'xone', 'wiiu', 'pc']\n",
    "\n",
    "# возтмем только данные по платформам-лидерам\n",
    "data_pl = data_itog.query('platform in @platform')\n",
    "\n",
    "# построим \"ящик с усами\" по полученным данным\n",
    "sns.boxplot(data=data_pl, y='platform', x='total_sales');\n",
    "plt.grid(True)\n",
    "   \n",
    "plt.title('Диаграмма размаха глобальных продаж в разрезе платформ');\n",
    "plt.xlabel('Глобальные продажи');\n",
    "plt.ylabel('Платформа');\n"
   ]
  },
  {
   "cell_type": "markdown",
   "metadata": {},
   "source": [
    "В данных наблюдается большое число выбросов - аномально крупныех продаж. Рассмотрим подробнее диаграммы рассеяния, ограничив их по оси х."
   ]
  },
  {
   "cell_type": "code",
   "execution_count": 26,
   "metadata": {
    "scrolled": true
   },
   "outputs": [
    {
     "data": {
      "image/png": "[encoded data removed]",
      "text/plain": [
       "<Figure size 1440x432 with 1 Axes>"
      ]
     },
     "metadata": {
      "needs_background": "light"
     },
     "output_type": "display_data"
    }
   ],
   "source": [
    "plt.figure(figsize = (20,6))\n",
    "\n",
    "sns.boxplot(data=data_pl, y='platform', x='total_sales');\n",
    "plt.xlim(-0.01, 2)\n",
    "plt.grid(True)\n",
    "   \n",
    "plt.title('Диаграмма размаха глобальных продаж в разрезе платформ');\n",
    "plt.xlabel('Глобальные продажи');\n",
    "plt.ylabel('Платформа');"
   ]
  },
  {
   "cell_type": "markdown",
   "metadata": {},
   "source": [
    "Можно выделить три платформы с наибольшими глобальными продажами - PS4, XOne, WIIU. Медианные значения и сами \"ящики\" этих платформ больше, чем у остальных."
   ]
  },
  {
   "cell_type": "markdown",
   "metadata": {},
   "source": [
    "### Влияние оценок пользователей и оценок критиков на продажи"
   ]
  },
  {
   "cell_type": "code",
   "execution_count": 27,
   "metadata": {
    "scrolled": false
   },
   "outputs": [
    {
     "data": {
      "image/png": "[encoded data removed]",
      "text/plain": [
       "<Figure size 864x360 with 2 Axes>"
      ]
     },
     "metadata": {
      "needs_background": "light"
     },
     "output_type": "display_data"
    },
    {
     "data": {
      "image/png": "[encoded data removed]",
      "text/plain": [
       "<Figure size 864x360 with 2 Axes>"
      ]
     },
     "metadata": {
      "needs_background": "light"
     },
     "output_type": "display_data"
    },
    {
     "data": {
      "image/png": "[encoded data removed]",
      "text/plain": [
       "<Figure size 864x360 with 2 Axes>"
      ]
     },
     "metadata": {
      "needs_background": "light"
     },
     "output_type": "display_data"
    },
    {
     "data": {
      "image/png": "[encoded data removed]",
      "text/plain": [
       "<Figure size 864x360 with 2 Axes>"
      ]
     },
     "metadata": {
      "needs_background": "light"
     },
     "output_type": "display_data"
    },
    {
     "data": {
      "image/png": "[encoded data removed]",
      "text/plain": [
       "<Figure size 864x360 with 2 Axes>"
      ]
     },
     "metadata": {
      "needs_background": "light"
     },
     "output_type": "display_data"
    }
   ],
   "source": [
    "# напишем функцию для построения двух диаграмм рассеняия: продажи-оценки критиков, продажи-оценки пользователей\n",
    "def show_plot(df, platform):\n",
    "    fig, (ax1, ax2) = plt.subplots(1, 2, figsize=(12, 5))\n",
    "    \n",
    "    plt.subplot (1, 2, 1)\n",
    "    sns.scatterplot(x='critic_score', y=df.loc[(df['platform'] == platform)&(df['critic_score'] != -1)]['total_sales'], data=df)\n",
    "    plt.grid(True)\n",
    "    plt.xlabel('Оценка критиков');\n",
    "    plt.ylabel('Продажи');\n",
    "    \n",
    "    plt.subplot (1, 2, 2)\n",
    "    sns.scatterplot(x='user_score', y=df.loc[(df['platform'] == platform)&(df['user_score'] != -5)]['total_sales'], data=df)\n",
    "    plt.grid(True)\n",
    "    plt.xlabel('Оценка пользователей');\n",
    "    plt.ylabel('Продажи');\n",
    "    \n",
    "    plt.suptitle('Диаграмма рассеяния. Платформа: {}'.format(platform))\n",
    "    \n",
    "# с помощью цикла переберем все столбцы с признаками и построим графики\n",
    "for pl in platform:\n",
    "    show_plot(data_pl, pl)"
   ]
  },
  {
   "cell_type": "markdown",
   "metadata": {},
   "source": [
    "В соответствии с полученными диаграммами можно сказать, что большее влияние на продажи игр оказывают оценки критиков, с их ростом увеличивается и объем продаж. Значительное влияние на продажи как оценок критиков, так и оценок пользователей можно заметить у платформы WIIU, а наименьшую зависимость от оценок у платформы PC.\n",
    "\n",
    "Рассмотрим такде коэффициенты корреляции по каждой платформе."
   ]
  },
  {
   "cell_type": "code",
   "execution_count": 28,
   "metadata": {
    "scrolled": true
   },
   "outputs": [
    {
     "name": "stdout",
     "output_type": "stream",
     "text": [
      "Коэффицент корреляции для отзывов критиков. Платформа 3ds: 0.36\n",
      "Коэффицент корреляции для отзывов пользователей. Платформа 3ds: 0.24\n",
      "\n",
      "Коэффицент корреляции для отзывов критиков. Платформа ps4: 0.41\n",
      "Коэффицент корреляции для отзывов пользователей. Платформа ps4: -0.03\n",
      "\n",
      "Коэффицент корреляции для отзывов критиков. Платформа xone: 0.42\n",
      "Коэффицент корреляции для отзывов пользователей. Платформа xone: -0.07\n",
      "\n",
      "Коэффицент корреляции для отзывов критиков. Платформа wiiu: 0.38\n",
      "Коэффицент корреляции для отзывов пользователей. Платформа wiiu: 0.42\n",
      "\n",
      "Коэффицент корреляции для отзывов критиков. Платформа pc: 0.20\n",
      "Коэффицент корреляции для отзывов пользователей. Платформа pc: -0.09\n",
      "\n"
     ]
    }
   ],
   "source": [
    "# с помощью цикла посчитаем коэф. корреляции для каждой платформы\n",
    "for pl in platform:\n",
    "    cor_critic_score = data_pl.loc[(data_pl['platform'] == pl)&(data_pl['critic_score'] != -1)]['total_sales'].corr(data_pl['critic_score'])\n",
    "    cor_user_score = data_pl.loc[(data_pl['platform'] == pl)&(data_pl['user_score'] != -5)]['total_sales'].corr(data_pl['user_score'])\n",
    "    print('Коэффицент корреляции для отзывов критиков. Платформа {}: {}'.format(pl, '%.2f' % cor_critic_score))\n",
    "    print('Коэффицент корреляции для отзывов пользователей. Платформа {}: {}'.format(pl, '%.2f' % cor_user_score))\n",
    "    print()"
   ]
  },
  {
   "cell_type": "markdown",
   "metadata": {},
   "source": [
    "Как было сказано выше, наиболее сильная корреляция одновременно между продажами и оценками как критиков, так и пользователей у платформы WIIU, однако корреляция продаж с оценками критиков сильнее у платформы XOne и PS4. В целом можно сказать, что оценки пользователей почти не оказывают влияния на продажи, а оценки критиков оказывают умеренное влияние. Таким образом, игры с более высокими оценками критиков с большой вероятностью будут продаваться лучше."
   ]
  },
  {
   "cell_type": "markdown",
   "metadata": {},
   "source": [
    "### Распределение игр по жанрам"
   ]
  },
  {
   "cell_type": "code",
   "execution_count": 29,
   "metadata": {
    "scrolled": false
   },
   "outputs": [
    {
     "data": {
      "image/png": "[encoded data removed]",
      "text/plain": [
       "<Figure size 720x432 with 1 Axes>"
      ]
     },
     "metadata": {
      "needs_background": "light"
     },
     "output_type": "display_data"
    }
   ],
   "source": [
    "plt.figure(figsize=(10, 6))\n",
    "\n",
    "# строим сводную таблицу с суммарными продажами в разрезе жанров игр\n",
    "data_genre = data_itog.pivot_table(index='genre', values='total_sales', aggfunc='median').sort_values(by='total_sales', ascending=False)\n",
    "\n",
    "# строим столбчатую диаграмму\n",
    "sns.barplot(y=data_genre.index, x='total_sales', data=data_genre, color='lightgreen');\n",
    "plt.grid(True)\n",
    "   \n",
    "plt.title('Суммарные продажи игр в разрезе жанров')\n",
    "plt.xlabel('Продажи')\n",
    "plt.ylabel('Жанр')\n",
    "\n",
    "\n",
    "plt.show()"
   ]
  },
  {
   "cell_type": "markdown",
   "metadata": {},
   "source": [
    "Наиболее популярными жанрами игр во всем мире являются: 'shooter', 'sports','platform', 'role-playing', у них самые большие медианные продажи. Менее всего пользуются спросом 'puzzle' и 'adventure'."
   ]
  },
  {
   "cell_type": "markdown",
   "metadata": {},
   "source": [
    "## Портрет пользователя каждого региона"
   ]
  },
  {
   "cell_type": "markdown",
   "metadata": {},
   "source": [
    "### Популярные платформы"
   ]
  },
  {
   "cell_type": "code",
   "execution_count": 30,
   "metadata": {},
   "outputs": [],
   "source": [
    "# готовим данные для графика: считаем для каждого региона долю каждой платформы в общем объеме продаж\n",
    "reg_na = data_itog.pivot_table(index='platform', values='na_sales', aggfunc='sum').sort_values(by='na_sales', ascending=False)\n",
    "reg_na['share'] = round(reg_na['na_sales'] / reg_na['na_sales'].sum() * 100, 1)\n",
    "\n",
    "reg_eu = data_itog.pivot_table(index='platform', values='eu_sales', aggfunc='sum').sort_values(by='eu_sales', ascending=False)\n",
    "reg_eu['share'] = round(reg_eu['eu_sales'] / reg_eu['eu_sales'].sum() * 100, 1)\n",
    "\n",
    "reg_jp = data_itog.pivot_table(index='platform', values='jp_sales', aggfunc='sum').sort_values(by='jp_sales', ascending=False)\n",
    "reg_jp['share'] = round(reg_jp['jp_sales'] / reg_jp['jp_sales'].sum() * 100, 1)"
   ]
  },
  {
   "cell_type": "code",
   "execution_count": 31,
   "metadata": {},
   "outputs": [
    {
     "data": {
      "image/png": "[encoded data removed]",
      "text/plain": [
       "<Figure size 1440x504 with 3 Axes>"
      ]
     },
     "metadata": {
      "needs_background": "light"
     },
     "output_type": "display_data"
    }
   ],
   "source": [
    "# построим график для каждого региона \n",
    "plt.figure(figsize=(20, 7))\n",
    "plt.suptitle('Популярные платформы в разрезе регионов', fontsize=15)\n",
    "\n",
    "# строим график для регона NA\n",
    "plt.subplot(1, 3, 1)\n",
    "sns.barplot(data=reg_na, x=reg_na.index, y='share')\n",
    "plt.title('Регион: NA')\n",
    "plt.ylabel('Доля')\n",
    "plt.xlabel('Платформа')\n",
    "plt.grid(True)\n",
    "for index, value in enumerate(reg_na['share']):\n",
    "        plt.text(index, value, str(value), ha='center', va='bottom') #подписываем значения на графике\n",
    "\n",
    "# строим график для регона EU\n",
    "plt.subplot(1, 3, 2)\n",
    "sns.barplot(data=reg_eu, x=reg_eu.index, y='share')\n",
    "plt.title('Регион: EU')\n",
    "plt.ylabel('Доля')\n",
    "plt.xlabel('Платформа')\n",
    "plt.grid(True)\n",
    "for index, value in enumerate(reg_eu['share']):\n",
    "        plt.text(index, value, str(value), ha='center', va='bottom') #подписываем значения на графике\n",
    "\n",
    "# строим график для регона JP        \n",
    "plt.subplot(1, 3, 3)\n",
    "sns.barplot(data=reg_jp, x=reg_jp.index, y='share')\n",
    "plt.title('Регион: JP')\n",
    "plt.ylabel('Доля')\n",
    "plt.xlabel('Платформа')\n",
    "plt.grid(True)\n",
    "for index, value in enumerate(reg_jp['share']):\n",
    "        plt.text(index, value, str(value), ha='center', va='bottom') #подписываем значения на графике"
   ]
  },
  {
   "cell_type": "markdown",
   "metadata": {},
   "source": [
    "Для каждого региона можно выделить платформы-лидеры:\n",
    "\n",
    "1) Северная Америка:\n",
    "- X360\n",
    "- PS4\n",
    "- PS3\n",
    "- XONE\n",
    "- 3DS\n",
    "\n",
    "Остальные платформы занимают значительно меньшие доли в общей сумме продаж.\n",
    "\n",
    "2) Европа:\n",
    "- PS4\n",
    "- PS3\n",
    "- X360\n",
    "- XONE\n",
    "- 3DS\n",
    "\n",
    "В Европе разница меджду платформами менее заметна, чем в Северной Америке и Японии. При этом лидеры в Европе и Северной Америке одни и те же, отличаются только позиции в топе. И там, и там на 5 месте оказалась платформа 3DS.\n",
    "\n",
    "3) Япония:\n",
    "- 3DS\n",
    "- PS3\n",
    "- PSV\n",
    "- PS4\n",
    "- WIIU\n",
    "\n",
    "Абсолютным лидером по продажам в Японии является 3DS, там же и произведенная. Далее идут платформы от PlayStation разных поколений, а вот консоли Xbox наименее популярны у японцев."
   ]
  },
  {
   "cell_type": "markdown",
   "metadata": {},
   "source": [
    "### Популярные жанры"
   ]
  },
  {
   "cell_type": "code",
   "execution_count": 32,
   "metadata": {},
   "outputs": [],
   "source": [
    "# готовим данные для графика: считаем для каждого региона долю каждого жанра в общем объеме продаж\n",
    "gen_na = data_itog.pivot_table(index='genre', values='na_sales', aggfunc='median').sort_values(by='na_sales', ascending=False)\n",
    "gen_na['share'] = round(gen_na['na_sales'] / gen_na['na_sales'].sum() * 100, 1)\n",
    "\n",
    "gen_eu = data_itog.pivot_table(index='genre', values='eu_sales', aggfunc='median').sort_values(by='eu_sales', ascending=False)\n",
    "gen_eu['share'] = round(gen_eu['eu_sales'] / gen_eu['eu_sales'].sum() * 100, 1)\n",
    "\n",
    "gen_jp = data_itog.pivot_table(index='genre', values='jp_sales', aggfunc='median').sort_values(by='jp_sales', ascending=False)\n",
    "gen_jp['share'] = round(gen_jp['jp_sales'] / gen_jp['jp_sales'].sum() * 100, 1)"
   ]
  },
  {
   "cell_type": "code",
   "execution_count": 33,
   "metadata": {
    "scrolled": false
   },
   "outputs": [
    {
     "data": {
      "image/png": "[encoded data removed]",
      "text/plain": [
       "<Figure size 1440x504 with 3 Axes>"
      ]
     },
     "metadata": {
      "needs_background": "light"
     },
     "output_type": "display_data"
    }
   ],
   "source": [
    "plt.figure(figsize=(20, 7))\n",
    "plt.suptitle('Популярные жанры в разрезе регионов', fontsize=15)\n",
    "\n",
    "# строим график для регона NA\n",
    "plt.subplot(1, 3, 1)\n",
    "sns.barplot(data=gen_na, y=gen_na.index, x='share')\n",
    "plt.title('Регион: NA')\n",
    "plt.ylabel('Доля')\n",
    "plt.xlabel('Жанр')\n",
    "plt.grid(True)\n",
    "\n",
    "# строим график для регона EU\n",
    "plt.subplot(1, 3, 2)\n",
    "sns.barplot(data=gen_eu, y=gen_eu.index, x='share')\n",
    "plt.title('Регион: EU')\n",
    "plt.ylabel('Доля')\n",
    "plt.xlabel('Жанр')\n",
    "plt.grid(True)\n",
    "\n",
    "# строим график для регона JP        \n",
    "plt.subplot(1, 3, 3)\n",
    "sns.barplot(data=gen_jp, y=gen_jp.index, x='share')\n",
    "plt.title('Регион: JP')\n",
    "plt.ylabel('Доля')\n",
    "plt.xlabel('Жанр')\n",
    "plt.grid(True)"
   ]
  },
  {
   "cell_type": "markdown",
   "metadata": {},
   "source": [
    "Для каждого региона выделим жанры-лидеры:\n",
    "\n",
    "1) Северная Америка:\n",
    "- shooter\n",
    "- platform\n",
    "- sports\n",
    "- fighting\n",
    "- racing\n",
    "\n",
    "2) Европа:\n",
    "- shooter\n",
    "- platform\n",
    "- racing\n",
    "- sports\n",
    "- simulation\n",
    "\n",
    "Первые 4 позиции в топе у Северной Америки и Европе идентичны.\n",
    "\n",
    "3) Япония:\n",
    "- role-playing\n",
    "- fighting\n",
    "- misc\n",
    "- puzzle\n",
    "- action\n",
    "\n",
    "Топ жанров в Японии заметно отличается от Европы и Северной Америки. Различие менталитета и культуры определяют наиболее интересные для пользователей жанры. "
   ]
  },
  {
   "cell_type": "markdown",
   "metadata": {},
   "source": [
    "### Влияние рейтинга ESRB на продажи"
   ]
  },
  {
   "cell_type": "code",
   "execution_count": 34,
   "metadata": {},
   "outputs": [],
   "source": [
    "# готовим данные для графика: считаем для каждого региона продажи игр с разными рейтингами\n",
    "rat_na = data_itog.pivot_table(index='rating', values='na_sales', aggfunc='sum').sort_values(by='na_sales', ascending=False)\n",
    "rat_na['share'] = round(rat_na['na_sales'] / rat_na['na_sales'].sum() * 100, 1)\n",
    "\n",
    "rat_eu = data_itog.pivot_table(index='rating', values='eu_sales', aggfunc='sum').sort_values(by='eu_sales', ascending=False)\n",
    "rat_eu['share'] = round(rat_eu['eu_sales'] / rat_eu['eu_sales'].sum() * 100, 1)\n",
    "\n",
    "rat_jp = data_itog.pivot_table(index='rating', values='jp_sales', aggfunc='sum').sort_values(by='jp_sales', ascending=False)\n",
    "rat_jp['share'] = round(rat_jp['jp_sales'] / rat_jp['jp_sales'].sum() * 100, 1)"
   ]
  },
  {
   "cell_type": "code",
   "execution_count": 35,
   "metadata": {},
   "outputs": [
    {
     "data": {
      "image/png": "[encoded data removed]",
      "text/plain": [
       "<Figure size 1440x504 with 3 Axes>"
      ]
     },
     "metadata": {
      "needs_background": "light"
     },
     "output_type": "display_data"
    }
   ],
   "source": [
    "# построим график для каждого региона \n",
    "plt.figure(figsize=(20, 7))\n",
    "plt.suptitle('Популярные платформы в разрезе регионов', fontsize=15)\n",
    "\n",
    "# строим график для регона NA\n",
    "plt.subplot(1, 3, 1)\n",
    "sns.barplot(data=rat_na, x=rat_na.index, y='share')\n",
    "plt.title('Регион: NA')\n",
    "plt.ylabel('Доля')\n",
    "plt.xlabel('Рейтинг')\n",
    "plt.grid(True)\n",
    "for index, value in enumerate(rat_na['share']):\n",
    "        plt.text(index, value, str(value), ha='center', va='bottom') #подписываем значения на графике\n",
    "\n",
    "# строим график для регона EU\n",
    "plt.subplot(1, 3, 2)\n",
    "sns.barplot(data=rat_eu, x=rat_eu.index, y='share')\n",
    "plt.title('Регион: EU')\n",
    "plt.ylabel('Доля')\n",
    "plt.xlabel('Рейтинг')\n",
    "plt.grid(True)\n",
    "for index, value in enumerate(rat_eu['share']):\n",
    "        plt.text(index, value, str(value), ha='center', va='bottom') #подписываем значения на графике\n",
    "\n",
    "# строим график для регона JP        \n",
    "plt.subplot(1, 3, 3)\n",
    "sns.barplot(data=rat_jp, x=rat_jp.index, y='share')\n",
    "plt.title('Регион: JP')\n",
    "plt.ylabel('Доля')\n",
    "plt.xlabel('Рейтинг')\n",
    "plt.grid(True)\n",
    "for index, value in enumerate(rat_jp['share']):\n",
    "        plt.text(index, value, str(value), ha='center', va='bottom') #подписываем значения на графике"
   ]
  },
  {
   "cell_type": "markdown",
   "metadata": {},
   "source": [
    "Значения рейтингов:\n",
    "\n",
    "- M (от 17 лет и старше)\n",
    "- E (для всех возрастов)\n",
    "- E10+ (от 10 лет и старше)\n",
    "- T (от 13 лет и старше)\n",
    "\n",
    "\n",
    "Можно заметить, что распределение игр по рейтингам в Европе и Северной америке совпадают, наибольшую долю занимают игры от 17 лет и старше и игры для все возрастов. В Японии преобладают игры для всех возрастов и от 13 лет, однако в Японии большая доля игр без возастного рейтинга. Это связано с тем, что в Японии существуют свои рейтинговые агенства - CERO и EOCS, которые и устанавливают возрастные ограничения."
   ]
  },
  {
   "cell_type": "markdown",
   "metadata": {},
   "source": [
    "## Гипотезы"
   ]
  },
  {
   "cell_type": "markdown",
   "metadata": {},
   "source": [
    "- H0 формулируют так, чтобы использовать знак равенства.\n",
    "- Альтернативная гипотеза H1 формулируется на основании нулевой гипотезы. Это утверждение, которое принимается верным, если отвергается H0\n",
    "\n",
    "Для проверки гипотез значение alpha примем равным 0.5, и будем использовать метод проверки ttest_ind, так как в обеих гипотезах сравниваются 2 независимые генеральные совокупности."
   ]
  },
  {
   "cell_type": "markdown",
   "metadata": {},
   "source": [
    "### Гипотеза: средние пользовательские рейтинги платформ Xbox One и PC одинаковые"
   ]
  },
  {
   "cell_type": "markdown",
   "metadata": {},
   "source": [
    "Гипотеза: Средние пользовательские рейтинги платформ Xbox One и PC одинаковые\n",
    "\n",
    "H0 - пользовательские рейтинги Xbox One и PC РАВНЫ\n",
    "\n",
    "H1 - пользовательские рейтинги Xbox One и PC ОТЛИЧАЮТСЯ\n",
    "\n",
    "Сравним размеры выборок, для того чтобы выбрать правильное значение параметра equal_var"
   ]
  },
  {
   "cell_type": "code",
   "execution_count": 36,
   "metadata": {},
   "outputs": [],
   "source": [
    "# отбираем данные, в которых не производилось заполнение пропусков в стоблце user_score\n",
    "data_hyp = data_itog.query('user_score != -5')"
   ]
  },
  {
   "cell_type": "code",
   "execution_count": 37,
   "metadata": {
    "scrolled": true
   },
   "outputs": [
    {
     "name": "stdout",
     "output_type": "stream",
     "text": [
      "Размер совокопуности для Xbox One: 182\n",
      "Размер совокопуности для PC: 155\n"
     ]
    }
   ],
   "source": [
    "print('Размер совокопуности для Xbox One:', len(data_hyp.query('platform == \"xone\"')['user_score']))\n",
    "print('Размер совокопуности для PC:', len(data_hyp.query('platform == \"pc\"')['user_score']))"
   ]
  },
  {
   "cell_type": "markdown",
   "metadata": {},
   "source": [
    "Размеры выборок достаточно сильно различаются, поэтому примем значение equal_var равным False."
   ]
  },
  {
   "cell_type": "code",
   "execution_count": 38,
   "metadata": {
    "scrolled": true
   },
   "outputs": [
    {
     "name": "stdout",
     "output_type": "stream",
     "text": [
      "p-значение: 0.14759594013430463\n",
      "Не получилось отвергнуть нулевую гипотезу\n"
     ]
    }
   ],
   "source": [
    "alpha = 0.05 # задаем уровень статистической значимости\n",
    "\n",
    "# рассчитываем p-value\n",
    "results = st.ttest_ind(data_hyp.query('platform == \"xone\"')['user_score'], data_hyp.query('platform == \"pc\"')['user_score'], equal_var=False)\n",
    "\n",
    "print('p-значение:', results.pvalue) #выводим значение p-value\n",
    "\n",
    "# сравниваем полученное p-value с уровнем значимости\n",
    "if results.pvalue < alpha:\n",
    "    print('Отвергаем нулевую гипотезу')\n",
    "else:\n",
    "    print('Не получилось отвергнуть нулевую гипотезу') "
   ]
  },
  {
   "cell_type": "markdown",
   "metadata": {},
   "source": [
    "По итогам проверки гипотез мы не можем отвергнуть нулевую гипотезу, то есть средние пользовательскте оценки платформ Xbox One и PC равны."
   ]
  },
  {
   "cell_type": "markdown",
   "metadata": {},
   "source": [
    "### Гипотеза: средние пользовательские рейтинги жанров Action и Sports разные"
   ]
  },
  {
   "cell_type": "markdown",
   "metadata": {},
   "source": [
    "Гипотеза: Средние пользовательские рейтинги жанров Action и Sports разные.\n",
    "\n",
    "H0 - пользовательские рейтинги жанров Action и Sports равны\n",
    "\n",
    "H1 - пользовательские рейтинги жанров Action и Sports разные\n",
    "\n",
    "Сравним размеры выборок, для того чтобы выбрать правильное значение параметра equal_var"
   ]
  },
  {
   "cell_type": "code",
   "execution_count": 39,
   "metadata": {
    "scrolled": true
   },
   "outputs": [
    {
     "name": "stdout",
     "output_type": "stream",
     "text": [
      "Размер совокопуности для ACTION: 389\n",
      "Размер совокопуности для SPORTS: 160\n"
     ]
    }
   ],
   "source": [
    "print('Размер совокопуности для ACTION:', len(data_hyp.query('genre == \"action\"')['user_score']))\n",
    "print('Размер совокопуности для SPORTS:', len(data_hyp.query('genre == \"sports\"')['user_score']))"
   ]
  },
  {
   "cell_type": "markdown",
   "metadata": {},
   "source": [
    "Размеры выборок очень сильно отличаются, поэтому параметр equal_var примем равным False"
   ]
  },
  {
   "cell_type": "code",
   "execution_count": 40,
   "metadata": {},
   "outputs": [
    {
     "name": "stdout",
     "output_type": "stream",
     "text": [
      "p-значение: 1.4460039700704315e-20\n",
      "Отвергаем нулевую гипотезу\n"
     ]
    }
   ],
   "source": [
    "alpha = 0.05 # задаем уровень статистической значимости\n",
    "\n",
    "# рассчитываем p-value\n",
    "results = st.ttest_ind(data_hyp.query('genre == \"action\"')['user_score'], data_hyp.query('genre == \"sports\"')['user_score'], equal_var=False)\n",
    "\n",
    "print('p-значение:', results.pvalue) #выводим значение p-value\n",
    "\n",
    "# сравниваем полученное p-value с уровнем значимости\n",
    "if results.pvalue < alpha:\n",
    "    print('Отвергаем нулевую гипотезу')\n",
    "else:\n",
    "    print('Не получилось отвергнуть нулевую гипотезу') "
   ]
  },
  {
   "cell_type": "markdown",
   "metadata": {},
   "source": [
    "По итогам теста мы отвергаем нулевую гипотезу, то есть пользовательские рейтинги Action и Sports отличаются."
   ]
  },
  {
   "cell_type": "markdown",
   "metadata": {},
   "source": [
    "## Вывод"
   ]
  },
  {
   "cell_type": "markdown",
   "metadata": {},
   "source": [
    "Был проведен исследовательский анализ данных, в ходе которого было установлено:\n",
    "1.\tЖизненный цикл игровых платформ - 10-11 лет. Причем примерно каждые 5 лет появляется новая платформа\n",
    "2.\tПотенциально прибыльными платформами являются PS4, XOne, 3DS, WIIU, PC\n",
    "3.\tОценки пользователей практически не влияют на продажи игр, а вот оценки критиков оказывают умеренное прямое влияние, т.е. Чем выше оценка критиков, тем выше продажи\n",
    "4.\tНаиболее популярные во всем мире жанры: 'shooter', 'role-playing' и 'sports'\n",
    "\n",
    "Так же необходимо помнить о различиях между пользователями из разных регионов и учитывать их специфику, в том числе популярные в отдельном регионе консоли, жанры и возрастные рейтинги. Перспективные направления в разных регионах:\n",
    "\n",
    "- Северная Америка:\n",
    "\t-\tПлатформы:  Xbox и PlayStation\n",
    "\t-\tЖанры:  shooter, platform\n",
    "\t-\tВозрастные рейтинги:  M, E\n",
    "- Европа:\n",
    "\t-\tПлатформы:  PlayStation и Xbox\n",
    "\t-\tЖанры:  shooter, platform\n",
    "\t-\tВозрастные рейтинги:  M, E\n",
    "- Япония:\n",
    "\t-\tПлатформы: 3DS и  PlayStation\n",
    "\t-\tЖанры:  role-playing, fighting\n",
    "\t-\tВозрастные рейтинги:   E, T\n"
   ]
  },
  {
   "cell_type": "code",
   "execution_count": null,
   "metadata": {},
   "outputs": [],
   "source": []
  }
 ],
 "metadata": {
  "ExecuteTimeLog": [
   {
    "duration": 485,
    "start_time": "2024-12-02T17:02:04.963Z"
   },
   {
    "duration": 963,
    "start_time": "2024-12-02T17:03:44.935Z"
   },
   {
    "duration": 192,
    "start_time": "2024-12-02T17:04:12.991Z"
   },
   {
    "duration": 81,
    "start_time": "2024-12-02T17:04:35.483Z"
   },
   {
    "duration": 52,
    "start_time": "2024-12-02T17:10:46.363Z"
   },
   {
    "duration": 15,
    "start_time": "2024-12-02T17:12:43.982Z"
   },
   {
    "duration": 22,
    "start_time": "2024-12-02T17:13:49.658Z"
   },
   {
    "duration": 32,
    "start_time": "2024-12-02T17:39:35.367Z"
   },
   {
    "duration": 39,
    "start_time": "2024-12-02T17:40:38.539Z"
   },
   {
    "duration": 6,
    "start_time": "2024-12-02T17:43:04.266Z"
   },
   {
    "duration": 29,
    "start_time": "2024-12-02T17:43:10.363Z"
   },
   {
    "duration": 29,
    "start_time": "2024-12-02T17:43:47.994Z"
   },
   {
    "duration": 13,
    "start_time": "2024-12-02T17:45:40.707Z"
   },
   {
    "duration": 36,
    "start_time": "2024-12-02T17:45:44.472Z"
   },
   {
    "duration": 19,
    "start_time": "2024-12-02T17:50:11.551Z"
   },
   {
    "duration": 28,
    "start_time": "2024-12-02T17:50:15.861Z"
   },
   {
    "duration": 9,
    "start_time": "2024-12-02T17:53:01.343Z"
   },
   {
    "duration": 28,
    "start_time": "2024-12-02T17:53:08.590Z"
   },
   {
    "duration": 16,
    "start_time": "2024-12-02T18:00:28.066Z"
   },
   {
    "duration": 10,
    "start_time": "2024-12-02T18:01:23.763Z"
   },
   {
    "duration": 3,
    "start_time": "2024-12-02T18:01:28.231Z"
   },
   {
    "duration": 8,
    "start_time": "2024-12-02T18:01:31.246Z"
   },
   {
    "duration": 28,
    "start_time": "2024-12-02T18:01:50.216Z"
   },
   {
    "duration": 16,
    "start_time": "2024-12-02T18:02:43.286Z"
   },
   {
    "duration": 18,
    "start_time": "2024-12-02T18:02:50.177Z"
   },
   {
    "duration": 79,
    "start_time": "2024-12-02T18:03:04.430Z"
   },
   {
    "duration": 36,
    "start_time": "2024-12-02T18:03:07.411Z"
   },
   {
    "duration": 26,
    "start_time": "2024-12-02T18:03:32.570Z"
   },
   {
    "duration": 21,
    "start_time": "2024-12-02T18:03:36.990Z"
   },
   {
    "duration": 474,
    "start_time": "2024-12-02T18:03:41.222Z"
   },
   {
    "duration": 467,
    "start_time": "2024-12-02T18:04:17.167Z"
   },
   {
    "duration": 35,
    "start_time": "2024-12-02T18:07:56.367Z"
   },
   {
    "duration": 18,
    "start_time": "2024-12-02T18:08:22.245Z"
   },
   {
    "duration": 87,
    "start_time": "2024-12-02T18:08:35.422Z"
   },
   {
    "duration": 38,
    "start_time": "2024-12-02T18:08:37.877Z"
   },
   {
    "duration": 33,
    "start_time": "2024-12-02T18:08:42.054Z"
   },
   {
    "duration": 21,
    "start_time": "2024-12-02T18:08:54.290Z"
   },
   {
    "duration": 15,
    "start_time": "2024-12-02T18:09:08.421Z"
   },
   {
    "duration": 3,
    "start_time": "2024-12-02T18:09:14.402Z"
   },
   {
    "duration": 88,
    "start_time": "2024-12-02T18:09:14.407Z"
   },
   {
    "duration": 36,
    "start_time": "2024-12-02T18:09:14.496Z"
   },
   {
    "duration": 17,
    "start_time": "2024-12-02T18:09:14.533Z"
   },
   {
    "duration": 36,
    "start_time": "2024-12-02T18:09:14.552Z"
   },
   {
    "duration": 24,
    "start_time": "2024-12-02T18:09:39.779Z"
   },
   {
    "duration": 13,
    "start_time": "2024-12-02T18:09:44.318Z"
   },
   {
    "duration": 17,
    "start_time": "2024-12-02T18:10:56.952Z"
   },
   {
    "duration": 4,
    "start_time": "2024-12-02T18:11:05.099Z"
   },
   {
    "duration": 128,
    "start_time": "2024-12-02T18:11:05.105Z"
   },
   {
    "duration": 63,
    "start_time": "2024-12-02T18:11:05.235Z"
   },
   {
    "duration": 28,
    "start_time": "2024-12-02T18:11:05.299Z"
   },
   {
    "duration": 14,
    "start_time": "2024-12-02T18:11:05.329Z"
   },
   {
    "duration": 18,
    "start_time": "2024-12-02T18:12:04.246Z"
   },
   {
    "duration": 9,
    "start_time": "2024-12-02T18:12:15.770Z"
   },
   {
    "duration": 11,
    "start_time": "2024-12-02T18:14:48.118Z"
   },
   {
    "duration": 152,
    "start_time": "2024-12-02T18:21:11.011Z"
   },
   {
    "duration": 188,
    "start_time": "2024-12-02T18:21:19.002Z"
   },
   {
    "duration": 131,
    "start_time": "2024-12-02T18:21:48.947Z"
   },
   {
    "duration": 2519,
    "start_time": "2024-12-02T18:22:48.917Z"
   },
   {
    "duration": 2484,
    "start_time": "2024-12-02T18:22:54.634Z"
   },
   {
    "duration": 13,
    "start_time": "2024-12-02T18:23:24.727Z"
   },
   {
    "duration": 2622,
    "start_time": "2024-12-02T18:25:58.434Z"
   },
   {
    "duration": 2650,
    "start_time": "2024-12-02T18:26:02.082Z"
   },
   {
    "duration": 7,
    "start_time": "2024-12-02T18:27:12.938Z"
   },
   {
    "duration": 6,
    "start_time": "2024-12-02T18:27:24.692Z"
   },
   {
    "duration": 16,
    "start_time": "2024-12-02T18:27:38.978Z"
   },
   {
    "duration": 5,
    "start_time": "2024-12-02T18:27:43.642Z"
   },
   {
    "duration": 10,
    "start_time": "2024-12-02T18:27:47.266Z"
   },
   {
    "duration": 10,
    "start_time": "2024-12-02T18:27:50.643Z"
   },
   {
    "duration": 6,
    "start_time": "2024-12-02T18:28:32.601Z"
   },
   {
    "duration": 4,
    "start_time": "2024-12-02T18:28:43.242Z"
   },
   {
    "duration": 5,
    "start_time": "2024-12-02T18:28:54.122Z"
   },
   {
    "duration": 3,
    "start_time": "2024-12-02T18:29:18.634Z"
   },
   {
    "duration": 83,
    "start_time": "2024-12-02T18:29:18.639Z"
   },
   {
    "duration": 35,
    "start_time": "2024-12-02T18:29:18.724Z"
   },
   {
    "duration": 24,
    "start_time": "2024-12-02T18:29:18.773Z"
   },
   {
    "duration": 30,
    "start_time": "2024-12-02T18:29:18.799Z"
   },
   {
    "duration": 21,
    "start_time": "2024-12-02T18:29:18.831Z"
   },
   {
    "duration": 23,
    "start_time": "2024-12-02T18:29:18.853Z"
   },
   {
    "duration": 11,
    "start_time": "2024-12-02T18:29:18.878Z"
   },
   {
    "duration": 141,
    "start_time": "2024-12-02T18:29:18.891Z"
   },
   {
    "duration": 1104,
    "start_time": "2024-12-02T18:29:19.033Z"
   },
   {
    "duration": 11,
    "start_time": "2024-12-02T18:29:20.140Z"
   },
   {
    "duration": 20,
    "start_time": "2024-12-02T18:29:20.153Z"
   },
   {
    "duration": 7,
    "start_time": "2024-12-02T18:29:20.175Z"
   },
   {
    "duration": 990,
    "start_time": "2024-12-02T18:29:20.184Z"
   },
   {
    "duration": 4,
    "start_time": "2024-12-02T18:33:12.331Z"
   },
   {
    "duration": 1277,
    "start_time": "2024-12-03T17:16:11.022Z"
   },
   {
    "duration": 196,
    "start_time": "2024-12-03T17:16:12.301Z"
   },
   {
    "duration": 30,
    "start_time": "2024-12-03T17:16:12.498Z"
   },
   {
    "duration": 23,
    "start_time": "2024-12-03T17:16:12.529Z"
   },
   {
    "duration": 12,
    "start_time": "2024-12-03T17:16:12.554Z"
   },
   {
    "duration": 21,
    "start_time": "2024-12-03T17:16:12.567Z"
   },
   {
    "duration": 8,
    "start_time": "2024-12-03T17:16:12.589Z"
   },
   {
    "duration": 12,
    "start_time": "2024-12-03T17:16:12.598Z"
   },
   {
    "duration": 126,
    "start_time": "2024-12-03T17:16:12.611Z"
   },
   {
    "duration": 917,
    "start_time": "2024-12-03T17:16:12.738Z"
   },
   {
    "duration": 11,
    "start_time": "2024-12-03T17:16:13.657Z"
   },
   {
    "duration": 6,
    "start_time": "2024-12-03T17:16:13.670Z"
   },
   {
    "duration": 5,
    "start_time": "2024-12-03T17:16:13.677Z"
   },
   {
    "duration": 4,
    "start_time": "2024-12-03T17:16:13.684Z"
   },
   {
    "duration": 17,
    "start_time": "2024-12-03T17:16:49.280Z"
   },
   {
    "duration": 12,
    "start_time": "2024-12-03T17:16:56.899Z"
   },
   {
    "duration": 1373,
    "start_time": "2024-12-03T17:20:47.369Z"
   },
   {
    "duration": 5,
    "start_time": "2024-12-03T17:20:58.000Z"
   },
   {
    "duration": 3,
    "start_time": "2024-12-03T17:22:13.749Z"
   },
   {
    "duration": 4,
    "start_time": "2024-12-03T17:22:18.780Z"
   },
   {
    "duration": 7,
    "start_time": "2024-12-03T17:23:45.732Z"
   },
   {
    "duration": 5,
    "start_time": "2024-12-03T17:23:53.088Z"
   },
   {
    "duration": 6,
    "start_time": "2024-12-03T17:24:08.624Z"
   },
   {
    "duration": 7,
    "start_time": "2024-12-03T17:24:49.665Z"
   },
   {
    "duration": 14,
    "start_time": "2024-12-03T17:24:58.556Z"
   },
   {
    "duration": 5,
    "start_time": "2024-12-03T17:25:24.708Z"
   },
   {
    "duration": 5,
    "start_time": "2024-12-03T17:25:26.547Z"
   },
   {
    "duration": 6,
    "start_time": "2024-12-03T17:26:13.276Z"
   },
   {
    "duration": 5,
    "start_time": "2024-12-03T17:26:17.267Z"
   },
   {
    "duration": 17,
    "start_time": "2024-12-03T17:26:19.748Z"
   },
   {
    "duration": 5,
    "start_time": "2024-12-03T17:27:32.241Z"
   },
   {
    "duration": 2,
    "start_time": "2024-12-03T17:27:40.340Z"
   },
   {
    "duration": 78,
    "start_time": "2024-12-03T17:27:40.344Z"
   },
   {
    "duration": 29,
    "start_time": "2024-12-03T17:27:40.424Z"
   },
   {
    "duration": 14,
    "start_time": "2024-12-03T17:27:40.455Z"
   },
   {
    "duration": 10,
    "start_time": "2024-12-03T17:27:40.471Z"
   },
   {
    "duration": 14,
    "start_time": "2024-12-03T17:27:40.483Z"
   },
   {
    "duration": 8,
    "start_time": "2024-12-03T17:27:40.499Z"
   },
   {
    "duration": 9,
    "start_time": "2024-12-03T17:27:40.533Z"
   },
   {
    "duration": 15,
    "start_time": "2024-12-03T17:27:40.543Z"
   },
   {
    "duration": 25,
    "start_time": "2024-12-03T17:27:40.559Z"
   },
   {
    "duration": 15,
    "start_time": "2024-12-03T17:27:40.587Z"
   },
   {
    "duration": 8,
    "start_time": "2024-12-03T17:27:40.604Z"
   },
   {
    "duration": 22,
    "start_time": "2024-12-03T17:27:40.613Z"
   },
   {
    "duration": 5,
    "start_time": "2024-12-03T17:27:40.636Z"
   },
   {
    "duration": 6,
    "start_time": "2024-12-03T17:27:40.642Z"
   },
   {
    "duration": 4,
    "start_time": "2024-12-03T17:28:07.236Z"
   },
   {
    "duration": 4,
    "start_time": "2024-12-03T17:28:24.384Z"
   },
   {
    "duration": 12,
    "start_time": "2024-12-03T17:28:31.420Z"
   },
   {
    "duration": 5,
    "start_time": "2024-12-03T17:29:11.360Z"
   },
   {
    "duration": 12,
    "start_time": "2024-12-03T17:29:22.512Z"
   },
   {
    "duration": 20,
    "start_time": "2024-12-03T17:30:39.868Z"
   },
   {
    "duration": 3,
    "start_time": "2024-12-03T17:34:42.096Z"
   },
   {
    "duration": 57,
    "start_time": "2024-12-03T17:34:45.672Z"
   },
   {
    "duration": 28,
    "start_time": "2024-12-03T17:35:49.984Z"
   },
   {
    "duration": 388,
    "start_time": "2024-12-03T17:39:04.820Z"
   },
   {
    "duration": 15,
    "start_time": "2024-12-03T17:39:34.703Z"
   },
   {
    "duration": 177,
    "start_time": "2024-12-03T17:39:48.063Z"
   },
   {
    "duration": 125,
    "start_time": "2024-12-03T17:39:53.460Z"
   },
   {
    "duration": 131,
    "start_time": "2024-12-03T17:40:44.070Z"
   },
   {
    "duration": 169,
    "start_time": "2024-12-03T17:41:36.288Z"
   },
   {
    "duration": 125,
    "start_time": "2024-12-03T17:41:55.303Z"
   },
   {
    "duration": 126,
    "start_time": "2024-12-03T17:42:12.140Z"
   },
   {
    "duration": 8,
    "start_time": "2024-12-03T17:42:20.624Z"
   },
   {
    "duration": 3,
    "start_time": "2024-12-03T17:42:59.816Z"
   },
   {
    "duration": 121,
    "start_time": "2024-12-03T17:43:39.171Z"
   },
   {
    "duration": 118,
    "start_time": "2024-12-03T17:43:52.664Z"
   },
   {
    "duration": 17,
    "start_time": "2024-12-03T17:44:01.060Z"
   },
   {
    "duration": 9,
    "start_time": "2024-12-03T17:44:05.923Z"
   },
   {
    "duration": 280,
    "start_time": "2024-12-03T17:48:34.708Z"
   },
   {
    "duration": 275,
    "start_time": "2024-12-03T17:49:05.463Z"
   },
   {
    "duration": 273,
    "start_time": "2024-12-03T17:49:19.031Z"
   },
   {
    "duration": 344,
    "start_time": "2024-12-03T17:50:16.823Z"
   },
   {
    "duration": 25,
    "start_time": "2024-12-03T17:55:13.047Z"
   },
   {
    "duration": 24,
    "start_time": "2024-12-03T17:55:26.099Z"
   },
   {
    "duration": 33,
    "start_time": "2024-12-03T17:57:12.079Z"
   },
   {
    "duration": 329,
    "start_time": "2024-12-03T17:57:23.963Z"
   },
   {
    "duration": 24,
    "start_time": "2024-12-03T17:59:40.895Z"
   },
   {
    "duration": 19,
    "start_time": "2024-12-03T17:59:44.767Z"
   },
   {
    "duration": 16928,
    "start_time": "2024-12-03T18:02:23.871Z"
   },
   {
    "duration": 19,
    "start_time": "2024-12-03T18:04:41.866Z"
   },
   {
    "duration": 175,
    "start_time": "2024-12-03T18:05:48.627Z"
   },
   {
    "duration": 207,
    "start_time": "2024-12-03T18:06:01.251Z"
   },
   {
    "duration": 163,
    "start_time": "2024-12-03T18:06:18.875Z"
   },
   {
    "duration": 204,
    "start_time": "2024-12-03T18:06:23.150Z"
   },
   {
    "duration": 175,
    "start_time": "2024-12-03T18:06:31.735Z"
   },
   {
    "duration": 7,
    "start_time": "2024-12-03T18:13:16.118Z"
   },
   {
    "duration": 15,
    "start_time": "2024-12-03T18:14:37.446Z"
   },
   {
    "duration": 17,
    "start_time": "2024-12-03T18:14:52.970Z"
   },
   {
    "duration": 224,
    "start_time": "2024-12-03T18:14:57.820Z"
   },
   {
    "duration": 15,
    "start_time": "2024-12-03T18:20:05.122Z"
   },
   {
    "duration": 24,
    "start_time": "2024-12-03T18:20:09.110Z"
   },
   {
    "duration": 149,
    "start_time": "2024-12-03T18:20:29.903Z"
   },
   {
    "duration": 92,
    "start_time": "2024-12-03T18:20:32.999Z"
   },
   {
    "duration": 31,
    "start_time": "2024-12-03T18:20:36.902Z"
   },
   {
    "duration": 31,
    "start_time": "2024-12-03T18:21:09.294Z"
   },
   {
    "duration": 30,
    "start_time": "2024-12-03T18:21:17.372Z"
   },
   {
    "duration": 566,
    "start_time": "2024-12-03T18:22:15.298Z"
   },
   {
    "duration": 582,
    "start_time": "2024-12-03T18:22:29.798Z"
   },
   {
    "duration": 542,
    "start_time": "2024-12-03T18:22:34.722Z"
   },
   {
    "duration": 223,
    "start_time": "2024-12-03T18:23:22.307Z"
   },
   {
    "duration": 483,
    "start_time": "2024-12-03T18:27:13.784Z"
   },
   {
    "duration": 231,
    "start_time": "2024-12-03T18:28:14.438Z"
   },
   {
    "duration": 6,
    "start_time": "2024-12-03T18:28:34.842Z"
   },
   {
    "duration": 234,
    "start_time": "2024-12-03T18:28:36.262Z"
   },
   {
    "duration": 2,
    "start_time": "2024-12-03T18:28:39.614Z"
   },
   {
    "duration": 91,
    "start_time": "2024-12-03T18:28:39.619Z"
   },
   {
    "duration": 32,
    "start_time": "2024-12-03T18:28:39.711Z"
   },
   {
    "duration": 14,
    "start_time": "2024-12-03T18:28:39.745Z"
   },
   {
    "duration": 12,
    "start_time": "2024-12-03T18:28:39.761Z"
   },
   {
    "duration": 14,
    "start_time": "2024-12-03T18:28:39.774Z"
   },
   {
    "duration": 7,
    "start_time": "2024-12-03T18:28:39.790Z"
   },
   {
    "duration": 39,
    "start_time": "2024-12-03T18:28:39.798Z"
   },
   {
    "duration": 19,
    "start_time": "2024-12-03T18:28:39.838Z"
   },
   {
    "duration": 5,
    "start_time": "2024-12-03T18:28:39.858Z"
   },
   {
    "duration": 30,
    "start_time": "2024-12-03T18:28:39.866Z"
   },
   {
    "duration": 5,
    "start_time": "2024-12-03T18:28:39.898Z"
   },
   {
    "duration": 3,
    "start_time": "2024-12-03T18:28:39.904Z"
   },
   {
    "duration": 7,
    "start_time": "2024-12-03T18:28:39.908Z"
   },
   {
    "duration": 25,
    "start_time": "2024-12-03T18:28:39.916Z"
   },
   {
    "duration": 4,
    "start_time": "2024-12-03T18:28:39.942Z"
   },
   {
    "duration": 18,
    "start_time": "2024-12-03T18:28:39.948Z"
   },
   {
    "duration": 3,
    "start_time": "2024-12-03T18:28:39.968Z"
   },
   {
    "duration": 148,
    "start_time": "2024-12-03T18:28:39.973Z"
   },
   {
    "duration": 268,
    "start_time": "2024-12-03T18:28:40.122Z"
   },
   {
    "duration": 14,
    "start_time": "2024-12-03T18:28:40.392Z"
   },
   {
    "duration": 0,
    "start_time": "2024-12-03T18:28:40.407Z"
   },
   {
    "duration": 0,
    "start_time": "2024-12-03T18:28:40.408Z"
   },
   {
    "duration": 0,
    "start_time": "2024-12-03T18:28:40.409Z"
   },
   {
    "duration": 166,
    "start_time": "2024-12-03T18:28:53.153Z"
   },
   {
    "duration": 6,
    "start_time": "2024-12-03T18:28:55.717Z"
   },
   {
    "duration": 219,
    "start_time": "2024-12-03T18:28:58.321Z"
   },
   {
    "duration": 513,
    "start_time": "2024-12-03T18:29:15.325Z"
   },
   {
    "duration": 494,
    "start_time": "2024-12-03T18:29:19.653Z"
   },
   {
    "duration": 552,
    "start_time": "2024-12-03T18:29:26.918Z"
   },
   {
    "duration": 525,
    "start_time": "2024-12-03T18:29:32.629Z"
   },
   {
    "duration": 1350,
    "start_time": "2024-12-04T17:01:46.041Z"
   },
   {
    "duration": 141,
    "start_time": "2024-12-04T17:01:47.393Z"
   },
   {
    "duration": 37,
    "start_time": "2024-12-04T17:01:47.535Z"
   },
   {
    "duration": 19,
    "start_time": "2024-12-04T17:01:47.573Z"
   },
   {
    "duration": 14,
    "start_time": "2024-12-04T17:01:47.595Z"
   },
   {
    "duration": 18,
    "start_time": "2024-12-04T17:01:47.611Z"
   },
   {
    "duration": 42,
    "start_time": "2024-12-04T17:01:47.631Z"
   },
   {
    "duration": 43,
    "start_time": "2024-12-04T17:01:47.675Z"
   },
   {
    "duration": 57,
    "start_time": "2024-12-04T17:01:47.720Z"
   },
   {
    "duration": 5,
    "start_time": "2024-12-04T17:01:47.778Z"
   },
   {
    "duration": 7,
    "start_time": "2024-12-04T17:01:47.785Z"
   },
   {
    "duration": 5,
    "start_time": "2024-12-04T17:01:47.794Z"
   },
   {
    "duration": 3,
    "start_time": "2024-12-04T17:01:47.801Z"
   },
   {
    "duration": 6,
    "start_time": "2024-12-04T17:01:47.806Z"
   },
   {
    "duration": 14,
    "start_time": "2024-12-04T17:01:47.814Z"
   },
   {
    "duration": 14,
    "start_time": "2024-12-04T17:01:47.830Z"
   },
   {
    "duration": 36,
    "start_time": "2024-12-04T17:01:47.845Z"
   },
   {
    "duration": 4,
    "start_time": "2024-12-04T17:01:47.883Z"
   },
   {
    "duration": 176,
    "start_time": "2024-12-04T17:01:47.888Z"
   },
   {
    "duration": 286,
    "start_time": "2024-12-04T17:01:48.066Z"
   },
   {
    "duration": 184,
    "start_time": "2024-12-04T17:01:48.354Z"
   },
   {
    "duration": 6,
    "start_time": "2024-12-04T17:01:48.540Z"
   },
   {
    "duration": 119,
    "start_time": "2024-12-04T17:01:48.547Z"
   },
   {
    "duration": 0,
    "start_time": "2024-12-04T17:01:48.668Z"
   },
   {
    "duration": 28,
    "start_time": "2024-12-04T17:04:08.429Z"
   },
   {
    "duration": 24,
    "start_time": "2024-12-04T17:04:36.493Z"
   },
   {
    "duration": 25,
    "start_time": "2024-12-04T17:05:23.914Z"
   },
   {
    "duration": 7,
    "start_time": "2024-12-04T17:05:34.029Z"
   },
   {
    "duration": 12,
    "start_time": "2024-12-04T17:05:39.250Z"
   },
   {
    "duration": 255,
    "start_time": "2024-12-04T17:06:01.897Z"
   },
   {
    "duration": 577,
    "start_time": "2024-12-04T17:07:36.202Z"
   },
   {
    "duration": 605,
    "start_time": "2024-12-04T17:07:53.927Z"
   },
   {
    "duration": 153,
    "start_time": "2024-12-04T17:08:22.063Z"
   },
   {
    "duration": 154,
    "start_time": "2024-12-04T17:08:40.297Z"
   },
   {
    "duration": 152,
    "start_time": "2024-12-04T17:08:50.129Z"
   },
   {
    "duration": 540,
    "start_time": "2024-12-04T17:09:02.673Z"
   },
   {
    "duration": 533,
    "start_time": "2024-12-04T17:09:16.593Z"
   },
   {
    "duration": 562,
    "start_time": "2024-12-04T17:09:25.471Z"
   },
   {
    "duration": 683,
    "start_time": "2024-12-04T17:09:30.777Z"
   },
   {
    "duration": 513,
    "start_time": "2024-12-04T17:09:36.893Z"
   },
   {
    "duration": 546,
    "start_time": "2024-12-04T17:10:16.762Z"
   },
   {
    "duration": 546,
    "start_time": "2024-12-04T17:10:30.539Z"
   },
   {
    "duration": 576,
    "start_time": "2024-12-04T17:10:37.226Z"
   },
   {
    "duration": 611,
    "start_time": "2024-12-04T17:10:43.930Z"
   },
   {
    "duration": 628,
    "start_time": "2024-12-04T17:10:50.661Z"
   },
   {
    "duration": 2,
    "start_time": "2024-12-04T17:16:08.741Z"
   },
   {
    "duration": 19,
    "start_time": "2024-12-04T17:18:21.735Z"
   },
   {
    "duration": 98,
    "start_time": "2024-12-04T17:18:26.754Z"
   },
   {
    "duration": 14,
    "start_time": "2024-12-04T17:25:36.037Z"
   },
   {
    "duration": 583,
    "start_time": "2024-12-04T17:36:28.986Z"
   },
   {
    "duration": 12,
    "start_time": "2024-12-04T17:38:52.661Z"
   },
   {
    "duration": 15,
    "start_time": "2024-12-04T17:39:15.349Z"
   },
   {
    "duration": 8,
    "start_time": "2024-12-04T17:41:03.949Z"
   },
   {
    "duration": 8,
    "start_time": "2024-12-04T17:41:21.994Z"
   },
   {
    "duration": 25,
    "start_time": "2024-12-04T17:41:27.882Z"
   },
   {
    "duration": 138,
    "start_time": "2024-12-04T17:41:59.024Z"
   },
   {
    "duration": 108,
    "start_time": "2024-12-04T17:42:15.433Z"
   },
   {
    "duration": 136,
    "start_time": "2024-12-04T17:42:26.096Z"
   },
   {
    "duration": 17,
    "start_time": "2024-12-04T17:42:47.775Z"
   },
   {
    "duration": 138,
    "start_time": "2024-12-04T17:43:01.144Z"
   },
   {
    "duration": 234,
    "start_time": "2024-12-04T17:43:11.553Z"
   },
   {
    "duration": 191,
    "start_time": "2024-12-04T17:43:21.856Z"
   },
   {
    "duration": 154,
    "start_time": "2024-12-04T17:47:11.986Z"
   },
   {
    "duration": 184,
    "start_time": "2024-12-04T17:47:49.593Z"
   },
   {
    "duration": 122,
    "start_time": "2024-12-04T17:48:34.652Z"
   },
   {
    "duration": 173,
    "start_time": "2024-12-04T17:48:43.196Z"
   },
   {
    "duration": 188,
    "start_time": "2024-12-04T17:48:54.872Z"
   },
   {
    "duration": 166,
    "start_time": "2024-12-04T17:49:09.648Z"
   },
   {
    "duration": 164,
    "start_time": "2024-12-04T17:49:16.632Z"
   },
   {
    "duration": 169,
    "start_time": "2024-12-04T17:49:31.072Z"
   },
   {
    "duration": 162,
    "start_time": "2024-12-04T17:49:37.517Z"
   },
   {
    "duration": 291,
    "start_time": "2024-12-04T17:50:28.372Z"
   },
   {
    "duration": 168,
    "start_time": "2024-12-04T17:50:30.768Z"
   },
   {
    "duration": 159,
    "start_time": "2024-12-04T17:56:23.501Z"
   },
   {
    "duration": 262,
    "start_time": "2024-12-04T17:58:21.734Z"
   },
   {
    "duration": 341,
    "start_time": "2024-12-04T17:58:50.700Z"
   },
   {
    "duration": 360,
    "start_time": "2024-12-04T18:00:02.310Z"
   },
   {
    "duration": 346,
    "start_time": "2024-12-04T18:04:16.360Z"
   },
   {
    "duration": 359,
    "start_time": "2024-12-04T18:04:40.130Z"
   },
   {
    "duration": 189,
    "start_time": "2024-12-04T18:05:05.484Z"
   },
   {
    "duration": 686,
    "start_time": "2024-12-04T18:07:01.256Z"
   },
   {
    "duration": 1124,
    "start_time": "2024-12-04T18:07:23.076Z"
   },
   {
    "duration": 676,
    "start_time": "2024-12-04T18:08:04.140Z"
   },
   {
    "duration": 576,
    "start_time": "2024-12-04T18:08:08.242Z"
   },
   {
    "duration": 610,
    "start_time": "2024-12-04T18:12:39.488Z"
   },
   {
    "duration": 1701,
    "start_time": "2024-12-04T18:15:54.324Z"
   },
   {
    "duration": 1689,
    "start_time": "2024-12-04T18:16:10.404Z"
   },
   {
    "duration": 166,
    "start_time": "2024-12-04T18:17:07.396Z"
   },
   {
    "duration": 1718,
    "start_time": "2024-12-04T18:18:35.588Z"
   },
   {
    "duration": 1626,
    "start_time": "2024-12-04T18:18:43.892Z"
   },
   {
    "duration": 1285,
    "start_time": "2024-12-04T18:18:58.737Z"
   },
   {
    "duration": 1297,
    "start_time": "2024-12-04T18:19:08.372Z"
   },
   {
    "duration": 1168,
    "start_time": "2024-12-04T18:19:27.028Z"
   },
   {
    "duration": 365,
    "start_time": "2024-12-04T18:21:32.924Z"
   },
   {
    "duration": 1150,
    "start_time": "2024-12-04T18:21:41.272Z"
   },
   {
    "duration": 1272,
    "start_time": "2024-12-04T18:21:54.448Z"
   },
   {
    "duration": 1315,
    "start_time": "2024-12-04T18:23:51.868Z"
   },
   {
    "duration": 1197,
    "start_time": "2024-12-04T18:23:58.946Z"
   },
   {
    "duration": 1301,
    "start_time": "2024-12-04T18:24:05.865Z"
   },
   {
    "duration": 1262,
    "start_time": "2024-12-04T18:24:31.077Z"
   },
   {
    "duration": 11,
    "start_time": "2024-12-04T18:28:37.796Z"
   },
   {
    "duration": 10,
    "start_time": "2024-12-04T18:28:46.490Z"
   },
   {
    "duration": 11,
    "start_time": "2024-12-04T18:29:02.871Z"
   },
   {
    "duration": 9,
    "start_time": "2024-12-04T18:29:33.436Z"
   },
   {
    "duration": 4,
    "start_time": "2024-12-04T18:29:48.304Z"
   },
   {
    "duration": 6,
    "start_time": "2024-12-04T18:29:57.630Z"
   },
   {
    "duration": 14,
    "start_time": "2024-12-04T18:30:17.056Z"
   },
   {
    "duration": 14,
    "start_time": "2024-12-04T18:30:31.015Z"
   },
   {
    "duration": 12,
    "start_time": "2024-12-04T18:32:36.571Z"
   },
   {
    "duration": 14,
    "start_time": "2024-12-04T18:32:59.828Z"
   },
   {
    "duration": 19,
    "start_time": "2024-12-04T18:33:06.992Z"
   },
   {
    "duration": 109,
    "start_time": "2024-12-04T18:33:56.844Z"
   },
   {
    "duration": 85,
    "start_time": "2024-12-04T18:34:06.044Z"
   },
   {
    "duration": 88,
    "start_time": "2024-12-04T18:34:14.021Z"
   },
   {
    "duration": 18,
    "start_time": "2024-12-04T18:34:28.432Z"
   },
   {
    "duration": 102,
    "start_time": "2024-12-04T18:36:06.548Z"
   },
   {
    "duration": 19,
    "start_time": "2024-12-04T18:36:45.704Z"
   },
   {
    "duration": 141,
    "start_time": "2024-12-04T18:37:19.435Z"
   },
   {
    "duration": 185,
    "start_time": "2024-12-04T18:41:30.335Z"
   },
   {
    "duration": 182,
    "start_time": "2024-12-04T18:43:57.452Z"
   },
   {
    "duration": 1342,
    "start_time": "2024-12-05T17:12:53.119Z"
   },
   {
    "duration": 250,
    "start_time": "2024-12-05T17:12:54.463Z"
   },
   {
    "duration": 35,
    "start_time": "2024-12-05T17:12:54.714Z"
   },
   {
    "duration": 19,
    "start_time": "2024-12-05T17:12:54.750Z"
   },
   {
    "duration": 14,
    "start_time": "2024-12-05T17:12:54.770Z"
   },
   {
    "duration": 38,
    "start_time": "2024-12-05T17:12:54.785Z"
   },
   {
    "duration": 9,
    "start_time": "2024-12-05T17:12:54.824Z"
   },
   {
    "duration": 20,
    "start_time": "2024-12-05T17:12:54.835Z"
   },
   {
    "duration": 66,
    "start_time": "2024-12-05T17:12:54.856Z"
   },
   {
    "duration": 5,
    "start_time": "2024-12-05T17:12:54.924Z"
   },
   {
    "duration": 47,
    "start_time": "2024-12-05T17:12:54.931Z"
   },
   {
    "duration": 5,
    "start_time": "2024-12-05T17:12:54.980Z"
   },
   {
    "duration": 8,
    "start_time": "2024-12-05T17:12:54.987Z"
   },
   {
    "duration": 13,
    "start_time": "2024-12-05T17:12:54.996Z"
   },
   {
    "duration": 17,
    "start_time": "2024-12-05T17:12:55.010Z"
   },
   {
    "duration": 14,
    "start_time": "2024-12-05T17:12:55.029Z"
   },
   {
    "duration": 19,
    "start_time": "2024-12-05T17:12:55.044Z"
   },
   {
    "duration": 4,
    "start_time": "2024-12-05T17:12:55.064Z"
   },
   {
    "duration": 188,
    "start_time": "2024-12-05T17:12:55.070Z"
   },
   {
    "duration": 301,
    "start_time": "2024-12-05T17:12:55.260Z"
   },
   {
    "duration": 193,
    "start_time": "2024-12-05T17:12:55.563Z"
   },
   {
    "duration": 6,
    "start_time": "2024-12-05T17:12:55.757Z"
   },
   {
    "duration": 657,
    "start_time": "2024-12-05T17:12:55.765Z"
   },
   {
    "duration": 199,
    "start_time": "2024-12-05T17:12:56.424Z"
   },
   {
    "duration": 248,
    "start_time": "2024-12-05T17:12:56.625Z"
   },
   {
    "duration": 1352,
    "start_time": "2024-12-05T17:12:56.874Z"
   },
   {
    "duration": 19,
    "start_time": "2024-12-05T17:12:58.227Z"
   },
   {
    "duration": 193,
    "start_time": "2024-12-05T17:12:58.249Z"
   },
   {
    "duration": 300,
    "start_time": "2024-12-05T17:19:44.440Z"
   },
   {
    "duration": 197,
    "start_time": "2024-12-05T17:19:52.644Z"
   },
   {
    "duration": 294,
    "start_time": "2024-12-05T17:20:58.116Z"
   },
   {
    "duration": 204,
    "start_time": "2024-12-05T17:21:10.272Z"
   },
   {
    "duration": 189,
    "start_time": "2024-12-05T17:21:49.436Z"
   },
   {
    "duration": 208,
    "start_time": "2024-12-05T17:21:52.756Z"
   },
   {
    "duration": 301,
    "start_time": "2024-12-05T17:22:09.308Z"
   },
   {
    "duration": 318,
    "start_time": "2024-12-05T17:22:31.112Z"
   },
   {
    "duration": 88,
    "start_time": "2024-12-05T17:51:27.890Z"
   },
   {
    "duration": 327,
    "start_time": "2024-12-05T17:51:34.431Z"
   },
   {
    "duration": 428,
    "start_time": "2024-12-05T17:51:41.635Z"
   },
   {
    "duration": 338,
    "start_time": "2024-12-05T17:51:46.796Z"
   },
   {
    "duration": 328,
    "start_time": "2024-12-05T17:53:19.808Z"
   },
   {
    "duration": 403,
    "start_time": "2024-12-05T17:53:26.433Z"
   },
   {
    "duration": 524,
    "start_time": "2024-12-05T17:53:36.612Z"
   },
   {
    "duration": 682,
    "start_time": "2024-12-05T17:54:16.664Z"
   },
   {
    "duration": 250,
    "start_time": "2024-12-05T17:54:56.896Z"
   },
   {
    "duration": 255,
    "start_time": "2024-12-05T17:55:17.404Z"
   },
   {
    "duration": 605,
    "start_time": "2024-12-05T17:55:31.365Z"
   },
   {
    "duration": 971,
    "start_time": "2024-12-05T17:56:28.499Z"
   },
   {
    "duration": 806,
    "start_time": "2024-12-05T17:58:14.688Z"
   },
   {
    "duration": 740,
    "start_time": "2024-12-05T17:58:20.203Z"
   },
   {
    "duration": 639,
    "start_time": "2024-12-05T17:59:01.600Z"
   },
   {
    "duration": 528,
    "start_time": "2024-12-05T17:59:21.477Z"
   },
   {
    "duration": 655,
    "start_time": "2024-12-05T17:59:31.525Z"
   },
   {
    "duration": 653,
    "start_time": "2024-12-05T17:59:58.134Z"
   },
   {
    "duration": 12,
    "start_time": "2024-12-05T18:13:59.057Z"
   },
   {
    "duration": 18,
    "start_time": "2024-12-05T18:15:13.168Z"
   },
   {
    "duration": 52,
    "start_time": "2024-12-05T18:15:25.288Z"
   },
   {
    "duration": 49,
    "start_time": "2024-12-05T18:15:59.341Z"
   },
   {
    "duration": 40,
    "start_time": "2024-12-05T18:16:16.565Z"
   },
   {
    "duration": 35,
    "start_time": "2024-12-05T18:17:45.308Z"
   },
   {
    "duration": 23,
    "start_time": "2024-12-05T18:17:50.658Z"
   },
   {
    "duration": 23,
    "start_time": "2024-12-05T18:18:15.844Z"
   },
   {
    "duration": 41,
    "start_time": "2024-12-05T18:18:38.804Z"
   },
   {
    "duration": 23,
    "start_time": "2024-12-05T18:19:15.977Z"
   },
   {
    "duration": 32,
    "start_time": "2024-12-05T18:19:38.548Z"
   },
   {
    "duration": 40,
    "start_time": "2024-12-05T18:22:59.104Z"
   },
   {
    "duration": 81,
    "start_time": "2024-12-05T18:23:10.420Z"
   },
   {
    "duration": 40,
    "start_time": "2024-12-05T18:23:14.963Z"
   },
   {
    "duration": 94,
    "start_time": "2024-12-05T18:24:51.604Z"
   },
   {
    "duration": 50,
    "start_time": "2024-12-05T18:26:53.779Z"
   },
   {
    "duration": 34,
    "start_time": "2024-12-05T18:28:48.723Z"
   },
   {
    "duration": 408,
    "start_time": "2024-12-05T18:29:00.242Z"
   },
   {
    "duration": 563,
    "start_time": "2024-12-05T18:29:29.323Z"
   },
   {
    "duration": 514,
    "start_time": "2024-12-05T18:30:08.068Z"
   },
   {
    "duration": 505,
    "start_time": "2024-12-05T18:38:57.337Z"
   },
   {
    "duration": 572,
    "start_time": "2024-12-05T18:39:14.591Z"
   },
   {
    "duration": 736,
    "start_time": "2024-12-05T18:39:21.687Z"
   },
   {
    "duration": 648,
    "start_time": "2024-12-05T18:39:27.839Z"
   },
   {
    "duration": 655,
    "start_time": "2024-12-05T18:39:37.159Z"
   },
   {
    "duration": 1312,
    "start_time": "2024-12-07T08:51:42.102Z"
   },
   {
    "duration": 236,
    "start_time": "2024-12-07T08:51:43.416Z"
   },
   {
    "duration": 34,
    "start_time": "2024-12-07T08:51:43.653Z"
   },
   {
    "duration": 17,
    "start_time": "2024-12-07T08:51:43.690Z"
   },
   {
    "duration": 28,
    "start_time": "2024-12-07T08:51:43.709Z"
   },
   {
    "duration": 16,
    "start_time": "2024-12-07T08:51:43.739Z"
   },
   {
    "duration": 8,
    "start_time": "2024-12-07T08:51:43.757Z"
   },
   {
    "duration": 8,
    "start_time": "2024-12-07T08:51:43.766Z"
   },
   {
    "duration": 71,
    "start_time": "2024-12-07T08:51:43.776Z"
   },
   {
    "duration": 5,
    "start_time": "2024-12-07T08:51:43.849Z"
   },
   {
    "duration": 8,
    "start_time": "2024-12-07T08:51:43.855Z"
   },
   {
    "duration": 3,
    "start_time": "2024-12-07T08:51:43.865Z"
   },
   {
    "duration": 14,
    "start_time": "2024-12-07T08:51:43.870Z"
   },
   {
    "duration": 7,
    "start_time": "2024-12-07T08:51:43.886Z"
   },
   {
    "duration": 33,
    "start_time": "2024-12-07T08:51:43.896Z"
   },
   {
    "duration": 5,
    "start_time": "2024-12-07T08:51:43.931Z"
   },
   {
    "duration": 23,
    "start_time": "2024-12-07T08:51:43.937Z"
   },
   {
    "duration": 4,
    "start_time": "2024-12-07T08:51:43.962Z"
   },
   {
    "duration": 161,
    "start_time": "2024-12-07T08:51:43.967Z"
   },
   {
    "duration": 274,
    "start_time": "2024-12-07T08:51:44.130Z"
   },
   {
    "duration": 184,
    "start_time": "2024-12-07T08:51:44.406Z"
   },
   {
    "duration": 6,
    "start_time": "2024-12-07T08:51:44.591Z"
   },
   {
    "duration": 597,
    "start_time": "2024-12-07T08:51:44.598Z"
   },
   {
    "duration": 177,
    "start_time": "2024-12-07T08:51:45.196Z"
   },
   {
    "duration": 239,
    "start_time": "2024-12-07T08:51:45.375Z"
   },
   {
    "duration": 1222,
    "start_time": "2024-12-07T08:51:45.616Z"
   },
   {
    "duration": 18,
    "start_time": "2024-12-07T08:51:46.840Z"
   },
   {
    "duration": 172,
    "start_time": "2024-12-07T08:51:46.861Z"
   },
   {
    "duration": 470,
    "start_time": "2024-12-07T08:51:47.034Z"
   },
   {
    "duration": 295,
    "start_time": "2024-12-07T08:51:47.505Z"
   },
   {
    "duration": 0,
    "start_time": "2024-12-07T08:51:47.802Z"
   },
   {
    "duration": 126,
    "start_time": "2024-12-07T08:52:57.191Z"
   },
   {
    "duration": 445,
    "start_time": "2024-12-07T08:53:09.258Z"
   },
   {
    "duration": 524,
    "start_time": "2024-12-07T08:53:28.646Z"
   },
   {
    "duration": 209,
    "start_time": "2024-12-07T08:56:04.628Z"
   },
   {
    "duration": 77,
    "start_time": "2024-12-07T09:00:44.274Z"
   },
   {
    "duration": 193,
    "start_time": "2024-12-07T09:00:52.838Z"
   },
   {
    "duration": 74,
    "start_time": "2024-12-07T09:02:40.035Z"
   },
   {
    "duration": 791,
    "start_time": "2024-12-07T09:02:49.794Z"
   },
   {
    "duration": 653,
    "start_time": "2024-12-07T09:03:16.067Z"
   },
   {
    "duration": 315,
    "start_time": "2024-12-07T09:12:23.980Z"
   },
   {
    "duration": 454,
    "start_time": "2024-12-07T09:18:35.863Z"
   },
   {
    "duration": 360,
    "start_time": "2024-12-07T09:20:42.023Z"
   },
   {
    "duration": 6,
    "start_time": "2024-12-07T09:28:02.852Z"
   },
   {
    "duration": 4,
    "start_time": "2024-12-07T09:29:47.323Z"
   },
   {
    "duration": 8,
    "start_time": "2024-12-07T09:30:40.664Z"
   },
   {
    "duration": 8,
    "start_time": "2024-12-07T09:30:49.980Z"
   },
   {
    "duration": 1283,
    "start_time": "2024-12-07T09:47:43.627Z"
   },
   {
    "duration": 20,
    "start_time": "2024-12-07T09:48:47.871Z"
   },
   {
    "duration": 10,
    "start_time": "2024-12-07T09:49:20.978Z"
   },
   {
    "duration": 7,
    "start_time": "2024-12-07T09:49:33.250Z"
   },
   {
    "duration": 18,
    "start_time": "2024-12-07T09:49:41.871Z"
   },
   {
    "duration": 5,
    "start_time": "2024-12-07T09:49:48.214Z"
   },
   {
    "duration": 9,
    "start_time": "2024-12-07T09:50:14.710Z"
   },
   {
    "duration": 8,
    "start_time": "2024-12-07T09:50:42.055Z"
   },
   {
    "duration": 8,
    "start_time": "2024-12-07T09:54:31.391Z"
   },
   {
    "duration": 9,
    "start_time": "2024-12-07T09:54:48.150Z"
   },
   {
    "duration": 8,
    "start_time": "2024-12-07T09:56:06.106Z"
   },
   {
    "duration": 1428,
    "start_time": "2024-12-07T14:05:13.779Z"
   },
   {
    "duration": 236,
    "start_time": "2024-12-07T14:05:15.209Z"
   },
   {
    "duration": 38,
    "start_time": "2024-12-07T14:05:15.447Z"
   },
   {
    "duration": 29,
    "start_time": "2024-12-07T14:05:15.487Z"
   },
   {
    "duration": 15,
    "start_time": "2024-12-07T14:05:15.518Z"
   },
   {
    "duration": 37,
    "start_time": "2024-12-07T14:05:15.534Z"
   },
   {
    "duration": 10,
    "start_time": "2024-12-07T14:05:15.573Z"
   },
   {
    "duration": 16,
    "start_time": "2024-12-07T14:05:15.585Z"
   },
   {
    "duration": 73,
    "start_time": "2024-12-07T14:05:15.603Z"
   },
   {
    "duration": 6,
    "start_time": "2024-12-07T14:05:15.679Z"
   },
   {
    "duration": 10,
    "start_time": "2024-12-07T14:05:15.686Z"
   },
   {
    "duration": 7,
    "start_time": "2024-12-07T14:05:15.698Z"
   },
   {
    "duration": 5,
    "start_time": "2024-12-07T14:05:15.707Z"
   },
   {
    "duration": 6,
    "start_time": "2024-12-07T14:05:15.714Z"
   },
   {
    "duration": 40,
    "start_time": "2024-12-07T14:05:15.722Z"
   },
   {
    "duration": 6,
    "start_time": "2024-12-07T14:05:15.764Z"
   },
   {
    "duration": 24,
    "start_time": "2024-12-07T14:05:15.772Z"
   },
   {
    "duration": 6,
    "start_time": "2024-12-07T14:05:15.798Z"
   },
   {
    "duration": 201,
    "start_time": "2024-12-07T14:05:15.805Z"
   },
   {
    "duration": 323,
    "start_time": "2024-12-07T14:05:16.008Z"
   },
   {
    "duration": 211,
    "start_time": "2024-12-07T14:05:16.333Z"
   },
   {
    "duration": 6,
    "start_time": "2024-12-07T14:05:16.546Z"
   },
   {
    "duration": 641,
    "start_time": "2024-12-07T14:05:16.553Z"
   },
   {
    "duration": 212,
    "start_time": "2024-12-07T14:05:17.196Z"
   },
   {
    "duration": 274,
    "start_time": "2024-12-07T14:05:17.410Z"
   },
   {
    "duration": 2277,
    "start_time": "2024-12-07T14:05:17.686Z"
   },
   {
    "duration": 20,
    "start_time": "2024-12-07T14:05:19.965Z"
   },
   {
    "duration": 196,
    "start_time": "2024-12-07T14:05:19.988Z"
   },
   {
    "duration": 551,
    "start_time": "2024-12-07T14:05:20.185Z"
   },
   {
    "duration": 360,
    "start_time": "2024-12-07T14:05:20.738Z"
   },
   {
    "duration": 0,
    "start_time": "2024-12-07T14:05:21.099Z"
   },
   {
    "duration": 0,
    "start_time": "2024-12-07T14:05:21.100Z"
   },
   {
    "duration": 0,
    "start_time": "2024-12-07T14:05:21.102Z"
   },
   {
    "duration": 0,
    "start_time": "2024-12-07T14:05:21.103Z"
   },
   {
    "duration": 0,
    "start_time": "2024-12-07T14:05:21.104Z"
   },
   {
    "duration": 0,
    "start_time": "2024-12-07T14:05:21.105Z"
   },
   {
    "duration": 0,
    "start_time": "2024-12-07T14:05:21.106Z"
   },
   {
    "duration": 28,
    "start_time": "2024-12-07T14:31:03.458Z"
   },
   {
    "duration": 3,
    "start_time": "2024-12-07T14:31:20.974Z"
   },
   {
    "duration": 90,
    "start_time": "2024-12-07T14:31:20.981Z"
   },
   {
    "duration": 38,
    "start_time": "2024-12-07T14:31:21.072Z"
   },
   {
    "duration": 27,
    "start_time": "2024-12-07T14:31:21.111Z"
   },
   {
    "duration": 27,
    "start_time": "2024-12-07T14:31:21.140Z"
   },
   {
    "duration": 14,
    "start_time": "2024-12-07T14:31:21.169Z"
   },
   {
    "duration": 58,
    "start_time": "2024-12-07T14:31:21.185Z"
   },
   {
    "duration": 55,
    "start_time": "2024-12-07T14:31:21.245Z"
   },
   {
    "duration": 10,
    "start_time": "2024-12-07T14:31:21.302Z"
   },
   {
    "duration": 7,
    "start_time": "2024-12-07T14:31:21.314Z"
   },
   {
    "duration": 5,
    "start_time": "2024-12-07T14:31:21.323Z"
   },
   {
    "duration": 31,
    "start_time": "2024-12-07T14:31:21.330Z"
   },
   {
    "duration": 9,
    "start_time": "2024-12-07T14:31:21.364Z"
   },
   {
    "duration": 29,
    "start_time": "2024-12-07T14:31:21.375Z"
   },
   {
    "duration": 6,
    "start_time": "2024-12-07T14:31:21.406Z"
   },
   {
    "duration": 15,
    "start_time": "2024-12-07T14:31:21.414Z"
   },
   {
    "duration": 27,
    "start_time": "2024-12-07T14:31:21.431Z"
   },
   {
    "duration": 174,
    "start_time": "2024-12-07T14:31:21.459Z"
   },
   {
    "duration": 314,
    "start_time": "2024-12-07T14:31:21.634Z"
   },
   {
    "duration": 206,
    "start_time": "2024-12-07T14:31:21.950Z"
   },
   {
    "duration": 8,
    "start_time": "2024-12-07T14:31:22.162Z"
   },
   {
    "duration": 583,
    "start_time": "2024-12-07T14:31:22.172Z"
   },
   {
    "duration": 215,
    "start_time": "2024-12-07T14:31:22.761Z"
   },
   {
    "duration": 198,
    "start_time": "2024-12-07T14:31:22.978Z"
   },
   {
    "duration": 1532,
    "start_time": "2024-12-07T14:31:23.178Z"
   },
   {
    "duration": 22,
    "start_time": "2024-12-07T14:31:24.712Z"
   },
   {
    "duration": 203,
    "start_time": "2024-12-07T14:31:24.736Z"
   },
   {
    "duration": 542,
    "start_time": "2024-12-07T14:31:24.941Z"
   },
   {
    "duration": 146,
    "start_time": "2024-12-07T14:31:25.486Z"
   },
   {
    "duration": 0,
    "start_time": "2024-12-07T14:31:25.634Z"
   },
   {
    "duration": 0,
    "start_time": "2024-12-07T14:31:25.635Z"
   },
   {
    "duration": 0,
    "start_time": "2024-12-07T14:31:25.636Z"
   },
   {
    "duration": 0,
    "start_time": "2024-12-07T14:31:25.638Z"
   },
   {
    "duration": 0,
    "start_time": "2024-12-07T14:31:25.639Z"
   },
   {
    "duration": 0,
    "start_time": "2024-12-07T14:31:25.640Z"
   },
   {
    "duration": 0,
    "start_time": "2024-12-07T14:31:25.641Z"
   },
   {
    "duration": 3,
    "start_time": "2024-12-07T14:42:10.254Z"
   },
   {
    "duration": 84,
    "start_time": "2024-12-07T14:42:10.265Z"
   },
   {
    "duration": 40,
    "start_time": "2024-12-07T14:42:10.351Z"
   },
   {
    "duration": 72,
    "start_time": "2024-12-07T14:42:10.392Z"
   },
   {
    "duration": 18,
    "start_time": "2024-12-07T14:42:10.466Z"
   },
   {
    "duration": 10,
    "start_time": "2024-12-07T14:42:10.485Z"
   },
   {
    "duration": 40,
    "start_time": "2024-12-07T14:42:10.497Z"
   },
   {
    "duration": 35,
    "start_time": "2024-12-07T14:42:10.538Z"
   },
   {
    "duration": 5,
    "start_time": "2024-12-07T14:42:10.575Z"
   },
   {
    "duration": 49,
    "start_time": "2024-12-07T14:42:10.582Z"
   },
   {
    "duration": 4,
    "start_time": "2024-12-07T14:42:10.634Z"
   },
   {
    "duration": 7,
    "start_time": "2024-12-07T14:42:10.640Z"
   },
   {
    "duration": 4,
    "start_time": "2024-12-07T14:42:10.648Z"
   },
   {
    "duration": 10,
    "start_time": "2024-12-07T14:42:10.653Z"
   },
   {
    "duration": 22,
    "start_time": "2024-12-07T14:42:10.665Z"
   },
   {
    "duration": 6,
    "start_time": "2024-12-07T14:42:10.688Z"
   },
   {
    "duration": 31,
    "start_time": "2024-12-07T14:42:10.695Z"
   },
   {
    "duration": 5,
    "start_time": "2024-12-07T14:42:10.727Z"
   },
   {
    "duration": 180,
    "start_time": "2024-12-07T14:42:10.734Z"
   },
   {
    "duration": 416,
    "start_time": "2024-12-07T14:42:10.916Z"
   },
   {
    "duration": 200,
    "start_time": "2024-12-07T14:42:11.334Z"
   },
   {
    "duration": 6,
    "start_time": "2024-12-07T14:42:11.535Z"
   },
   {
    "duration": 590,
    "start_time": "2024-12-07T14:42:11.543Z"
   },
   {
    "duration": 206,
    "start_time": "2024-12-07T14:42:12.134Z"
   },
   {
    "duration": 187,
    "start_time": "2024-12-07T14:42:12.342Z"
   },
   {
    "duration": 1967,
    "start_time": "2024-12-07T14:42:12.531Z"
   },
   {
    "duration": 73,
    "start_time": "2024-12-07T14:42:14.500Z"
   },
   {
    "duration": 396,
    "start_time": "2024-12-07T14:42:14.574Z"
   },
   {
    "duration": 612,
    "start_time": "2024-12-07T14:42:14.973Z"
   },
   {
    "duration": 146,
    "start_time": "2024-12-07T14:42:15.587Z"
   },
   {
    "duration": 0,
    "start_time": "2024-12-07T14:42:15.735Z"
   },
   {
    "duration": 0,
    "start_time": "2024-12-07T14:42:15.736Z"
   },
   {
    "duration": 0,
    "start_time": "2024-12-07T14:42:15.737Z"
   },
   {
    "duration": 0,
    "start_time": "2024-12-07T14:42:15.738Z"
   },
   {
    "duration": 0,
    "start_time": "2024-12-07T14:42:15.739Z"
   },
   {
    "duration": 0,
    "start_time": "2024-12-07T14:42:15.740Z"
   },
   {
    "duration": 0,
    "start_time": "2024-12-07T14:42:15.741Z"
   },
   {
    "duration": 19,
    "start_time": "2024-12-07T14:42:36.003Z"
   },
   {
    "duration": 3,
    "start_time": "2024-12-07T14:42:41.978Z"
   },
   {
    "duration": 85,
    "start_time": "2024-12-07T14:42:41.983Z"
   },
   {
    "duration": 36,
    "start_time": "2024-12-07T14:42:42.070Z"
   },
   {
    "duration": 18,
    "start_time": "2024-12-07T14:42:42.108Z"
   },
   {
    "duration": 38,
    "start_time": "2024-12-07T14:42:42.128Z"
   },
   {
    "duration": 10,
    "start_time": "2024-12-07T14:42:42.167Z"
   },
   {
    "duration": 17,
    "start_time": "2024-12-07T14:42:42.179Z"
   },
   {
    "duration": 25,
    "start_time": "2024-12-07T14:42:42.197Z"
   },
   {
    "duration": 5,
    "start_time": "2024-12-07T14:42:42.224Z"
   },
   {
    "duration": 38,
    "start_time": "2024-12-07T14:42:42.231Z"
   },
   {
    "duration": 4,
    "start_time": "2024-12-07T14:42:42.271Z"
   },
   {
    "duration": 6,
    "start_time": "2024-12-07T14:42:42.277Z"
   },
   {
    "duration": 5,
    "start_time": "2024-12-07T14:42:42.284Z"
   },
   {
    "duration": 18,
    "start_time": "2024-12-07T14:42:42.291Z"
   },
   {
    "duration": 15,
    "start_time": "2024-12-07T14:42:42.310Z"
   },
   {
    "duration": 6,
    "start_time": "2024-12-07T14:42:42.326Z"
   },
   {
    "duration": 36,
    "start_time": "2024-12-07T14:42:42.334Z"
   },
   {
    "duration": 6,
    "start_time": "2024-12-07T14:42:42.372Z"
   },
   {
    "duration": 185,
    "start_time": "2024-12-07T14:42:42.379Z"
   },
   {
    "duration": 314,
    "start_time": "2024-12-07T14:42:42.565Z"
   },
   {
    "duration": 202,
    "start_time": "2024-12-07T14:42:42.880Z"
   },
   {
    "duration": 6,
    "start_time": "2024-12-07T14:42:43.084Z"
   },
   {
    "duration": 728,
    "start_time": "2024-12-07T14:42:43.091Z"
   },
   {
    "duration": 205,
    "start_time": "2024-12-07T14:42:43.822Z"
   },
   {
    "duration": 189,
    "start_time": "2024-12-07T14:42:44.028Z"
   },
   {
    "duration": 1863,
    "start_time": "2024-12-07T14:42:44.219Z"
   },
   {
    "duration": 19,
    "start_time": "2024-12-07T14:42:46.083Z"
   },
   {
    "duration": 390,
    "start_time": "2024-12-07T14:42:46.103Z"
   },
   {
    "duration": 682,
    "start_time": "2024-12-07T14:42:46.494Z"
   },
   {
    "duration": 143,
    "start_time": "2024-12-07T14:42:47.178Z"
   },
   {
    "duration": 0,
    "start_time": "2024-12-07T14:42:47.323Z"
   },
   {
    "duration": 0,
    "start_time": "2024-12-07T14:42:47.324Z"
   },
   {
    "duration": 0,
    "start_time": "2024-12-07T14:42:47.325Z"
   },
   {
    "duration": 0,
    "start_time": "2024-12-07T14:42:47.326Z"
   },
   {
    "duration": 0,
    "start_time": "2024-12-07T14:42:47.327Z"
   },
   {
    "duration": 0,
    "start_time": "2024-12-07T14:42:47.328Z"
   },
   {
    "duration": 0,
    "start_time": "2024-12-07T14:42:47.329Z"
   },
   {
    "duration": 3,
    "start_time": "2024-12-07T14:43:19.642Z"
   },
   {
    "duration": 91,
    "start_time": "2024-12-07T14:43:19.647Z"
   },
   {
    "duration": 38,
    "start_time": "2024-12-07T14:43:19.740Z"
   },
   {
    "duration": 19,
    "start_time": "2024-12-07T14:43:19.779Z"
   },
   {
    "duration": 20,
    "start_time": "2024-12-07T14:43:19.800Z"
   },
   {
    "duration": 10,
    "start_time": "2024-12-07T14:43:19.822Z"
   },
   {
    "duration": 12,
    "start_time": "2024-12-07T14:43:19.861Z"
   },
   {
    "duration": 36,
    "start_time": "2024-12-07T14:43:19.875Z"
   },
   {
    "duration": 6,
    "start_time": "2024-12-07T14:43:19.913Z"
   },
   {
    "duration": 20,
    "start_time": "2024-12-07T14:43:22.926Z"
   },
   {
    "duration": 22,
    "start_time": "2024-12-07T14:44:32.053Z"
   },
   {
    "duration": 3,
    "start_time": "2024-12-07T14:49:07.994Z"
   },
   {
    "duration": 91,
    "start_time": "2024-12-07T14:49:07.999Z"
   },
   {
    "duration": 38,
    "start_time": "2024-12-07T14:49:08.091Z"
   },
   {
    "duration": 39,
    "start_time": "2024-12-07T14:49:08.131Z"
   },
   {
    "duration": 20,
    "start_time": "2024-12-07T14:49:08.172Z"
   },
   {
    "duration": 15,
    "start_time": "2024-12-07T14:49:08.194Z"
   },
   {
    "duration": 9,
    "start_time": "2024-12-07T14:49:08.211Z"
   },
   {
    "duration": 41,
    "start_time": "2024-12-07T14:49:08.222Z"
   },
   {
    "duration": 5,
    "start_time": "2024-12-07T14:49:08.264Z"
   },
   {
    "duration": 4,
    "start_time": "2024-12-07T14:49:08.271Z"
   },
   {
    "duration": 6,
    "start_time": "2024-12-07T14:49:08.277Z"
   },
   {
    "duration": 21,
    "start_time": "2024-12-07T14:49:08.284Z"
   },
   {
    "duration": 56,
    "start_time": "2024-12-07T14:49:08.307Z"
   },
   {
    "duration": 4,
    "start_time": "2024-12-07T14:49:08.364Z"
   },
   {
    "duration": 12,
    "start_time": "2024-12-07T14:49:08.369Z"
   },
   {
    "duration": 18,
    "start_time": "2024-12-07T14:49:08.382Z"
   },
   {
    "duration": 4,
    "start_time": "2024-12-07T14:49:08.402Z"
   },
   {
    "duration": 56,
    "start_time": "2024-12-07T14:49:08.407Z"
   },
   {
    "duration": 4,
    "start_time": "2024-12-07T14:49:08.465Z"
   },
   {
    "duration": 178,
    "start_time": "2024-12-07T14:49:08.471Z"
   },
   {
    "duration": 331,
    "start_time": "2024-12-07T14:49:08.651Z"
   },
   {
    "duration": 203,
    "start_time": "2024-12-07T14:49:08.983Z"
   },
   {
    "duration": 7,
    "start_time": "2024-12-07T14:49:09.187Z"
   },
   {
    "duration": 569,
    "start_time": "2024-12-07T14:49:09.195Z"
   },
   {
    "duration": 207,
    "start_time": "2024-12-07T14:49:09.766Z"
   },
   {
    "duration": 199,
    "start_time": "2024-12-07T14:49:09.976Z"
   },
   {
    "duration": 2347,
    "start_time": "2024-12-07T14:49:10.177Z"
   },
   {
    "duration": 21,
    "start_time": "2024-12-07T14:49:12.526Z"
   },
   {
    "duration": 218,
    "start_time": "2024-12-07T14:49:12.550Z"
   },
   {
    "duration": 550,
    "start_time": "2024-12-07T14:49:12.770Z"
   },
   {
    "duration": 144,
    "start_time": "2024-12-07T14:49:13.322Z"
   },
   {
    "duration": 0,
    "start_time": "2024-12-07T14:49:13.469Z"
   },
   {
    "duration": 0,
    "start_time": "2024-12-07T14:49:13.470Z"
   },
   {
    "duration": 0,
    "start_time": "2024-12-07T14:49:13.471Z"
   },
   {
    "duration": 0,
    "start_time": "2024-12-07T14:49:13.473Z"
   },
   {
    "duration": 0,
    "start_time": "2024-12-07T14:49:13.475Z"
   },
   {
    "duration": 0,
    "start_time": "2024-12-07T14:49:13.476Z"
   },
   {
    "duration": 0,
    "start_time": "2024-12-07T14:49:13.477Z"
   },
   {
    "duration": 3,
    "start_time": "2024-12-07T14:52:02.230Z"
   },
   {
    "duration": 109,
    "start_time": "2024-12-07T14:52:02.234Z"
   },
   {
    "duration": 39,
    "start_time": "2024-12-07T14:52:02.345Z"
   },
   {
    "duration": 63,
    "start_time": "2024-12-07T14:52:02.386Z"
   },
   {
    "duration": 23,
    "start_time": "2024-12-07T14:52:02.451Z"
   },
   {
    "duration": 9,
    "start_time": "2024-12-07T14:52:02.476Z"
   },
   {
    "duration": 55,
    "start_time": "2024-12-07T14:52:02.487Z"
   },
   {
    "duration": 147,
    "start_time": "2024-12-07T14:52:02.544Z"
   },
   {
    "duration": 5,
    "start_time": "2024-12-07T14:52:02.692Z"
   },
   {
    "duration": 35,
    "start_time": "2024-12-07T14:52:02.699Z"
   },
   {
    "duration": 9,
    "start_time": "2024-12-07T14:52:02.736Z"
   },
   {
    "duration": 29,
    "start_time": "2024-12-07T14:52:02.746Z"
   },
   {
    "duration": 23,
    "start_time": "2024-12-07T14:52:02.777Z"
   },
   {
    "duration": 8,
    "start_time": "2024-12-07T14:52:02.802Z"
   },
   {
    "duration": 37,
    "start_time": "2024-12-07T14:52:02.812Z"
   },
   {
    "duration": 14,
    "start_time": "2024-12-07T14:52:09.214Z"
   },
   {
    "duration": 170,
    "start_time": "2024-12-07T14:53:38.585Z"
   },
   {
    "duration": 72,
    "start_time": "2024-12-07T14:53:43.089Z"
   },
   {
    "duration": 71,
    "start_time": "2024-12-07T14:53:46.741Z"
   },
   {
    "duration": 168,
    "start_time": "2024-12-07T14:53:51.852Z"
   },
   {
    "duration": 167,
    "start_time": "2024-12-07T14:55:42.450Z"
   },
   {
    "duration": 77,
    "start_time": "2024-12-07T14:57:48.702Z"
   },
   {
    "duration": 12,
    "start_time": "2024-12-07T14:59:02.461Z"
   },
   {
    "duration": 1208,
    "start_time": "2024-12-07T14:59:25.534Z"
   },
   {
    "duration": 145,
    "start_time": "2024-12-07T14:59:37.462Z"
   },
   {
    "duration": 138,
    "start_time": "2024-12-07T15:00:25.006Z"
   },
   {
    "duration": 140,
    "start_time": "2024-12-07T15:00:30.289Z"
   },
   {
    "duration": 167,
    "start_time": "2024-12-07T15:00:51.264Z"
   },
   {
    "duration": 176,
    "start_time": "2024-12-07T15:01:04.351Z"
   },
   {
    "duration": 131,
    "start_time": "2024-12-07T15:01:21.422Z"
   },
   {
    "duration": 989,
    "start_time": "2024-12-07T15:01:27.001Z"
   },
   {
    "duration": 76,
    "start_time": "2024-12-07T15:02:26.637Z"
   },
   {
    "duration": 74,
    "start_time": "2024-12-07T15:03:02.605Z"
   },
   {
    "duration": 81,
    "start_time": "2024-12-07T15:03:17.634Z"
   },
   {
    "duration": 130,
    "start_time": "2024-12-07T15:03:33.798Z"
   },
   {
    "duration": 8,
    "start_time": "2024-12-07T15:03:52.278Z"
   },
   {
    "duration": 10,
    "start_time": "2024-12-07T15:03:58.773Z"
   },
   {
    "duration": 19,
    "start_time": "2024-12-07T15:04:08.745Z"
   },
   {
    "duration": 139,
    "start_time": "2024-12-07T15:04:26.154Z"
   },
   {
    "duration": 57,
    "start_time": "2024-12-08T12:25:13.153Z"
   },
   {
    "duration": 1369,
    "start_time": "2024-12-08T12:25:17.792Z"
   },
   {
    "duration": 243,
    "start_time": "2024-12-08T12:25:19.163Z"
   },
   {
    "duration": 37,
    "start_time": "2024-12-08T12:25:19.407Z"
   },
   {
    "duration": 18,
    "start_time": "2024-12-08T12:25:19.447Z"
   },
   {
    "duration": 19,
    "start_time": "2024-12-08T12:25:19.466Z"
   },
   {
    "duration": 34,
    "start_time": "2024-12-08T12:25:19.487Z"
   },
   {
    "duration": 15,
    "start_time": "2024-12-08T12:25:19.523Z"
   },
   {
    "duration": 59,
    "start_time": "2024-12-08T12:25:19.540Z"
   },
   {
    "duration": 22,
    "start_time": "2024-12-08T12:25:19.601Z"
   },
   {
    "duration": 7,
    "start_time": "2024-12-08T12:25:19.626Z"
   },
   {
    "duration": 7,
    "start_time": "2024-12-08T12:25:19.635Z"
   },
   {
    "duration": 24,
    "start_time": "2024-12-08T12:25:19.644Z"
   },
   {
    "duration": 53,
    "start_time": "2024-12-08T12:25:19.669Z"
   },
   {
    "duration": 4,
    "start_time": "2024-12-08T12:25:19.724Z"
   },
   {
    "duration": 6,
    "start_time": "2024-12-08T12:25:19.730Z"
   },
   {
    "duration": 14,
    "start_time": "2024-12-08T12:25:19.737Z"
   },
   {
    "duration": 14,
    "start_time": "2024-12-08T12:25:19.753Z"
   },
   {
    "duration": 13,
    "start_time": "2024-12-08T12:25:19.769Z"
   },
   {
    "duration": 4,
    "start_time": "2024-12-08T12:25:19.784Z"
   },
   {
    "duration": 209,
    "start_time": "2024-12-08T12:25:19.820Z"
   },
   {
    "duration": 0,
    "start_time": "2024-12-08T12:25:20.031Z"
   },
   {
    "duration": 0,
    "start_time": "2024-12-08T12:25:20.033Z"
   },
   {
    "duration": 0,
    "start_time": "2024-12-08T12:25:20.035Z"
   },
   {
    "duration": 0,
    "start_time": "2024-12-08T12:25:20.036Z"
   },
   {
    "duration": 0,
    "start_time": "2024-12-08T12:25:20.037Z"
   },
   {
    "duration": 0,
    "start_time": "2024-12-08T12:25:20.039Z"
   },
   {
    "duration": 0,
    "start_time": "2024-12-08T12:25:20.040Z"
   },
   {
    "duration": 0,
    "start_time": "2024-12-08T12:25:20.041Z"
   },
   {
    "duration": 0,
    "start_time": "2024-12-08T12:25:20.043Z"
   },
   {
    "duration": 0,
    "start_time": "2024-12-08T12:25:20.044Z"
   },
   {
    "duration": 0,
    "start_time": "2024-12-08T12:25:20.046Z"
   },
   {
    "duration": 0,
    "start_time": "2024-12-08T12:25:20.047Z"
   },
   {
    "duration": 0,
    "start_time": "2024-12-08T12:25:20.048Z"
   },
   {
    "duration": 0,
    "start_time": "2024-12-08T12:25:20.049Z"
   },
   {
    "duration": 0,
    "start_time": "2024-12-08T12:25:20.050Z"
   },
   {
    "duration": 0,
    "start_time": "2024-12-08T12:25:20.051Z"
   },
   {
    "duration": 0,
    "start_time": "2024-12-08T12:25:20.052Z"
   },
   {
    "duration": 0,
    "start_time": "2024-12-08T12:25:20.053Z"
   },
   {
    "duration": 24,
    "start_time": "2024-12-08T12:25:39.315Z"
   },
   {
    "duration": 144,
    "start_time": "2024-12-08T12:25:48.709Z"
   },
   {
    "duration": 189,
    "start_time": "2024-12-08T12:26:12.775Z"
   },
   {
    "duration": 149,
    "start_time": "2024-12-08T12:26:24.405Z"
   },
   {
    "duration": 11,
    "start_time": "2024-12-08T12:26:45.843Z"
   },
   {
    "duration": 8,
    "start_time": "2024-12-08T12:26:51.279Z"
   },
   {
    "duration": 4,
    "start_time": "2024-12-08T12:26:57.660Z"
   },
   {
    "duration": 10,
    "start_time": "2024-12-08T12:27:11.324Z"
   },
   {
    "duration": 129,
    "start_time": "2024-12-08T12:27:42.384Z"
   },
   {
    "duration": 114,
    "start_time": "2024-12-08T12:28:31.712Z"
   },
   {
    "duration": 67,
    "start_time": "2024-12-08T12:28:58.460Z"
   },
   {
    "duration": 64,
    "start_time": "2024-12-08T12:29:01.952Z"
   },
   {
    "duration": 75,
    "start_time": "2024-12-08T12:29:05.916Z"
   },
   {
    "duration": 129,
    "start_time": "2024-12-08T12:29:12.197Z"
   },
   {
    "duration": 20,
    "start_time": "2024-12-08T12:29:55.010Z"
   },
   {
    "duration": 196,
    "start_time": "2024-12-08T12:32:20.592Z"
   },
   {
    "duration": 132,
    "start_time": "2024-12-08T12:35:23.883Z"
   },
   {
    "duration": 146,
    "start_time": "2024-12-08T12:35:31.716Z"
   },
   {
    "duration": 72,
    "start_time": "2024-12-08T12:36:06.468Z"
   },
   {
    "duration": 133,
    "start_time": "2024-12-08T12:36:27.963Z"
   },
   {
    "duration": 152,
    "start_time": "2024-12-08T12:37:36.920Z"
   },
   {
    "duration": 168,
    "start_time": "2024-12-08T12:38:00.556Z"
   },
   {
    "duration": 165,
    "start_time": "2024-12-08T12:38:05.356Z"
   },
   {
    "duration": 3,
    "start_time": "2024-12-08T12:50:03.613Z"
   },
   {
    "duration": 123,
    "start_time": "2024-12-08T12:50:03.618Z"
   },
   {
    "duration": 40,
    "start_time": "2024-12-08T12:50:03.743Z"
   },
   {
    "duration": 49,
    "start_time": "2024-12-08T12:50:03.785Z"
   },
   {
    "duration": 23,
    "start_time": "2024-12-08T12:50:03.837Z"
   },
   {
    "duration": 28,
    "start_time": "2024-12-08T12:50:03.861Z"
   },
   {
    "duration": 18,
    "start_time": "2024-12-08T12:50:03.890Z"
   },
   {
    "duration": 86,
    "start_time": "2024-12-08T12:50:03.910Z"
   },
   {
    "duration": 5,
    "start_time": "2024-12-08T12:50:03.998Z"
   },
   {
    "duration": 68,
    "start_time": "2024-12-08T12:50:04.004Z"
   },
   {
    "duration": 13,
    "start_time": "2024-12-08T12:50:04.074Z"
   },
   {
    "duration": 26,
    "start_time": "2024-12-08T12:50:04.088Z"
   },
   {
    "duration": 50,
    "start_time": "2024-12-08T12:50:04.116Z"
   },
   {
    "duration": 39,
    "start_time": "2024-12-08T12:50:04.168Z"
   },
   {
    "duration": 32,
    "start_time": "2024-12-08T12:50:04.209Z"
   },
   {
    "duration": 39,
    "start_time": "2024-12-08T12:50:04.243Z"
   },
   {
    "duration": 3,
    "start_time": "2024-12-08T12:50:04.284Z"
   },
   {
    "duration": 16,
    "start_time": "2024-12-08T12:50:04.288Z"
   },
   {
    "duration": 84,
    "start_time": "2024-12-08T12:50:04.305Z"
   },
   {
    "duration": 41,
    "start_time": "2024-12-08T12:50:04.390Z"
   },
   {
    "duration": 218,
    "start_time": "2024-12-08T12:50:04.433Z"
   },
   {
    "duration": 3,
    "start_time": "2024-12-08T12:50:53.605Z"
   },
   {
    "duration": 83,
    "start_time": "2024-12-08T12:50:53.610Z"
   },
   {
    "duration": 37,
    "start_time": "2024-12-08T12:50:53.695Z"
   },
   {
    "duration": 49,
    "start_time": "2024-12-08T12:50:53.734Z"
   },
   {
    "duration": 27,
    "start_time": "2024-12-08T12:50:53.786Z"
   },
   {
    "duration": 12,
    "start_time": "2024-12-08T12:50:53.815Z"
   },
   {
    "duration": 8,
    "start_time": "2024-12-08T12:50:53.828Z"
   },
   {
    "duration": 21,
    "start_time": "2024-12-08T12:50:53.838Z"
   },
   {
    "duration": 5,
    "start_time": "2024-12-08T12:50:53.860Z"
   },
   {
    "duration": 6,
    "start_time": "2024-12-08T12:50:53.867Z"
   },
   {
    "duration": 15,
    "start_time": "2024-12-08T12:50:53.875Z"
   },
   {
    "duration": 49,
    "start_time": "2024-12-08T12:50:53.892Z"
   },
   {
    "duration": 52,
    "start_time": "2024-12-08T12:50:53.942Z"
   },
   {
    "duration": 12,
    "start_time": "2024-12-08T12:50:53.996Z"
   },
   {
    "duration": 16,
    "start_time": "2024-12-08T12:50:54.010Z"
   },
   {
    "duration": 23,
    "start_time": "2024-12-08T12:50:54.028Z"
   },
   {
    "duration": 13,
    "start_time": "2024-12-08T12:50:54.052Z"
   },
   {
    "duration": 16,
    "start_time": "2024-12-08T12:50:54.067Z"
   },
   {
    "duration": 12,
    "start_time": "2024-12-08T12:50:54.085Z"
   },
   {
    "duration": 185,
    "start_time": "2024-12-08T12:50:54.099Z"
   },
   {
    "duration": 311,
    "start_time": "2024-12-08T12:50:54.285Z"
   },
   {
    "duration": 283,
    "start_time": "2024-12-08T12:50:54.598Z"
   },
   {
    "duration": 6,
    "start_time": "2024-12-08T12:50:54.883Z"
   },
   {
    "duration": 645,
    "start_time": "2024-12-08T12:50:54.891Z"
   },
   {
    "duration": 197,
    "start_time": "2024-12-08T12:50:55.537Z"
   },
   {
    "duration": 191,
    "start_time": "2024-12-08T12:50:55.736Z"
   },
   {
    "duration": 1558,
    "start_time": "2024-12-08T12:50:55.929Z"
   },
   {
    "duration": 35,
    "start_time": "2024-12-08T12:50:57.488Z"
   },
   {
    "duration": 192,
    "start_time": "2024-12-08T12:50:57.524Z"
   },
   {
    "duration": 537,
    "start_time": "2024-12-08T12:50:57.718Z"
   },
   {
    "duration": 145,
    "start_time": "2024-12-08T12:50:58.256Z"
   },
   {
    "duration": 0,
    "start_time": "2024-12-08T12:50:58.403Z"
   },
   {
    "duration": 0,
    "start_time": "2024-12-08T12:50:58.404Z"
   },
   {
    "duration": 0,
    "start_time": "2024-12-08T12:50:58.405Z"
   },
   {
    "duration": 0,
    "start_time": "2024-12-08T12:50:58.406Z"
   },
   {
    "duration": 0,
    "start_time": "2024-12-08T12:50:58.407Z"
   },
   {
    "duration": 0,
    "start_time": "2024-12-08T12:50:58.421Z"
   },
   {
    "duration": 0,
    "start_time": "2024-12-08T12:50:58.421Z"
   },
   {
    "duration": 328,
    "start_time": "2024-12-08T12:51:37.296Z"
   },
   {
    "duration": 289,
    "start_time": "2024-12-08T12:54:45.396Z"
   },
   {
    "duration": 429,
    "start_time": "2024-12-08T12:55:04.396Z"
   },
   {
    "duration": 214,
    "start_time": "2024-12-08T13:09:10.916Z"
   },
   {
    "duration": 231,
    "start_time": "2024-12-08T13:10:39.828Z"
   },
   {
    "duration": 217,
    "start_time": "2024-12-08T13:10:44.593Z"
   },
   {
    "duration": 216,
    "start_time": "2024-12-08T13:10:50.915Z"
   },
   {
    "duration": 212,
    "start_time": "2024-12-08T13:10:58.751Z"
   },
   {
    "duration": 224,
    "start_time": "2024-12-08T13:12:21.485Z"
   },
   {
    "duration": 222,
    "start_time": "2024-12-08T13:12:31.067Z"
   },
   {
    "duration": 242,
    "start_time": "2024-12-08T13:12:48.110Z"
   },
   {
    "duration": 225,
    "start_time": "2024-12-08T13:13:05.454Z"
   },
   {
    "duration": 645,
    "start_time": "2024-12-08T13:19:49.107Z"
   },
   {
    "duration": 751,
    "start_time": "2024-12-08T13:19:58.411Z"
   },
   {
    "duration": 11,
    "start_time": "2024-12-08T13:21:51.804Z"
   },
   {
    "duration": 18,
    "start_time": "2024-12-08T13:23:14.072Z"
   },
   {
    "duration": 14,
    "start_time": "2024-12-08T13:23:27.977Z"
   },
   {
    "duration": 4,
    "start_time": "2024-12-08T13:23:34.730Z"
   },
   {
    "duration": 86,
    "start_time": "2024-12-08T13:23:34.736Z"
   },
   {
    "duration": 50,
    "start_time": "2024-12-08T13:23:34.823Z"
   },
   {
    "duration": 16,
    "start_time": "2024-12-08T13:23:34.875Z"
   },
   {
    "duration": 34,
    "start_time": "2024-12-08T13:23:34.892Z"
   },
   {
    "duration": 15,
    "start_time": "2024-12-08T13:23:34.928Z"
   },
   {
    "duration": 18,
    "start_time": "2024-12-08T13:23:34.945Z"
   },
   {
    "duration": 20,
    "start_time": "2024-12-08T13:23:34.964Z"
   },
   {
    "duration": 4,
    "start_time": "2024-12-08T13:23:34.986Z"
   },
   {
    "duration": 29,
    "start_time": "2024-12-08T13:23:34.992Z"
   },
   {
    "duration": 5,
    "start_time": "2024-12-08T13:23:35.023Z"
   },
   {
    "duration": 28,
    "start_time": "2024-12-08T13:23:35.030Z"
   },
   {
    "duration": 22,
    "start_time": "2024-12-08T13:23:35.059Z"
   },
   {
    "duration": 3,
    "start_time": "2024-12-08T13:23:35.082Z"
   },
   {
    "duration": 7,
    "start_time": "2024-12-08T13:23:35.086Z"
   },
   {
    "duration": 39,
    "start_time": "2024-12-08T13:23:35.095Z"
   },
   {
    "duration": 17,
    "start_time": "2024-12-08T13:23:35.135Z"
   },
   {
    "duration": 24,
    "start_time": "2024-12-08T13:23:35.154Z"
   },
   {
    "duration": 5,
    "start_time": "2024-12-08T13:23:35.180Z"
   },
   {
    "duration": 188,
    "start_time": "2024-12-08T13:23:35.186Z"
   },
   {
    "duration": 385,
    "start_time": "2024-12-08T13:23:35.376Z"
   },
   {
    "duration": 230,
    "start_time": "2024-12-08T13:23:35.763Z"
   },
   {
    "duration": 6,
    "start_time": "2024-12-08T13:23:35.994Z"
   },
   {
    "duration": 668,
    "start_time": "2024-12-08T13:23:36.003Z"
   },
   {
    "duration": 13,
    "start_time": "2024-12-08T13:23:36.673Z"
   },
   {
    "duration": 204,
    "start_time": "2024-12-08T13:23:36.687Z"
   },
   {
    "duration": 188,
    "start_time": "2024-12-08T13:23:36.893Z"
   },
   {
    "duration": 1524,
    "start_time": "2024-12-08T13:23:37.082Z"
   },
   {
    "duration": 26,
    "start_time": "2024-12-08T13:23:38.608Z"
   },
   {
    "duration": 207,
    "start_time": "2024-12-08T13:23:38.635Z"
   },
   {
    "duration": 578,
    "start_time": "2024-12-08T13:23:38.845Z"
   },
   {
    "duration": 238,
    "start_time": "2024-12-08T13:23:39.425Z"
   },
   {
    "duration": 0,
    "start_time": "2024-12-08T13:23:39.665Z"
   },
   {
    "duration": 0,
    "start_time": "2024-12-08T13:23:39.720Z"
   },
   {
    "duration": 0,
    "start_time": "2024-12-08T13:23:39.722Z"
   },
   {
    "duration": 0,
    "start_time": "2024-12-08T13:23:39.723Z"
   },
   {
    "duration": 0,
    "start_time": "2024-12-08T13:23:39.725Z"
   },
   {
    "duration": 0,
    "start_time": "2024-12-08T13:23:39.726Z"
   },
   {
    "duration": 0,
    "start_time": "2024-12-08T13:23:39.726Z"
   },
   {
    "duration": 26,
    "start_time": "2024-12-08T13:23:58.615Z"
   },
   {
    "duration": 11,
    "start_time": "2024-12-08T13:24:23.987Z"
   },
   {
    "duration": 15,
    "start_time": "2024-12-08T13:24:32.571Z"
   },
   {
    "duration": 699,
    "start_time": "2024-12-08T13:24:56.641Z"
   },
   {
    "duration": 3,
    "start_time": "2024-12-08T13:25:04.780Z"
   },
   {
    "duration": 85,
    "start_time": "2024-12-08T13:25:04.785Z"
   },
   {
    "duration": 40,
    "start_time": "2024-12-08T13:25:04.871Z"
   },
   {
    "duration": 26,
    "start_time": "2024-12-08T13:25:04.920Z"
   },
   {
    "duration": 21,
    "start_time": "2024-12-08T13:25:04.949Z"
   },
   {
    "duration": 14,
    "start_time": "2024-12-08T13:25:04.972Z"
   },
   {
    "duration": 33,
    "start_time": "2024-12-08T13:25:04.988Z"
   },
   {
    "duration": 53,
    "start_time": "2024-12-08T13:25:05.023Z"
   },
   {
    "duration": 21,
    "start_time": "2024-12-08T13:25:05.078Z"
   },
   {
    "duration": 4,
    "start_time": "2024-12-08T13:25:05.101Z"
   },
   {
    "duration": 7,
    "start_time": "2024-12-08T13:25:05.107Z"
   },
   {
    "duration": 36,
    "start_time": "2024-12-08T13:25:05.115Z"
   },
   {
    "duration": 22,
    "start_time": "2024-12-08T13:25:05.153Z"
   },
   {
    "duration": 4,
    "start_time": "2024-12-08T13:25:05.178Z"
   },
   {
    "duration": 8,
    "start_time": "2024-12-08T13:25:05.184Z"
   },
   {
    "duration": 29,
    "start_time": "2024-12-08T13:25:05.193Z"
   },
   {
    "duration": 15,
    "start_time": "2024-12-08T13:25:05.224Z"
   },
   {
    "duration": 36,
    "start_time": "2024-12-08T13:25:05.241Z"
   },
   {
    "duration": 10,
    "start_time": "2024-12-08T13:25:05.279Z"
   },
   {
    "duration": 186,
    "start_time": "2024-12-08T13:25:05.290Z"
   },
   {
    "duration": 384,
    "start_time": "2024-12-08T13:25:05.478Z"
   },
   {
    "duration": 238,
    "start_time": "2024-12-08T13:25:05.863Z"
   },
   {
    "duration": 7,
    "start_time": "2024-12-08T13:25:06.102Z"
   },
   {
    "duration": 635,
    "start_time": "2024-12-08T13:25:06.122Z"
   },
   {
    "duration": 13,
    "start_time": "2024-12-08T13:25:06.758Z"
   },
   {
    "duration": 227,
    "start_time": "2024-12-08T13:25:06.772Z"
   },
   {
    "duration": 210,
    "start_time": "2024-12-08T13:25:07.000Z"
   },
   {
    "duration": 2154,
    "start_time": "2024-12-08T13:25:07.212Z"
   },
   {
    "duration": 78,
    "start_time": "2024-12-08T13:25:09.368Z"
   },
   {
    "duration": 509,
    "start_time": "2024-12-08T13:25:09.448Z"
   },
   {
    "duration": 1164,
    "start_time": "2024-12-08T13:25:09.959Z"
   },
   {
    "duration": 237,
    "start_time": "2024-12-08T13:25:11.125Z"
   },
   {
    "duration": 0,
    "start_time": "2024-12-08T13:25:11.363Z"
   },
   {
    "duration": 0,
    "start_time": "2024-12-08T13:25:11.365Z"
   },
   {
    "duration": 0,
    "start_time": "2024-12-08T13:25:11.421Z"
   },
   {
    "duration": 0,
    "start_time": "2024-12-08T13:25:11.423Z"
   },
   {
    "duration": 0,
    "start_time": "2024-12-08T13:25:11.424Z"
   },
   {
    "duration": 0,
    "start_time": "2024-12-08T13:25:11.425Z"
   },
   {
    "duration": 0,
    "start_time": "2024-12-08T13:25:11.426Z"
   },
   {
    "duration": 17,
    "start_time": "2024-12-08T13:26:00.083Z"
   },
   {
    "duration": 4,
    "start_time": "2024-12-08T13:27:28.643Z"
   },
   {
    "duration": 82,
    "start_time": "2024-12-08T13:27:28.649Z"
   },
   {
    "duration": 37,
    "start_time": "2024-12-08T13:27:28.733Z"
   },
   {
    "duration": 9,
    "start_time": "2024-12-08T13:27:28.771Z"
   },
   {
    "duration": 18,
    "start_time": "2024-12-08T13:27:28.783Z"
   },
   {
    "duration": 15,
    "start_time": "2024-12-08T13:27:28.822Z"
   },
   {
    "duration": 13,
    "start_time": "2024-12-08T13:27:28.839Z"
   },
   {
    "duration": 19,
    "start_time": "2024-12-08T13:27:28.854Z"
   },
   {
    "duration": 50,
    "start_time": "2024-12-08T13:27:28.875Z"
   },
   {
    "duration": 7,
    "start_time": "2024-12-08T13:27:28.927Z"
   },
   {
    "duration": 6,
    "start_time": "2024-12-08T13:27:28.938Z"
   },
   {
    "duration": 14,
    "start_time": "2024-12-08T13:27:28.947Z"
   },
   {
    "duration": 22,
    "start_time": "2024-12-08T13:27:28.962Z"
   },
   {
    "duration": 56,
    "start_time": "2024-12-08T13:27:28.985Z"
   },
   {
    "duration": 4,
    "start_time": "2024-12-08T13:27:29.043Z"
   },
   {
    "duration": 8,
    "start_time": "2024-12-08T13:27:29.049Z"
   },
   {
    "duration": 15,
    "start_time": "2024-12-08T13:27:29.058Z"
   },
   {
    "duration": 3,
    "start_time": "2024-12-08T13:27:29.074Z"
   },
   {
    "duration": 45,
    "start_time": "2024-12-08T13:27:29.079Z"
   },
   {
    "duration": 6,
    "start_time": "2024-12-08T13:27:29.127Z"
   },
   {
    "duration": 197,
    "start_time": "2024-12-08T13:27:29.135Z"
   },
   {
    "duration": 469,
    "start_time": "2024-12-08T13:27:29.334Z"
   },
   {
    "duration": 255,
    "start_time": "2024-12-08T13:27:29.804Z"
   },
   {
    "duration": 6,
    "start_time": "2024-12-08T13:27:30.061Z"
   },
   {
    "duration": 656,
    "start_time": "2024-12-08T13:27:30.069Z"
   },
   {
    "duration": 212,
    "start_time": "2024-12-08T13:27:30.727Z"
   },
   {
    "duration": 208,
    "start_time": "2024-12-08T13:27:30.941Z"
   },
   {
    "duration": 1502,
    "start_time": "2024-12-08T13:27:31.151Z"
   },
   {
    "duration": 22,
    "start_time": "2024-12-08T13:27:32.658Z"
   },
   {
    "duration": 203,
    "start_time": "2024-12-08T13:27:32.682Z"
   },
   {
    "duration": 564,
    "start_time": "2024-12-08T13:27:32.887Z"
   },
   {
    "duration": 151,
    "start_time": "2024-12-08T13:27:33.452Z"
   },
   {
    "duration": 0,
    "start_time": "2024-12-08T13:27:33.604Z"
   },
   {
    "duration": 0,
    "start_time": "2024-12-08T13:27:33.605Z"
   },
   {
    "duration": 0,
    "start_time": "2024-12-08T13:27:33.607Z"
   },
   {
    "duration": 0,
    "start_time": "2024-12-08T13:27:33.607Z"
   },
   {
    "duration": 0,
    "start_time": "2024-12-08T13:27:33.621Z"
   },
   {
    "duration": 0,
    "start_time": "2024-12-08T13:27:33.622Z"
   },
   {
    "duration": 0,
    "start_time": "2024-12-08T13:27:33.624Z"
   },
   {
    "duration": 615,
    "start_time": "2024-12-08T13:28:09.463Z"
   },
   {
    "duration": 113,
    "start_time": "2024-12-08T13:28:42.175Z"
   },
   {
    "duration": 591,
    "start_time": "2024-12-08T13:28:50.691Z"
   },
   {
    "duration": 626,
    "start_time": "2024-12-08T13:29:09.859Z"
   },
   {
    "duration": 741,
    "start_time": "2024-12-08T13:29:13.439Z"
   },
   {
    "duration": 610,
    "start_time": "2024-12-08T13:29:57.679Z"
   },
   {
    "duration": 553,
    "start_time": "2024-12-08T13:30:09.090Z"
   },
   {
    "duration": 648,
    "start_time": "2024-12-08T13:30:45.983Z"
   },
   {
    "duration": 553,
    "start_time": "2024-12-08T13:30:55.915Z"
   },
   {
    "duration": 579,
    "start_time": "2024-12-08T13:31:06.442Z"
   },
   {
    "duration": 575,
    "start_time": "2024-12-08T13:31:27.335Z"
   },
   {
    "duration": 341,
    "start_time": "2024-12-08T13:41:46.472Z"
   },
   {
    "duration": 210,
    "start_time": "2024-12-08T13:42:01.486Z"
   },
   {
    "duration": 208,
    "start_time": "2024-12-08T14:24:34.496Z"
   },
   {
    "duration": 1472,
    "start_time": "2024-12-08T14:25:42.906Z"
   },
   {
    "duration": 1633,
    "start_time": "2024-12-08T14:26:16.818Z"
   },
   {
    "duration": 1595,
    "start_time": "2024-12-08T14:29:00.741Z"
   },
   {
    "duration": 218,
    "start_time": "2024-12-08T14:33:23.261Z"
   },
   {
    "duration": 1421,
    "start_time": "2024-12-08T14:33:33.431Z"
   },
   {
    "duration": 23,
    "start_time": "2024-12-08T14:39:03.726Z"
   },
   {
    "duration": 23,
    "start_time": "2024-12-08T14:39:50.299Z"
   },
   {
    "duration": 30,
    "start_time": "2024-12-08T14:40:08.448Z"
   },
   {
    "duration": 14,
    "start_time": "2024-12-08T14:50:44.192Z"
   },
   {
    "duration": 27,
    "start_time": "2024-12-08T14:50:54.638Z"
   },
   {
    "duration": 1709,
    "start_time": "2024-12-08T14:56:35.899Z"
   },
   {
    "duration": 175,
    "start_time": "2024-12-08T14:56:42.631Z"
   },
   {
    "duration": 208,
    "start_time": "2024-12-08T14:57:38.598Z"
   },
   {
    "duration": 195,
    "start_time": "2024-12-08T14:58:36.462Z"
   },
   {
    "duration": 222,
    "start_time": "2024-12-08T14:59:07.210Z"
   },
   {
    "duration": 557,
    "start_time": "2024-12-08T15:03:38.750Z"
   },
   {
    "duration": 678,
    "start_time": "2024-12-08T15:04:45.165Z"
   },
   {
    "duration": 509,
    "start_time": "2024-12-08T15:05:10.082Z"
   },
   {
    "duration": 485,
    "start_time": "2024-12-08T15:06:03.729Z"
   },
   {
    "duration": 12,
    "start_time": "2024-12-08T15:07:30.422Z"
   },
   {
    "duration": 17,
    "start_time": "2024-12-08T15:07:47.462Z"
   },
   {
    "duration": 16,
    "start_time": "2024-12-08T15:08:10.657Z"
   },
   {
    "duration": 18,
    "start_time": "2024-12-08T15:08:28.510Z"
   },
   {
    "duration": 16,
    "start_time": "2024-12-08T15:08:39.458Z"
   },
   {
    "duration": 1046,
    "start_time": "2024-12-08T15:11:23.642Z"
   },
   {
    "duration": 31,
    "start_time": "2024-12-08T15:11:32.726Z"
   },
   {
    "duration": 660,
    "start_time": "2024-12-08T15:12:32.030Z"
   },
   {
    "duration": 70,
    "start_time": "2024-12-08T15:12:35.566Z"
   },
   {
    "duration": 631,
    "start_time": "2024-12-08T15:12:53.938Z"
   },
   {
    "duration": 314,
    "start_time": "2024-12-08T15:15:14.507Z"
   },
   {
    "duration": 360,
    "start_time": "2024-12-08T15:15:41.597Z"
   },
   {
    "duration": 458,
    "start_time": "2024-12-08T15:17:28.942Z"
   },
   {
    "duration": 486,
    "start_time": "2024-12-08T15:17:35.102Z"
   },
   {
    "duration": 470,
    "start_time": "2024-12-08T15:17:41.929Z"
   },
   {
    "duration": 610,
    "start_time": "2024-12-08T15:17:47.570Z"
   },
   {
    "duration": 582,
    "start_time": "2024-12-08T15:19:02.126Z"
   },
   {
    "duration": 608,
    "start_time": "2024-12-08T15:19:15.799Z"
   },
   {
    "duration": 580,
    "start_time": "2024-12-08T15:19:26.814Z"
   },
   {
    "duration": 757,
    "start_time": "2024-12-08T15:19:33.038Z"
   },
   {
    "duration": 494,
    "start_time": "2024-12-08T15:19:38.450Z"
   },
   {
    "duration": 580,
    "start_time": "2024-12-08T15:19:41.282Z"
   },
   {
    "duration": 701,
    "start_time": "2024-12-08T15:23:46.863Z"
   },
   {
    "duration": 25,
    "start_time": "2024-12-08T15:36:07.659Z"
   },
   {
    "duration": 153,
    "start_time": "2024-12-08T15:38:05.602Z"
   },
   {
    "duration": 959,
    "start_time": "2024-12-08T15:38:30.310Z"
   },
   {
    "duration": 829,
    "start_time": "2024-12-08T15:39:12.498Z"
   },
   {
    "duration": 889,
    "start_time": "2024-12-08T15:40:15.949Z"
   },
   {
    "duration": 842,
    "start_time": "2024-12-08T15:41:10.075Z"
   },
   {
    "duration": 679,
    "start_time": "2024-12-08T15:41:33.146Z"
   },
   {
    "duration": 25,
    "start_time": "2024-12-08T15:51:53.469Z"
   },
   {
    "duration": 431,
    "start_time": "2024-12-08T15:52:59.863Z"
   },
   {
    "duration": 422,
    "start_time": "2024-12-08T15:53:30.331Z"
   },
   {
    "duration": 7,
    "start_time": "2024-12-08T16:16:43.614Z"
   },
   {
    "duration": 9,
    "start_time": "2024-12-08T16:17:21.694Z"
   },
   {
    "duration": 8,
    "start_time": "2024-12-08T16:20:22.578Z"
   },
   {
    "duration": 10,
    "start_time": "2024-12-08T16:22:22.626Z"
   },
   {
    "duration": 8,
    "start_time": "2024-12-08T16:22:37.138Z"
   },
   {
    "duration": 8,
    "start_time": "2024-12-08T16:22:40.698Z"
   },
   {
    "duration": 10,
    "start_time": "2024-12-08T16:23:16.189Z"
   },
   {
    "duration": 3,
    "start_time": "2024-12-08T16:42:36.529Z"
   },
   {
    "duration": 107,
    "start_time": "2024-12-08T16:42:36.534Z"
   },
   {
    "duration": 35,
    "start_time": "2024-12-08T16:42:36.642Z"
   },
   {
    "duration": 32,
    "start_time": "2024-12-08T16:42:36.679Z"
   },
   {
    "duration": 11,
    "start_time": "2024-12-08T16:42:36.714Z"
   },
   {
    "duration": 11,
    "start_time": "2024-12-08T16:42:36.726Z"
   },
   {
    "duration": 24,
    "start_time": "2024-12-08T16:42:36.738Z"
   },
   {
    "duration": 20,
    "start_time": "2024-12-08T16:42:36.764Z"
   },
   {
    "duration": 6,
    "start_time": "2024-12-08T16:42:36.786Z"
   },
   {
    "duration": 7,
    "start_time": "2024-12-08T16:42:36.821Z"
   },
   {
    "duration": 16,
    "start_time": "2024-12-08T16:42:36.829Z"
   },
   {
    "duration": 20,
    "start_time": "2024-12-08T16:42:36.847Z"
   },
   {
    "duration": 24,
    "start_time": "2024-12-08T16:42:36.868Z"
   },
   {
    "duration": 3,
    "start_time": "2024-12-08T16:42:36.895Z"
   },
   {
    "duration": 23,
    "start_time": "2024-12-08T16:42:36.899Z"
   },
   {
    "duration": 22,
    "start_time": "2024-12-08T16:42:36.923Z"
   },
   {
    "duration": 3,
    "start_time": "2024-12-08T16:42:36.946Z"
   },
   {
    "duration": 15,
    "start_time": "2024-12-08T16:42:36.950Z"
   },
   {
    "duration": 11,
    "start_time": "2024-12-08T16:42:36.967Z"
   },
   {
    "duration": 171,
    "start_time": "2024-12-08T16:42:36.979Z"
   },
   {
    "duration": 359,
    "start_time": "2024-12-08T16:42:37.151Z"
   },
   {
    "duration": 224,
    "start_time": "2024-12-08T16:42:37.511Z"
   },
   {
    "duration": 6,
    "start_time": "2024-12-08T16:42:37.736Z"
   },
   {
    "duration": 559,
    "start_time": "2024-12-08T16:42:37.744Z"
   },
   {
    "duration": 215,
    "start_time": "2024-12-08T16:42:38.305Z"
   },
   {
    "duration": 1581,
    "start_time": "2024-12-08T16:42:38.522Z"
   },
   {
    "duration": 32,
    "start_time": "2024-12-08T16:42:40.104Z"
   },
   {
    "duration": 201,
    "start_time": "2024-12-08T16:42:40.137Z"
   },
   {
    "duration": 24,
    "start_time": "2024-12-08T16:42:40.339Z"
   },
   {
    "duration": 693,
    "start_time": "2024-12-08T16:42:40.364Z"
   },
   {
    "duration": 184,
    "start_time": "2024-12-08T16:42:41.058Z"
   },
   {
    "duration": 497,
    "start_time": "2024-12-08T16:42:41.243Z"
   },
   {
    "duration": 24,
    "start_time": "2024-12-08T16:42:41.742Z"
   },
   {
    "duration": 415,
    "start_time": "2024-12-08T16:42:41.767Z"
   },
   {
    "duration": 9,
    "start_time": "2024-12-08T16:42:42.183Z"
   },
   {
    "duration": 26,
    "start_time": "2024-12-08T16:42:42.193Z"
   },
   {
    "duration": 27,
    "start_time": "2024-12-08T16:42:42.220Z"
   },
   {
    "duration": 35,
    "start_time": "2024-12-08T16:42:42.249Z"
   },
   {
    "duration": 23,
    "start_time": "2024-12-08T16:42:42.285Z"
   },
   {
    "duration": 1226,
    "start_time": "2024-12-08T18:50:47.999Z"
   },
   {
    "duration": 144,
    "start_time": "2024-12-08T18:50:49.227Z"
   },
   {
    "duration": 38,
    "start_time": "2024-12-08T18:50:49.373Z"
   },
   {
    "duration": 38,
    "start_time": "2024-12-08T18:50:49.414Z"
   },
   {
    "duration": 11,
    "start_time": "2024-12-08T18:50:49.454Z"
   },
   {
    "duration": 12,
    "start_time": "2024-12-08T18:50:49.467Z"
   },
   {
    "duration": 23,
    "start_time": "2024-12-08T18:50:49.481Z"
   },
   {
    "duration": 86,
    "start_time": "2024-12-08T18:50:49.506Z"
   },
   {
    "duration": 5,
    "start_time": "2024-12-08T18:50:49.594Z"
   },
   {
    "duration": 12,
    "start_time": "2024-12-08T18:50:49.602Z"
   },
   {
    "duration": 15,
    "start_time": "2024-12-08T18:50:49.616Z"
   },
   {
    "duration": 34,
    "start_time": "2024-12-08T18:50:49.633Z"
   },
   {
    "duration": 24,
    "start_time": "2024-12-08T18:50:49.669Z"
   },
   {
    "duration": 4,
    "start_time": "2024-12-08T18:50:49.694Z"
   },
   {
    "duration": 10,
    "start_time": "2024-12-08T18:50:49.699Z"
   },
   {
    "duration": 39,
    "start_time": "2024-12-08T18:50:49.711Z"
   },
   {
    "duration": 4,
    "start_time": "2024-12-08T18:50:49.752Z"
   },
   {
    "duration": 15,
    "start_time": "2024-12-08T18:50:49.758Z"
   },
   {
    "duration": 5,
    "start_time": "2024-12-08T18:50:49.775Z"
   },
   {
    "duration": 216,
    "start_time": "2024-12-08T18:50:49.781Z"
   },
   {
    "duration": 355,
    "start_time": "2024-12-08T18:50:49.999Z"
   },
   {
    "duration": 251,
    "start_time": "2024-12-08T18:50:50.356Z"
   },
   {
    "duration": 7,
    "start_time": "2024-12-08T18:50:50.609Z"
   },
   {
    "duration": 635,
    "start_time": "2024-12-08T18:50:50.617Z"
   },
   {
    "duration": 255,
    "start_time": "2024-12-08T18:50:51.254Z"
   },
   {
    "duration": 1693,
    "start_time": "2024-12-08T18:50:51.511Z"
   },
   {
    "duration": 26,
    "start_time": "2024-12-08T18:50:53.205Z"
   },
   {
    "duration": 221,
    "start_time": "2024-12-08T18:50:53.249Z"
   },
   {
    "duration": 27,
    "start_time": "2024-12-08T18:50:53.471Z"
   },
   {
    "duration": 769,
    "start_time": "2024-12-08T18:50:53.500Z"
   },
   {
    "duration": 147,
    "start_time": "2024-12-08T18:50:54.271Z"
   },
   {
    "duration": 622,
    "start_time": "2024-12-08T18:50:54.419Z"
   },
   {
    "duration": 29,
    "start_time": "2024-12-08T18:50:55.049Z"
   },
   {
    "duration": 459,
    "start_time": "2024-12-08T18:50:55.079Z"
   },
   {
    "duration": 119,
    "start_time": "2024-12-08T18:50:55.539Z"
   },
   {
    "duration": 0,
    "start_time": "2024-12-08T18:50:55.659Z"
   },
   {
    "duration": 0,
    "start_time": "2024-12-08T18:50:55.661Z"
   },
   {
    "duration": 0,
    "start_time": "2024-12-08T18:50:55.662Z"
   },
   {
    "duration": 0,
    "start_time": "2024-12-08T18:50:55.663Z"
   },
   {
    "duration": 56,
    "start_time": "2024-12-08T19:52:18.349Z"
   },
   {
    "duration": 1307,
    "start_time": "2024-12-08T19:52:22.628Z"
   },
   {
    "duration": 237,
    "start_time": "2024-12-08T19:52:23.938Z"
   },
   {
    "duration": 38,
    "start_time": "2024-12-08T19:52:24.177Z"
   },
   {
    "duration": 20,
    "start_time": "2024-12-08T19:52:24.217Z"
   },
   {
    "duration": 31,
    "start_time": "2024-12-08T19:52:24.239Z"
   },
   {
    "duration": 23,
    "start_time": "2024-12-08T19:52:24.272Z"
   },
   {
    "duration": 20,
    "start_time": "2024-12-08T19:52:24.297Z"
   },
   {
    "duration": 77,
    "start_time": "2024-12-08T19:52:24.319Z"
   },
   {
    "duration": 5,
    "start_time": "2024-12-08T19:52:24.398Z"
   },
   {
    "duration": 7,
    "start_time": "2024-12-08T19:52:24.407Z"
   },
   {
    "duration": 7,
    "start_time": "2024-12-08T19:52:24.415Z"
   },
   {
    "duration": 46,
    "start_time": "2024-12-08T19:52:24.424Z"
   },
   {
    "duration": 26,
    "start_time": "2024-12-08T19:52:24.471Z"
   },
   {
    "duration": 12,
    "start_time": "2024-12-08T19:52:24.498Z"
   },
   {
    "duration": 10,
    "start_time": "2024-12-08T19:52:24.512Z"
   },
   {
    "duration": 21,
    "start_time": "2024-12-08T19:52:24.523Z"
   },
   {
    "duration": 17,
    "start_time": "2024-12-08T19:52:24.545Z"
   },
   {
    "duration": 29,
    "start_time": "2024-12-08T19:52:24.563Z"
   },
   {
    "duration": 41,
    "start_time": "2024-12-08T19:52:24.594Z"
   },
   {
    "duration": 181,
    "start_time": "2024-12-08T19:52:24.637Z"
   },
   {
    "duration": 354,
    "start_time": "2024-12-08T19:52:24.819Z"
   },
   {
    "duration": 242,
    "start_time": "2024-12-08T19:52:25.175Z"
   },
   {
    "duration": 6,
    "start_time": "2024-12-08T19:52:25.418Z"
   },
   {
    "duration": 628,
    "start_time": "2024-12-08T19:52:25.425Z"
   },
   {
    "duration": 230,
    "start_time": "2024-12-08T19:52:26.055Z"
   },
   {
    "duration": 1629,
    "start_time": "2024-12-08T19:52:26.286Z"
   },
   {
    "duration": 25,
    "start_time": "2024-12-08T19:52:27.918Z"
   },
   {
    "duration": 213,
    "start_time": "2024-12-08T19:52:27.962Z"
   },
   {
    "duration": 34,
    "start_time": "2024-12-08T19:52:28.176Z"
   },
   {
    "duration": 774,
    "start_time": "2024-12-08T19:52:28.212Z"
   },
   {
    "duration": 141,
    "start_time": "2024-12-08T19:52:28.988Z"
   },
   {
    "duration": 554,
    "start_time": "2024-12-08T19:52:29.131Z"
   },
   {
    "duration": 24,
    "start_time": "2024-12-08T19:52:29.687Z"
   },
   {
    "duration": 443,
    "start_time": "2024-12-08T19:52:29.712Z"
   },
   {
    "duration": 7,
    "start_time": "2024-12-08T19:52:30.156Z"
   },
   {
    "duration": 29,
    "start_time": "2024-12-08T19:52:30.164Z"
   },
   {
    "duration": 48,
    "start_time": "2024-12-08T19:52:30.194Z"
   },
   {
    "duration": 34,
    "start_time": "2024-12-08T19:52:30.243Z"
   },
   {
    "duration": 21,
    "start_time": "2024-12-08T19:52:30.279Z"
   },
   {
    "duration": 1308,
    "start_time": "2024-12-09T17:06:10.777Z"
   },
   {
    "duration": 138,
    "start_time": "2024-12-09T17:06:12.087Z"
   },
   {
    "duration": 107,
    "start_time": "2024-12-09T17:06:12.227Z"
   },
   {
    "duration": 0,
    "start_time": "2024-12-09T17:06:12.336Z"
   },
   {
    "duration": 0,
    "start_time": "2024-12-09T17:06:12.338Z"
   },
   {
    "duration": 0,
    "start_time": "2024-12-09T17:06:12.339Z"
   },
   {
    "duration": 0,
    "start_time": "2024-12-09T17:06:12.340Z"
   },
   {
    "duration": 0,
    "start_time": "2024-12-09T17:06:12.341Z"
   },
   {
    "duration": 0,
    "start_time": "2024-12-09T17:06:12.342Z"
   },
   {
    "duration": 0,
    "start_time": "2024-12-09T17:06:12.343Z"
   },
   {
    "duration": 0,
    "start_time": "2024-12-09T17:06:12.344Z"
   },
   {
    "duration": 0,
    "start_time": "2024-12-09T17:06:12.345Z"
   },
   {
    "duration": 0,
    "start_time": "2024-12-09T17:06:12.346Z"
   },
   {
    "duration": 0,
    "start_time": "2024-12-09T17:06:12.347Z"
   },
   {
    "duration": 0,
    "start_time": "2024-12-09T17:06:12.349Z"
   },
   {
    "duration": 0,
    "start_time": "2024-12-09T17:06:12.350Z"
   },
   {
    "duration": 0,
    "start_time": "2024-12-09T17:06:12.351Z"
   },
   {
    "duration": 0,
    "start_time": "2024-12-09T17:06:12.352Z"
   },
   {
    "duration": 0,
    "start_time": "2024-12-09T17:06:12.353Z"
   },
   {
    "duration": 0,
    "start_time": "2024-12-09T17:06:12.353Z"
   },
   {
    "duration": 18,
    "start_time": "2024-12-09T17:06:14.665Z"
   },
   {
    "duration": 3,
    "start_time": "2024-12-09T17:06:44.801Z"
   },
   {
    "duration": 88,
    "start_time": "2024-12-09T17:06:44.812Z"
   },
   {
    "duration": 10,
    "start_time": "2024-12-09T17:06:44.902Z"
   },
   {
    "duration": 0,
    "start_time": "2024-12-09T17:06:44.914Z"
   },
   {
    "duration": 0,
    "start_time": "2024-12-09T17:06:44.915Z"
   },
   {
    "duration": 0,
    "start_time": "2024-12-09T17:06:44.916Z"
   },
   {
    "duration": 0,
    "start_time": "2024-12-09T17:06:44.917Z"
   },
   {
    "duration": 0,
    "start_time": "2024-12-09T17:06:44.918Z"
   },
   {
    "duration": 0,
    "start_time": "2024-12-09T17:06:44.919Z"
   },
   {
    "duration": 0,
    "start_time": "2024-12-09T17:06:44.920Z"
   },
   {
    "duration": 0,
    "start_time": "2024-12-09T17:06:44.930Z"
   },
   {
    "duration": 0,
    "start_time": "2024-12-09T17:06:44.931Z"
   },
   {
    "duration": 0,
    "start_time": "2024-12-09T17:06:44.932Z"
   },
   {
    "duration": 0,
    "start_time": "2024-12-09T17:06:44.934Z"
   },
   {
    "duration": 0,
    "start_time": "2024-12-09T17:06:44.934Z"
   },
   {
    "duration": 0,
    "start_time": "2024-12-09T17:06:44.935Z"
   },
   {
    "duration": 0,
    "start_time": "2024-12-09T17:06:44.936Z"
   },
   {
    "duration": 0,
    "start_time": "2024-12-09T17:06:44.937Z"
   },
   {
    "duration": 0,
    "start_time": "2024-12-09T17:06:44.939Z"
   },
   {
    "duration": 0,
    "start_time": "2024-12-09T17:06:44.939Z"
   },
   {
    "duration": 3,
    "start_time": "2024-12-09T17:07:06.701Z"
   },
   {
    "duration": 108,
    "start_time": "2024-12-09T17:07:06.716Z"
   },
   {
    "duration": 11,
    "start_time": "2024-12-09T17:07:06.827Z"
   },
   {
    "duration": 0,
    "start_time": "2024-12-09T17:07:06.841Z"
   },
   {
    "duration": 0,
    "start_time": "2024-12-09T17:07:06.842Z"
   },
   {
    "duration": 0,
    "start_time": "2024-12-09T17:07:06.843Z"
   },
   {
    "duration": 0,
    "start_time": "2024-12-09T17:07:06.845Z"
   },
   {
    "duration": 0,
    "start_time": "2024-12-09T17:07:06.846Z"
   },
   {
    "duration": 0,
    "start_time": "2024-12-09T17:07:06.848Z"
   },
   {
    "duration": 0,
    "start_time": "2024-12-09T17:07:06.849Z"
   },
   {
    "duration": 0,
    "start_time": "2024-12-09T17:07:06.851Z"
   },
   {
    "duration": 0,
    "start_time": "2024-12-09T17:07:06.852Z"
   },
   {
    "duration": 1,
    "start_time": "2024-12-09T17:07:06.853Z"
   },
   {
    "duration": 0,
    "start_time": "2024-12-09T17:07:06.855Z"
   },
   {
    "duration": 0,
    "start_time": "2024-12-09T17:07:06.857Z"
   },
   {
    "duration": 0,
    "start_time": "2024-12-09T17:07:06.858Z"
   },
   {
    "duration": 0,
    "start_time": "2024-12-09T17:07:06.859Z"
   },
   {
    "duration": 0,
    "start_time": "2024-12-09T17:07:06.861Z"
   },
   {
    "duration": 0,
    "start_time": "2024-12-09T17:07:06.862Z"
   },
   {
    "duration": 0,
    "start_time": "2024-12-09T17:07:06.864Z"
   },
   {
    "duration": 0,
    "start_time": "2024-12-09T17:07:06.865Z"
   },
   {
    "duration": 0,
    "start_time": "2024-12-09T17:07:06.866Z"
   },
   {
    "duration": 0,
    "start_time": "2024-12-09T17:07:06.868Z"
   },
   {
    "duration": 0,
    "start_time": "2024-12-09T17:07:06.869Z"
   },
   {
    "duration": 0,
    "start_time": "2024-12-09T17:07:06.871Z"
   },
   {
    "duration": 0,
    "start_time": "2024-12-09T17:07:06.872Z"
   },
   {
    "duration": 0,
    "start_time": "2024-12-09T17:07:06.873Z"
   },
   {
    "duration": 0,
    "start_time": "2024-12-09T17:07:06.875Z"
   },
   {
    "duration": 0,
    "start_time": "2024-12-09T17:07:06.876Z"
   },
   {
    "duration": 0,
    "start_time": "2024-12-09T17:07:06.877Z"
   },
   {
    "duration": 0,
    "start_time": "2024-12-09T17:07:06.931Z"
   },
   {
    "duration": 0,
    "start_time": "2024-12-09T17:07:06.932Z"
   },
   {
    "duration": 0,
    "start_time": "2024-12-09T17:07:06.934Z"
   },
   {
    "duration": 0,
    "start_time": "2024-12-09T17:07:06.935Z"
   },
   {
    "duration": 0,
    "start_time": "2024-12-09T17:07:06.937Z"
   },
   {
    "duration": 0,
    "start_time": "2024-12-09T17:07:06.938Z"
   },
   {
    "duration": 0,
    "start_time": "2024-12-09T17:07:06.940Z"
   },
   {
    "duration": 0,
    "start_time": "2024-12-09T17:07:06.941Z"
   },
   {
    "duration": 0,
    "start_time": "2024-12-09T17:07:06.942Z"
   },
   {
    "duration": 3,
    "start_time": "2024-12-09T17:07:46.088Z"
   },
   {
    "duration": 86,
    "start_time": "2024-12-09T17:07:46.096Z"
   },
   {
    "duration": 50,
    "start_time": "2024-12-09T17:07:46.184Z"
   },
   {
    "duration": 20,
    "start_time": "2024-12-09T17:07:46.236Z"
   },
   {
    "duration": 106,
    "start_time": "2024-12-09T17:07:46.258Z"
   },
   {
    "duration": 36,
    "start_time": "2024-12-09T17:07:46.366Z"
   },
   {
    "duration": 20,
    "start_time": "2024-12-09T17:07:46.404Z"
   },
   {
    "duration": 57,
    "start_time": "2024-12-09T17:07:46.425Z"
   },
   {
    "duration": 5,
    "start_time": "2024-12-09T17:07:46.484Z"
   },
   {
    "duration": 5,
    "start_time": "2024-12-09T17:07:46.490Z"
   },
   {
    "duration": 19,
    "start_time": "2024-12-09T17:07:46.497Z"
   },
   {
    "duration": 40,
    "start_time": "2024-12-09T17:07:46.518Z"
   },
   {
    "duration": 110,
    "start_time": "2024-12-09T17:07:46.559Z"
   },
   {
    "duration": 4,
    "start_time": "2024-12-09T17:07:46.671Z"
   },
   {
    "duration": 89,
    "start_time": "2024-12-09T17:07:46.677Z"
   },
   {
    "duration": 28,
    "start_time": "2024-12-09T17:07:46.768Z"
   },
   {
    "duration": 13,
    "start_time": "2024-12-09T17:07:46.798Z"
   },
   {
    "duration": 17,
    "start_time": "2024-12-09T17:07:46.812Z"
   },
   {
    "duration": 22,
    "start_time": "2024-12-09T17:07:46.831Z"
   },
   {
    "duration": 180,
    "start_time": "2024-12-09T17:07:51.696Z"
   },
   {
    "duration": 333,
    "start_time": "2024-12-09T17:07:58.413Z"
   },
   {
    "duration": 334,
    "start_time": "2024-12-09T17:08:03.919Z"
   },
   {
    "duration": 339,
    "start_time": "2024-12-09T17:08:14.796Z"
   },
   {
    "duration": 389,
    "start_time": "2024-12-09T17:09:40.304Z"
   },
   {
    "duration": 326,
    "start_time": "2024-12-09T17:10:05.324Z"
   },
   {
    "duration": 316,
    "start_time": "2024-12-09T17:10:38.864Z"
   },
   {
    "duration": 337,
    "start_time": "2024-12-09T17:11:04.708Z"
   },
   {
    "duration": 328,
    "start_time": "2024-12-09T17:11:18.788Z"
   },
   {
    "duration": 423,
    "start_time": "2024-12-09T17:11:25.260Z"
   },
   {
    "duration": 221,
    "start_time": "2024-12-09T17:12:20.192Z"
   },
   {
    "duration": 6,
    "start_time": "2024-12-09T17:13:15.704Z"
   },
   {
    "duration": 525,
    "start_time": "2024-12-09T17:14:03.432Z"
   },
   {
    "duration": 204,
    "start_time": "2024-12-09T17:14:23.792Z"
   },
   {
    "duration": 200,
    "start_time": "2024-12-09T17:16:21.920Z"
   },
   {
    "duration": 200,
    "start_time": "2024-12-09T17:16:39.664Z"
   },
   {
    "duration": 200,
    "start_time": "2024-12-09T17:17:40.720Z"
   },
   {
    "duration": 11,
    "start_time": "2024-12-09T17:18:39.928Z"
   },
   {
    "duration": 3,
    "start_time": "2024-12-09T17:19:10.561Z"
   },
   {
    "duration": 77,
    "start_time": "2024-12-09T17:19:10.566Z"
   },
   {
    "duration": 35,
    "start_time": "2024-12-09T17:19:10.644Z"
   },
   {
    "duration": 16,
    "start_time": "2024-12-09T17:19:10.681Z"
   },
   {
    "duration": 35,
    "start_time": "2024-12-09T17:19:10.698Z"
   },
   {
    "duration": 22,
    "start_time": "2024-12-09T17:19:10.735Z"
   },
   {
    "duration": 24,
    "start_time": "2024-12-09T17:19:10.759Z"
   },
   {
    "duration": 19,
    "start_time": "2024-12-09T17:19:10.785Z"
   },
   {
    "duration": 6,
    "start_time": "2024-12-09T17:19:10.806Z"
   },
   {
    "duration": 7,
    "start_time": "2024-12-09T17:19:10.813Z"
   },
   {
    "duration": 11,
    "start_time": "2024-12-09T17:19:10.829Z"
   },
   {
    "duration": 19,
    "start_time": "2024-12-09T17:19:10.841Z"
   },
   {
    "duration": 24,
    "start_time": "2024-12-09T17:19:10.862Z"
   },
   {
    "duration": 3,
    "start_time": "2024-12-09T17:19:10.887Z"
   },
   {
    "duration": 16,
    "start_time": "2024-12-09T17:19:10.892Z"
   },
   {
    "duration": 28,
    "start_time": "2024-12-09T17:19:10.909Z"
   },
   {
    "duration": 5,
    "start_time": "2024-12-09T17:19:10.939Z"
   },
   {
    "duration": 54,
    "start_time": "2024-12-09T17:19:10.946Z"
   },
   {
    "duration": 29,
    "start_time": "2024-12-09T17:19:11.002Z"
   },
   {
    "duration": 189,
    "start_time": "2024-12-09T17:19:11.033Z"
   },
   {
    "duration": 408,
    "start_time": "2024-12-09T17:19:11.224Z"
   },
   {
    "duration": 238,
    "start_time": "2024-12-09T17:19:11.634Z"
   },
   {
    "duration": 6,
    "start_time": "2024-12-09T17:19:11.873Z"
   },
   {
    "duration": 533,
    "start_time": "2024-12-09T17:19:11.882Z"
   },
   {
    "duration": 217,
    "start_time": "2024-12-09T17:19:12.417Z"
   },
   {
    "duration": 208,
    "start_time": "2024-12-09T17:19:17.932Z"
   },
   {
    "duration": 147,
    "start_time": "2024-12-09T17:19:33.632Z"
   },
   {
    "duration": 141,
    "start_time": "2024-12-09T17:19:40.772Z"
   },
   {
    "duration": 11,
    "start_time": "2024-12-09T17:20:12.572Z"
   },
   {
    "duration": 12,
    "start_time": "2024-12-09T17:20:55.174Z"
   },
   {
    "duration": 1603,
    "start_time": "2024-12-09T17:21:31.750Z"
   },
   {
    "duration": 24,
    "start_time": "2024-12-09T17:21:44.263Z"
   },
   {
    "duration": 206,
    "start_time": "2024-12-09T17:21:49.983Z"
   },
   {
    "duration": 204,
    "start_time": "2024-12-09T17:22:07.855Z"
   },
   {
    "duration": 197,
    "start_time": "2024-12-09T17:22:23.870Z"
   },
   {
    "duration": 25,
    "start_time": "2024-12-09T17:24:51.516Z"
   },
   {
    "duration": 807,
    "start_time": "2024-12-09T17:24:55.898Z"
   },
   {
    "duration": 26,
    "start_time": "2024-12-09T17:25:56.414Z"
   },
   {
    "duration": 541,
    "start_time": "2024-12-09T17:26:09.602Z"
   },
   {
    "duration": 25,
    "start_time": "2024-12-09T17:28:45.550Z"
   },
   {
    "duration": 394,
    "start_time": "2024-12-09T17:28:47.247Z"
   },
   {
    "duration": 6,
    "start_time": "2024-12-09T17:28:57.976Z"
   },
   {
    "duration": 8,
    "start_time": "2024-12-09T17:28:59.449Z"
   },
   {
    "duration": 9,
    "start_time": "2024-12-09T17:29:02.610Z"
   },
   {
    "duration": 8,
    "start_time": "2024-12-09T17:29:06.206Z"
   },
   {
    "duration": 10,
    "start_time": "2024-12-09T17:29:08.154Z"
   },
   {
    "duration": 3,
    "start_time": "2024-12-09T17:41:38.435Z"
   },
   {
    "duration": 97,
    "start_time": "2024-12-09T17:41:38.440Z"
   },
   {
    "duration": 37,
    "start_time": "2024-12-09T17:41:38.539Z"
   },
   {
    "duration": 17,
    "start_time": "2024-12-09T17:41:38.578Z"
   },
   {
    "duration": 36,
    "start_time": "2024-12-09T17:41:38.597Z"
   },
   {
    "duration": 9,
    "start_time": "2024-12-09T17:41:38.635Z"
   },
   {
    "duration": 17,
    "start_time": "2024-12-09T17:41:38.645Z"
   },
   {
    "duration": 26,
    "start_time": "2024-12-09T17:41:38.664Z"
   },
   {
    "duration": 5,
    "start_time": "2024-12-09T17:41:38.691Z"
   },
   {
    "duration": 34,
    "start_time": "2024-12-09T17:41:38.698Z"
   },
   {
    "duration": 5,
    "start_time": "2024-12-09T17:41:38.735Z"
   },
   {
    "duration": 23,
    "start_time": "2024-12-09T17:41:38.741Z"
   },
   {
    "duration": 21,
    "start_time": "2024-12-09T17:41:38.766Z"
   },
   {
    "duration": 7,
    "start_time": "2024-12-09T17:41:38.788Z"
   },
   {
    "duration": 13,
    "start_time": "2024-12-09T17:41:38.796Z"
   },
   {
    "duration": 94,
    "start_time": "2024-12-09T17:41:38.810Z"
   },
   {
    "duration": 2,
    "start_time": "2024-12-09T17:41:38.906Z"
   },
   {
    "duration": 20,
    "start_time": "2024-12-09T17:41:38.910Z"
   },
   {
    "duration": 16,
    "start_time": "2024-12-09T17:41:38.931Z"
   },
   {
    "duration": 171,
    "start_time": "2024-12-09T17:41:38.949Z"
   },
   {
    "duration": 328,
    "start_time": "2024-12-09T17:41:39.129Z"
   },
   {
    "duration": 232,
    "start_time": "2024-12-09T17:41:39.458Z"
   },
   {
    "duration": 7,
    "start_time": "2024-12-09T17:41:39.692Z"
   },
   {
    "duration": 554,
    "start_time": "2024-12-09T17:41:39.700Z"
   },
   {
    "duration": 325,
    "start_time": "2024-12-09T17:41:40.256Z"
   },
   {
    "duration": 12,
    "start_time": "2024-12-09T17:41:40.584Z"
   },
   {
    "duration": 0,
    "start_time": "2024-12-09T17:41:40.599Z"
   },
   {
    "duration": 0,
    "start_time": "2024-12-09T17:41:40.600Z"
   },
   {
    "duration": 0,
    "start_time": "2024-12-09T17:41:40.601Z"
   },
   {
    "duration": 0,
    "start_time": "2024-12-09T17:41:40.603Z"
   },
   {
    "duration": 0,
    "start_time": "2024-12-09T17:41:40.604Z"
   },
   {
    "duration": 0,
    "start_time": "2024-12-09T17:41:40.631Z"
   },
   {
    "duration": 0,
    "start_time": "2024-12-09T17:41:40.632Z"
   },
   {
    "duration": 0,
    "start_time": "2024-12-09T17:41:40.634Z"
   },
   {
    "duration": 0,
    "start_time": "2024-12-09T17:41:40.635Z"
   },
   {
    "duration": 0,
    "start_time": "2024-12-09T17:41:40.637Z"
   },
   {
    "duration": 0,
    "start_time": "2024-12-09T17:41:40.638Z"
   },
   {
    "duration": 0,
    "start_time": "2024-12-09T17:41:40.640Z"
   },
   {
    "duration": 0,
    "start_time": "2024-12-09T17:41:40.642Z"
   },
   {
    "duration": 0,
    "start_time": "2024-12-09T17:41:40.644Z"
   },
   {
    "duration": 208,
    "start_time": "2024-12-09T17:42:00.331Z"
   },
   {
    "duration": 11,
    "start_time": "2024-12-09T17:42:44.539Z"
   },
   {
    "duration": 200,
    "start_time": "2024-12-09T17:42:50.319Z"
   },
   {
    "duration": 3,
    "start_time": "2024-12-09T17:48:42.320Z"
   },
   {
    "duration": 79,
    "start_time": "2024-12-09T17:48:42.325Z"
   },
   {
    "duration": 40,
    "start_time": "2024-12-09T17:48:42.406Z"
   },
   {
    "duration": 16,
    "start_time": "2024-12-09T17:48:42.447Z"
   },
   {
    "duration": 9,
    "start_time": "2024-12-09T17:48:42.465Z"
   },
   {
    "duration": 13,
    "start_time": "2024-12-09T17:48:42.475Z"
   },
   {
    "duration": 16,
    "start_time": "2024-12-09T17:48:42.490Z"
   },
   {
    "duration": 20,
    "start_time": "2024-12-09T17:48:42.530Z"
   },
   {
    "duration": 5,
    "start_time": "2024-12-09T17:48:42.551Z"
   },
   {
    "duration": 3,
    "start_time": "2024-12-09T17:48:42.558Z"
   },
   {
    "duration": 5,
    "start_time": "2024-12-09T17:48:42.563Z"
   },
   {
    "duration": 18,
    "start_time": "2024-12-09T17:48:42.570Z"
   },
   {
    "duration": 59,
    "start_time": "2024-12-09T17:48:42.590Z"
   },
   {
    "duration": 4,
    "start_time": "2024-12-09T17:48:42.650Z"
   },
   {
    "duration": 8,
    "start_time": "2024-12-09T17:48:42.655Z"
   },
   {
    "duration": 14,
    "start_time": "2024-12-09T17:48:42.665Z"
   },
   {
    "duration": 3,
    "start_time": "2024-12-09T17:48:42.680Z"
   },
   {
    "duration": 16,
    "start_time": "2024-12-09T17:48:42.684Z"
   },
   {
    "duration": 31,
    "start_time": "2024-12-09T17:48:42.701Z"
   },
   {
    "duration": 182,
    "start_time": "2024-12-09T17:48:42.734Z"
   },
   {
    "duration": 430,
    "start_time": "2024-12-09T17:48:42.918Z"
   },
   {
    "duration": 228,
    "start_time": "2024-12-09T17:48:43.350Z"
   },
   {
    "duration": 6,
    "start_time": "2024-12-09T17:48:43.580Z"
   },
   {
    "duration": 539,
    "start_time": "2024-12-09T17:48:43.588Z"
   },
   {
    "duration": 211,
    "start_time": "2024-12-09T17:48:44.130Z"
   },
   {
    "duration": 201,
    "start_time": "2024-12-09T17:48:44.343Z"
   },
   {
    "duration": 0,
    "start_time": "2024-12-09T17:48:44.546Z"
   },
   {
    "duration": 1,
    "start_time": "2024-12-09T17:48:44.547Z"
   },
   {
    "duration": 0,
    "start_time": "2024-12-09T17:48:44.549Z"
   },
   {
    "duration": 0,
    "start_time": "2024-12-09T17:48:44.550Z"
   },
   {
    "duration": 0,
    "start_time": "2024-12-09T17:48:44.551Z"
   },
   {
    "duration": 0,
    "start_time": "2024-12-09T17:48:44.552Z"
   },
   {
    "duration": 0,
    "start_time": "2024-12-09T17:48:44.553Z"
   },
   {
    "duration": 0,
    "start_time": "2024-12-09T17:48:44.554Z"
   },
   {
    "duration": 0,
    "start_time": "2024-12-09T17:48:44.556Z"
   },
   {
    "duration": 0,
    "start_time": "2024-12-09T17:48:44.557Z"
   },
   {
    "duration": 0,
    "start_time": "2024-12-09T17:48:44.558Z"
   },
   {
    "duration": 0,
    "start_time": "2024-12-09T17:48:44.559Z"
   },
   {
    "duration": 0,
    "start_time": "2024-12-09T17:48:44.560Z"
   },
   {
    "duration": 0,
    "start_time": "2024-12-09T17:48:44.561Z"
   },
   {
    "duration": 1484,
    "start_time": "2024-12-09T20:22:30.483Z"
   },
   {
    "duration": 141,
    "start_time": "2024-12-09T20:22:31.969Z"
   },
   {
    "duration": 37,
    "start_time": "2024-12-09T20:22:32.112Z"
   },
   {
    "duration": 21,
    "start_time": "2024-12-09T20:22:32.151Z"
   },
   {
    "duration": 34,
    "start_time": "2024-12-09T20:22:32.173Z"
   },
   {
    "duration": 10,
    "start_time": "2024-12-09T20:22:32.209Z"
   },
   {
    "duration": 29,
    "start_time": "2024-12-09T20:22:32.221Z"
   },
   {
    "duration": 80,
    "start_time": "2024-12-09T20:22:32.252Z"
   },
   {
    "duration": 5,
    "start_time": "2024-12-09T20:22:32.333Z"
   },
   {
    "duration": 7,
    "start_time": "2024-12-09T20:22:32.341Z"
   },
   {
    "duration": 28,
    "start_time": "2024-12-09T20:22:32.350Z"
   },
   {
    "duration": 40,
    "start_time": "2024-12-09T20:22:32.379Z"
   },
   {
    "duration": 24,
    "start_time": "2024-12-09T20:22:32.421Z"
   },
   {
    "duration": 3,
    "start_time": "2024-12-09T20:22:32.447Z"
   },
   {
    "duration": 33,
    "start_time": "2024-12-09T20:22:32.452Z"
   },
   {
    "duration": 31,
    "start_time": "2024-12-09T20:22:32.487Z"
   },
   {
    "duration": 17,
    "start_time": "2024-12-09T20:22:32.520Z"
   },
   {
    "duration": 32,
    "start_time": "2024-12-09T20:22:32.539Z"
   },
   {
    "duration": 16,
    "start_time": "2024-12-09T20:22:32.573Z"
   },
   {
    "duration": 204,
    "start_time": "2024-12-09T20:22:32.590Z"
   },
   {
    "duration": 369,
    "start_time": "2024-12-09T20:22:32.797Z"
   },
   {
    "duration": 282,
    "start_time": "2024-12-09T20:22:33.168Z"
   },
   {
    "duration": 7,
    "start_time": "2024-12-09T20:22:33.452Z"
   },
   {
    "duration": 603,
    "start_time": "2024-12-09T20:22:33.460Z"
   },
   {
    "duration": 261,
    "start_time": "2024-12-09T20:22:34.065Z"
   },
   {
    "duration": 310,
    "start_time": "2024-12-09T20:22:34.328Z"
   },
   {
    "duration": 1683,
    "start_time": "2024-12-09T20:22:34.640Z"
   },
   {
    "duration": 24,
    "start_time": "2024-12-09T20:22:36.326Z"
   },
   {
    "duration": 267,
    "start_time": "2024-12-09T20:22:36.352Z"
   },
   {
    "duration": 27,
    "start_time": "2024-12-09T20:22:36.621Z"
   },
   {
    "duration": 1254,
    "start_time": "2024-12-09T20:22:36.650Z"
   },
   {
    "duration": 30,
    "start_time": "2024-12-09T20:22:37.905Z"
   },
   {
    "duration": 1415,
    "start_time": "2024-12-09T20:22:37.937Z"
   },
   {
    "duration": 51,
    "start_time": "2024-12-09T20:22:39.354Z"
   },
   {
    "duration": 474,
    "start_time": "2024-12-09T20:22:39.407Z"
   },
   {
    "duration": 13,
    "start_time": "2024-12-09T20:22:39.882Z"
   },
   {
    "duration": 11,
    "start_time": "2024-12-09T20:22:39.896Z"
   },
   {
    "duration": 11,
    "start_time": "2024-12-09T20:22:39.910Z"
   },
   {
    "duration": 11,
    "start_time": "2024-12-09T20:22:39.922Z"
   },
   {
    "duration": 13,
    "start_time": "2024-12-09T20:22:39.935Z"
   },
   {
    "duration": 232,
    "start_time": "2024-12-09T20:23:00.754Z"
   },
   {
    "duration": 1741,
    "start_time": "2024-12-09T20:25:01.435Z"
   },
   {
    "duration": 25,
    "start_time": "2024-12-09T20:25:13.118Z"
   },
   {
    "duration": 6,
    "start_time": "2024-12-09T20:29:50.299Z"
   },
   {
    "duration": 136,
    "start_time": "2024-12-09T20:29:50.308Z"
   },
   {
    "duration": 59,
    "start_time": "2024-12-09T20:29:50.447Z"
   },
   {
    "duration": 19,
    "start_time": "2024-12-09T20:29:50.507Z"
   },
   {
    "duration": 35,
    "start_time": "2024-12-09T20:29:50.528Z"
   },
   {
    "duration": 69,
    "start_time": "2024-12-09T20:29:50.565Z"
   },
   {
    "duration": 40,
    "start_time": "2024-12-09T20:29:50.635Z"
   },
   {
    "duration": 59,
    "start_time": "2024-12-09T20:29:50.677Z"
   },
   {
    "duration": 8,
    "start_time": "2024-12-09T20:29:50.738Z"
   },
   {
    "duration": 39,
    "start_time": "2024-12-09T20:29:50.747Z"
   },
   {
    "duration": 35,
    "start_time": "2024-12-09T20:29:50.788Z"
   },
   {
    "duration": 48,
    "start_time": "2024-12-09T20:29:50.824Z"
   },
   {
    "duration": 53,
    "start_time": "2024-12-09T20:29:50.873Z"
   },
   {
    "duration": 12,
    "start_time": "2024-12-09T20:29:50.929Z"
   },
   {
    "duration": 81,
    "start_time": "2024-12-09T20:29:50.943Z"
   },
   {
    "duration": 43,
    "start_time": "2024-12-09T20:29:51.026Z"
   },
   {
    "duration": 35,
    "start_time": "2024-12-09T20:29:51.071Z"
   },
   {
    "duration": 51,
    "start_time": "2024-12-09T20:29:51.110Z"
   },
   {
    "duration": 24,
    "start_time": "2024-12-09T20:29:51.163Z"
   },
   {
    "duration": 210,
    "start_time": "2024-12-09T20:29:51.189Z"
   },
   {
    "duration": 393,
    "start_time": "2024-12-09T20:29:51.401Z"
   },
   {
    "duration": 252,
    "start_time": "2024-12-09T20:29:51.796Z"
   },
   {
    "duration": 7,
    "start_time": "2024-12-09T20:29:52.050Z"
   },
   {
    "duration": 582,
    "start_time": "2024-12-09T20:29:52.058Z"
   },
   {
    "duration": 235,
    "start_time": "2024-12-09T20:29:52.642Z"
   },
   {
    "duration": 267,
    "start_time": "2024-12-09T20:29:52.879Z"
   },
   {
    "duration": 1805,
    "start_time": "2024-12-09T20:29:53.147Z"
   },
   {
    "duration": 23,
    "start_time": "2024-12-09T20:29:54.954Z"
   },
   {
    "duration": 254,
    "start_time": "2024-12-09T20:29:54.996Z"
   },
   {
    "duration": 42,
    "start_time": "2024-12-09T20:29:55.251Z"
   },
   {
    "duration": 769,
    "start_time": "2024-12-09T20:29:55.295Z"
   },
   {
    "duration": 159,
    "start_time": "2024-12-09T20:29:56.065Z"
   },
   {
    "duration": 634,
    "start_time": "2024-12-09T20:29:56.226Z"
   },
   {
    "duration": 37,
    "start_time": "2024-12-09T20:29:56.861Z"
   },
   {
    "duration": 484,
    "start_time": "2024-12-09T20:29:56.901Z"
   },
   {
    "duration": 13,
    "start_time": "2024-12-09T20:29:57.396Z"
   },
   {
    "duration": 17,
    "start_time": "2024-12-09T20:29:57.411Z"
   },
   {
    "duration": 28,
    "start_time": "2024-12-09T20:29:57.430Z"
   },
   {
    "duration": 51,
    "start_time": "2024-12-09T20:29:57.460Z"
   },
   {
    "duration": 47,
    "start_time": "2024-12-09T20:29:57.513Z"
   },
   {
    "duration": 1134,
    "start_time": "2024-12-10T09:56:02.210Z"
   },
   {
    "duration": 211,
    "start_time": "2024-12-10T09:56:03.346Z"
   },
   {
    "duration": 40,
    "start_time": "2024-12-10T09:56:03.559Z"
   },
   {
    "duration": 39,
    "start_time": "2024-12-10T09:56:03.600Z"
   },
   {
    "duration": 31,
    "start_time": "2024-12-10T09:56:03.640Z"
   },
   {
    "duration": 15,
    "start_time": "2024-12-10T09:56:03.673Z"
   },
   {
    "duration": 48,
    "start_time": "2024-12-10T09:56:03.690Z"
   },
   {
    "duration": 56,
    "start_time": "2024-12-10T09:56:03.740Z"
   },
   {
    "duration": 5,
    "start_time": "2024-12-10T09:56:03.798Z"
   },
   {
    "duration": 11,
    "start_time": "2024-12-10T09:56:03.806Z"
   },
   {
    "duration": 11,
    "start_time": "2024-12-10T09:56:03.818Z"
   },
   {
    "duration": 32,
    "start_time": "2024-12-10T09:56:03.831Z"
   },
   {
    "duration": 33,
    "start_time": "2024-12-10T09:56:03.867Z"
   },
   {
    "duration": 13,
    "start_time": "2024-12-10T09:56:03.902Z"
   },
   {
    "duration": 13,
    "start_time": "2024-12-10T09:56:03.917Z"
   },
   {
    "duration": 91,
    "start_time": "2024-12-10T09:56:03.933Z"
   },
   {
    "duration": 3,
    "start_time": "2024-12-10T09:56:04.025Z"
   },
   {
    "duration": 27,
    "start_time": "2024-12-10T09:56:04.030Z"
   },
   {
    "duration": 8,
    "start_time": "2024-12-10T09:56:04.059Z"
   },
   {
    "duration": 298,
    "start_time": "2024-12-10T09:56:04.069Z"
   },
   {
    "duration": 699,
    "start_time": "2024-12-10T09:56:04.369Z"
   },
   {
    "duration": 512,
    "start_time": "2024-12-10T09:56:05.070Z"
   },
   {
    "duration": 5,
    "start_time": "2024-12-10T09:56:05.584Z"
   },
   {
    "duration": 558,
    "start_time": "2024-12-10T09:56:05.590Z"
   },
   {
    "duration": 227,
    "start_time": "2024-12-10T09:56:06.152Z"
   },
   {
    "duration": 280,
    "start_time": "2024-12-10T09:56:06.381Z"
   },
   {
    "duration": 1434,
    "start_time": "2024-12-10T09:56:06.663Z"
   },
   {
    "duration": 22,
    "start_time": "2024-12-10T09:56:08.102Z"
   },
   {
    "duration": 209,
    "start_time": "2024-12-10T09:56:08.125Z"
   },
   {
    "duration": 32,
    "start_time": "2024-12-10T09:56:08.336Z"
   },
   {
    "duration": 746,
    "start_time": "2024-12-10T09:56:08.369Z"
   },
   {
    "duration": 37,
    "start_time": "2024-12-10T09:56:09.117Z"
   },
   {
    "duration": 512,
    "start_time": "2024-12-10T09:56:09.158Z"
   },
   {
    "duration": 23,
    "start_time": "2024-12-10T09:56:09.672Z"
   },
   {
    "duration": 387,
    "start_time": "2024-12-10T09:56:09.696Z"
   },
   {
    "duration": 5,
    "start_time": "2024-12-10T09:56:10.084Z"
   },
   {
    "duration": 45,
    "start_time": "2024-12-10T09:56:10.091Z"
   },
   {
    "duration": 69,
    "start_time": "2024-12-10T09:56:10.138Z"
   },
   {
    "duration": 23,
    "start_time": "2024-12-10T09:56:10.208Z"
   },
   {
    "duration": 15,
    "start_time": "2024-12-10T09:56:10.233Z"
   },
   {
    "duration": 77,
    "start_time": "2024-12-10T09:57:57.063Z"
   }
  ],
  "kernelspec": {
   "display_name": "Python 3 (ipykernel)",
   "language": "python",
   "name": "python3"
  },
  "language_info": {
   "codemirror_mode": {
    "name": "ipython",
    "version": 3
   },
   "file_extension": ".py",
   "mimetype": "text/x-python",
   "name": "python",
   "nbconvert_exporter": "python",
   "pygments_lexer": "ipython3",
   "version": "3.9.18"
  },
  "toc": {
   "base_numbering": 1,
   "nav_menu": {},
   "number_sections": true,
   "sideBar": true,
   "skip_h1_title": true,
   "title_cell": "Table of Contents",
   "title_sidebar": "Анализ рынка компьютерных игр",
   "toc_cell": false,
   "toc_position": {
    "height": "calc(100% - 180px)",
    "left": "10px",
    "top": "150px",
    "width": "393.865px"
   },
   "toc_section_display": true,
   "toc_window_display": true
  }
 },
 "nbformat": 4,
 "nbformat_minor": 2
}
